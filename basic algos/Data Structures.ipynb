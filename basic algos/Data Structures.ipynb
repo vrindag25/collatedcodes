{
 "cells": [
  {
   "cell_type": "markdown",
   "id": "dc0755e5",
   "metadata": {},
   "source": [
    "**Credits Upgrad**"
   ]
  },
  {
   "cell_type": "code",
   "execution_count": 1,
   "id": "9102abfd",
   "metadata": {
    "ExecuteTime": {
     "end_time": "2022-12-07T14:25:37.914693Z",
     "start_time": "2022-12-07T14:25:35.930098Z"
    }
   },
   "outputs": [],
   "source": [
    "import numpy as np\n",
    "# import pdb"
   ]
  },
  {
   "cell_type": "markdown",
   "id": "113da525",
   "metadata": {},
   "source": [
    "# Data Structures"
   ]
  },
  {
   "cell_type": "markdown",
   "id": "dfc97801",
   "metadata": {},
   "source": [
    "Data structures refer to the collection or group of data in a particular structure."
   ]
  },
  {
   "cell_type": "markdown",
   "id": "bc9e5de7",
   "metadata": {},
   "source": [
    "## Lists"
   ]
  },
  {
   "cell_type": "markdown",
   "id": "dc9ace03",
   "metadata": {},
   "source": [
    "Lists are the most commonly used data structure. Think of it as a sequence of data that is enclosed in square brackets and data are separated by a comma. Each of these data can be accessed by calling it's index value.\n",
    "\n",
    "Lists are declared by just equating a variable to '[ ]' or list. We can use lists to hold an ordered sequence of values."
   ]
  },
  {
   "cell_type": "code",
   "execution_count": 2,
   "id": "f41a0e85",
   "metadata": {
    "ExecuteTime": {
     "end_time": "2022-10-05T03:23:24.729307Z",
     "start_time": "2022-10-05T03:23:24.710661Z"
    }
   },
   "outputs": [
    {
     "name": "stdout",
     "output_type": "stream",
     "text": [
      "['first', 'second', 'third']\n"
     ]
    }
   ],
   "source": [
    "l = ['first', 'second', 'third']\n",
    "print(l)"
   ]
  },
  {
   "cell_type": "markdown",
   "id": "7122b790",
   "metadata": {},
   "source": [
    "Lists can contain different types of variable, even in the same list."
   ]
  },
  {
   "cell_type": "code",
   "execution_count": 3,
   "id": "0d2a727c",
   "metadata": {
    "ExecuteTime": {
     "end_time": "2022-10-05T03:23:24.741564Z",
     "start_time": "2022-10-05T03:23:24.735066Z"
    }
   },
   "outputs": [
    {
     "name": "stdout",
     "output_type": "stream",
     "text": [
      "['first', 'second', 'third', 1, 2, 3]\n"
     ]
    }
   ],
   "source": [
    "another_list = ['first', 'second', 'third', 1, 2, 3]\n",
    "print(another_list)"
   ]
  },
  {
   "cell_type": "code",
   "execution_count": 4,
   "id": "a517c8de",
   "metadata": {
    "ExecuteTime": {
     "end_time": "2022-10-05T03:23:24.768217Z",
     "start_time": "2022-10-05T03:23:24.749173Z"
    }
   },
   "outputs": [
    {
     "name": "stdout",
     "output_type": "stream",
     "text": [
      "[[1, 2, 3, 4], [1, 2, 3, 4], [1, 2, 3, 4]]\n",
      "[[1, 2, 45, 4], [1, 2, 45, 4], [1, 2, 45, 4]]\n"
     ]
    }
   ],
   "source": [
    "myList = [1,2,3,4]\n",
    "A = [myList]*3\n",
    "print(A)\n",
    "myList[2]=45\n",
    "print(A)"
   ]
  },
  {
   "cell_type": "markdown",
   "id": "b0b0da9f",
   "metadata": {},
   "source": [
    "Lists are mutable; their contents can change as more statements are interpreted."
   ]
  },
  {
   "cell_type": "code",
   "execution_count": 5,
   "id": "9bb45675",
   "metadata": {
    "ExecuteTime": {
     "end_time": "2022-10-05T03:23:24.776641Z",
     "start_time": "2022-10-05T03:23:24.770796Z"
    }
   },
   "outputs": [
    {
     "name": "stdout",
     "output_type": "stream",
     "text": [
      "['first', 'second', 'third', 'fourth']\n"
     ]
    }
   ],
   "source": [
    "l.append('fourth')\n",
    "print(l)"
   ]
  },
  {
   "cell_type": "code",
   "execution_count": 6,
   "id": "29c5a092",
   "metadata": {
    "ExecuteTime": {
     "end_time": "2022-10-05T03:23:24.791537Z",
     "start_time": "2022-10-05T03:23:24.779792Z"
    }
   },
   "outputs": [],
   "source": [
    "list_one = [1, 2, 3]\n",
    "list_two = list_one"
   ]
  },
  {
   "cell_type": "markdown",
   "id": "5b06d507",
   "metadata": {},
   "source": [
    "- The above code creates two different references (named `list_one` and `list_two`) to the *same* value `[1, 2, 3]`\n",
    "\n",
    "- Because lists are mutable, changing them can have side-effects on other variables.\n",
    "\n",
    "- If we append something to `list_one` what will happen to `list_two`?"
   ]
  },
  {
   "cell_type": "code",
   "execution_count": 7,
   "id": "6470bcfe",
   "metadata": {
    "ExecuteTime": {
     "end_time": "2022-10-05T03:23:24.814753Z",
     "start_time": "2022-10-05T03:23:24.794187Z"
    }
   },
   "outputs": [
    {
     "data": {
      "text/plain": [
       "[1, 2, 3, 4]"
      ]
     },
     "execution_count": 7,
     "metadata": {},
     "output_type": "execute_result"
    }
   ],
   "source": [
    "list_one.append(4)\n",
    "list_one"
   ]
  },
  {
   "cell_type": "code",
   "execution_count": 8,
   "id": "c39fc166",
   "metadata": {
    "ExecuteTime": {
     "end_time": "2022-10-05T03:23:24.829805Z",
     "start_time": "2022-10-05T03:23:24.818683Z"
    }
   },
   "outputs": [
    {
     "data": {
      "text/plain": [
       "[1, 2, 3, 4]"
      ]
     },
     "execution_count": 8,
     "metadata": {},
     "output_type": "execute_result"
    }
   ],
   "source": [
    "list_two"
   ]
  },
  {
   "cell_type": "markdown",
   "id": "7ce7c922",
   "metadata": {},
   "source": [
    "# List Methods"
   ]
  },
  {
   "cell_type": "markdown",
   "id": "24d9b275",
   "metadata": {},
   "source": [
    "| Method Name | Use | Explanation |\n",
    "|----|---|\n",
    "| append | alist.append(item) | Adds a new item to the end of a list |<br>\n",
    "| insert\t| alist.insert(i,item) |\tInserts an item at the ith position in a list |<br>\n",
    "|**pop**\t|alist.pop()\t|Removes and returns the last item in a list|<br>\n",
    "|pop|\talist.pop(i)|\tRemoves and returns the ith item in a list|<br>\n",
    "|sort|\talist.sort()|\tModifies a list to be sorted|<br>\n",
    "|reverse|\talist.reverse()|\tModifies a list to be in reverse order|<br>\n",
    "|del|\tdel alist[i]|\tDeletes the item in the ith position|<br>\n",
    "|index|\talist.index(item)|\tReturns the index of the first occurrence of item|<br>\n",
    "|count|\talist.count(item)|\tReturns the number of occurrences of item|<br>\n",
    "|remove|\talist.remove(item)|\tRemoves the first occurrence of item|"
   ]
  },
  {
   "cell_type": "code",
   "execution_count": 9,
   "id": "c8ae6be8",
   "metadata": {
    "ExecuteTime": {
     "end_time": "2022-10-05T03:23:24.858206Z",
     "start_time": "2022-10-05T03:23:24.835426Z"
    }
   },
   "outputs": [
    {
     "data": {
      "text/plain": [
       "([], [3, 2, 1, 0])"
      ]
     },
     "execution_count": 9,
     "metadata": {},
     "output_type": "execute_result"
    }
   ],
   "source": [
    "ls = list(np.arange(0,4))\n",
    "ls1= []\n",
    "for i in range(len(ls)):\n",
    "#     print(ls.pop())\n",
    "    ls1.append(ls.pop())\n",
    "ls,ls1"
   ]
  },
  {
   "cell_type": "code",
   "execution_count": 10,
   "id": "f196fbb6",
   "metadata": {
    "ExecuteTime": {
     "end_time": "2022-10-05T03:23:24.883360Z",
     "start_time": "2022-10-05T03:23:24.861853Z"
    }
   },
   "outputs": [
    {
     "data": {
      "text/plain": [
       "[0, 1, 2, 3]"
      ]
     },
     "execution_count": 10,
     "metadata": {},
     "output_type": "execute_result"
    }
   ],
   "source": [
    "ls1.reverse()\n",
    "ls1"
   ]
  },
  {
   "cell_type": "markdown",
   "id": "399d09b9",
   "metadata": {},
   "source": [
    "# State and identity\n",
    "\n",
    "- The state referred to by a variable is *different* from its identity.\n",
    "\n",
    "- To compare *state* use the `==` operator.\n",
    "\n",
    "- To compare *identity* use the `is` operator.\n",
    "\n",
    "- When we compare identity we check **equality of references**.\n",
    "\n",
    "- When we compare state we check equality of values.\n"
   ]
  },
  {
   "cell_type": "code",
   "execution_count": 11,
   "id": "6afeaed3",
   "metadata": {
    "ExecuteTime": {
     "end_time": "2022-10-05T03:23:24.892135Z",
     "start_time": "2022-10-05T03:23:24.885585Z"
    }
   },
   "outputs": [],
   "source": [
    "X = [1, 2]\n",
    "Y = [1]\n",
    "Y.append(2)"
   ]
  },
  {
   "cell_type": "code",
   "execution_count": 12,
   "id": "195f2627",
   "metadata": {
    "ExecuteTime": {
     "end_time": "2022-10-05T03:23:24.916216Z",
     "start_time": "2022-10-05T03:23:24.894978Z"
    }
   },
   "outputs": [
    {
     "data": {
      "text/plain": [
       "True"
      ]
     },
     "execution_count": 12,
     "metadata": {},
     "output_type": "execute_result"
    }
   ],
   "source": [
    "X == Y"
   ]
  },
  {
   "cell_type": "code",
   "execution_count": 13,
   "id": "4739fe49",
   "metadata": {
    "ExecuteTime": {
     "end_time": "2022-10-05T03:23:24.932787Z",
     "start_time": "2022-10-05T03:23:24.916216Z"
    }
   },
   "outputs": [
    {
     "data": {
      "text/plain": [
       "False"
      ]
     },
     "execution_count": 13,
     "metadata": {},
     "output_type": "execute_result"
    }
   ],
   "source": [
    "X is Y"
   ]
  },
  {
   "cell_type": "code",
   "execution_count": 14,
   "id": "544d3925",
   "metadata": {
    "ExecuteTime": {
     "end_time": "2022-10-05T03:23:24.950262Z",
     "start_time": "2022-10-05T03:23:24.935044Z"
    }
   },
   "outputs": [
    {
     "data": {
      "text/plain": [
       "[1, 2]"
      ]
     },
     "execution_count": 14,
     "metadata": {},
     "output_type": "execute_result"
    }
   ],
   "source": [
    "Y.append(3)\n",
    "X"
   ]
  },
  {
   "cell_type": "markdown",
   "id": "b63a6684",
   "metadata": {},
   "source": [
    "## List Indexing\n",
    "\n",
    "- Lists can be indexed using square brackets to retrieve the element stored in a particular position.  \n",
    "- Indexing is exactly similar to indexing in strings except that indexing in lists returns the entire item at that position whereas in strings, the character at that position is returned\n",
    "\n",
    "\n",
    "\n"
   ]
  },
  {
   "cell_type": "code",
   "execution_count": 15,
   "id": "d03bfc39",
   "metadata": {
    "ExecuteTime": {
     "end_time": "2022-10-05T03:23:24.965016Z",
     "start_time": "2022-10-05T03:23:24.953934Z"
    }
   },
   "outputs": [
    {
     "name": "stdout",
     "output_type": "stream",
     "text": [
      "first\n",
      "second\n"
     ]
    }
   ],
   "source": [
    "print(l[0])\n",
    "print(l[1])"
   ]
  },
  {
   "cell_type": "markdown",
   "id": "d05a92d1",
   "metadata": {},
   "source": [
    "## List  Slicing\n",
    "\n",
    "Indexing was only limited to accessing a single element, Slicing on the other hand is accessing a sequence of data inside the list. In other words \"slicing\" the list.\n",
    "\n",
    "Slicing is done by defining the index values of the first element and the last element from the parent list that is required in the sliced list. It is written as parentlist[ a : b ] where a,b are the index values from the parent list. If a or b is not defined then the index value is considered to be the first value for a if a is not defined and the last value for b when b is not defined."
   ]
  },
  {
   "cell_type": "code",
   "execution_count": 16,
   "id": "e3a585ef",
   "metadata": {
    "ExecuteTime": {
     "end_time": "2022-10-05T03:23:24.989672Z",
     "start_time": "2022-10-05T03:23:24.968102Z"
    }
   },
   "outputs": [
    {
     "name": "stdout",
     "output_type": "stream",
     "text": [
      "[0, 1, 2, 3]\n",
      "[4, 5, 6, 7, 8, 9]\n",
      "[9]\n",
      "[0, 1, 2, 3, 4, 5, 6, 7, 8]\n"
     ]
    }
   ],
   "source": [
    "num_range = [0,1,2,3,4,5,6,7,8,9]\n",
    "print(num_range[0:4])\n",
    "print(num_range[4:])\n",
    "print(num_range[-1:])\n",
    "print(num_range[:-1])\n"
   ]
  },
  {
   "cell_type": "markdown",
   "id": "49088090",
   "metadata": {},
   "source": [
    "**Q. Given the list num_range, try printing:**  \n",
    "    a. Odd numbers  \n",
    "    b. Even numbers  \n",
    "    c. Numbers divisible by 3  \n",
    "    \n",
    "**Hint:** Try using the step-size after the end slice index"
   ]
  },
  {
   "cell_type": "code",
   "execution_count": 17,
   "id": "3b67d6cb",
   "metadata": {
    "ExecuteTime": {
     "end_time": "2022-10-05T03:23:25.010624Z",
     "start_time": "2022-10-05T03:23:24.991810Z"
    }
   },
   "outputs": [
    {
     "data": {
      "text/plain": [
       "[0, 3, 6, 9]"
      ]
     },
     "execution_count": 17,
     "metadata": {},
     "output_type": "execute_result"
    }
   ],
   "source": [
    "[i for i in num_range if i%3 ==0]"
   ]
  },
  {
   "cell_type": "markdown",
   "id": "abfa5cbd",
   "metadata": {},
   "source": [
    "###  Functions:\n",
    "#### Map - Use function to a list<br>\n",
    "#### Enumerate - create dictoanry of key and value<br>\n",
    "#### Zip- Combine two lists<br>\n",
    "\n",
    "**USE ITERTOOLS THE BEST WAY POSSIBLE**<br>\n",
    "COMPRESS FUNCTION"
   ]
  },
  {
   "cell_type": "code",
   "execution_count": 18,
   "id": "99b14718",
   "metadata": {
    "ExecuteTime": {
     "end_time": "2022-10-05T03:23:25.034230Z",
     "start_time": "2022-10-05T03:23:25.010624Z"
    }
   },
   "outputs": [
    {
     "data": {
      "text/plain": [
       "[0, 2, 4, 6, 8]"
      ]
     },
     "execution_count": 18,
     "metadata": {},
     "output_type": "execute_result"
    }
   ],
   "source": [
    "#Answers here\n",
    "idx = list(map(lambda x: x%2==0, num_range))\n",
    "[i for (i,v) in zip(num_range,idx) if v==True]"
   ]
  },
  {
   "cell_type": "code",
   "execution_count": 19,
   "id": "3db6e33c",
   "metadata": {
    "ExecuteTime": {
     "end_time": "2022-10-05T03:23:25.046902Z",
     "start_time": "2022-10-05T03:23:25.034230Z"
    }
   },
   "outputs": [
    {
     "data": {
      "text/plain": [
       "[(0, True), (2, True), (4, True), (6, True), (8, True)]"
      ]
     },
     "execution_count": 19,
     "metadata": {},
     "output_type": "execute_result"
    }
   ],
   "source": [
    "[i for idx,i in enumerate(zip(num_range, idx)) if i[1] is True]"
   ]
  },
  {
   "cell_type": "code",
   "execution_count": 20,
   "id": "de272ea8",
   "metadata": {
    "ExecuteTime": {
     "end_time": "2022-10-05T03:23:25.066944Z",
     "start_time": "2022-10-05T03:23:25.050579Z"
    }
   },
   "outputs": [
    {
     "data": {
      "text/plain": [
       "[0, 2, 4, 6, 8]"
      ]
     },
     "execution_count": 20,
     "metadata": {},
     "output_type": "execute_result"
    }
   ],
   "source": [
    "[i for idx,i in enumerate(num_range) if i%2==0]"
   ]
  },
  {
   "cell_type": "code",
   "execution_count": 21,
   "id": "4522d62f",
   "metadata": {
    "ExecuteTime": {
     "end_time": "2022-10-05T03:23:25.087452Z",
     "start_time": "2022-10-05T03:23:25.069306Z"
    }
   },
   "outputs": [
    {
     "data": {
      "text/plain": [
       "[0, 2, 4, 6, 8]"
      ]
     },
     "execution_count": 21,
     "metadata": {},
     "output_type": "execute_result"
    }
   ],
   "source": [
    "from itertools import compress\n",
    "idx = list(map(lambda x: x%2==0, num_range))\n",
    "list(compress(num_range,idx))"
   ]
  },
  {
   "cell_type": "code",
   "execution_count": 22,
   "id": "2c445bcb",
   "metadata": {
    "ExecuteTime": {
     "end_time": "2022-10-05T03:23:25.108505Z",
     "start_time": "2022-10-05T03:23:25.088222Z"
    }
   },
   "outputs": [],
   "source": [
    "# def evennum(list, n=0):\n",
    "#     newlist=[]\n",
    "#     print(n)\n",
    "#     if n ==len(list):\n",
    "#         exit()\n",
    "#     if list[n]%2==0:\n",
    "#         newlist.append(list[n])\n",
    "#     while n<len(list):\n",
    "#         evennum(list,n+1)\n",
    "#     return newlist    "
   ]
  },
  {
   "cell_type": "code",
   "execution_count": 23,
   "id": "64bb5628",
   "metadata": {
    "ExecuteTime": {
     "end_time": "2022-10-05T03:23:25.117197Z",
     "start_time": "2022-10-05T03:23:25.109506Z"
    },
    "scrolled": true
   },
   "outputs": [],
   "source": [
    "# num_range = [0,1,2,3,4,5,6,7,8,9]\n",
    "# pdb.set_trace()\n",
    "# evennum(num_range)"
   ]
  },
  {
   "cell_type": "markdown",
   "id": "3e60b4bb",
   "metadata": {},
   "source": [
    "Q. Find the maximum, minimum and length from the list **num_range**.  \n",
    "**Hint:** Use max(), min() and len() respectively."
   ]
  },
  {
   "cell_type": "code",
   "execution_count": 24,
   "id": "d12542d4",
   "metadata": {
    "ExecuteTime": {
     "end_time": "2022-10-05T03:23:25.137092Z",
     "start_time": "2022-10-05T03:23:25.120572Z"
    }
   },
   "outputs": [],
   "source": [
    "#Answer here"
   ]
  },
  {
   "cell_type": "code",
   "execution_count": 25,
   "id": "0c4307f6",
   "metadata": {
    "ExecuteTime": {
     "end_time": "2022-10-05T03:23:25.145480Z",
     "start_time": "2022-10-05T03:23:25.140263Z"
    }
   },
   "outputs": [],
   "source": [
    "names = ['Earth','Air','Fire','Water']"
   ]
  },
  {
   "cell_type": "markdown",
   "id": "bc19cb72",
   "metadata": {},
   "source": [
    "Lets check if the items 'Air' and 'Wind' are present in the list or not"
   ]
  },
  {
   "cell_type": "code",
   "execution_count": 26,
   "id": "1a8dd3c5",
   "metadata": {
    "ExecuteTime": {
     "end_time": "2022-10-05T03:23:25.159936Z",
     "start_time": "2022-10-05T03:23:25.148230Z"
    }
   },
   "outputs": [
    {
     "data": {
      "text/plain": [
       "False"
      ]
     },
     "execution_count": 26,
     "metadata": {},
     "output_type": "execute_result"
    }
   ],
   "source": [
    "'Wind' in names"
   ]
  },
  {
   "cell_type": "code",
   "execution_count": 27,
   "id": "b90239c2",
   "metadata": {
    "ExecuteTime": {
     "end_time": "2022-10-05T03:23:25.185375Z",
     "start_time": "2022-10-05T03:23:25.164581Z"
    }
   },
   "outputs": [
    {
     "data": {
      "text/plain": [
       "True"
      ]
     },
     "execution_count": 27,
     "metadata": {},
     "output_type": "execute_result"
    }
   ],
   "source": [
    "'Air' in names"
   ]
  },
  {
   "cell_type": "markdown",
   "id": "c3c8ce64",
   "metadata": {},
   "source": [
    "In a list with elements as string, **max( )** and **min( )** is applicable. **max( )** would return a string element whose ASCII value is the highest and the lowest when **min( )** is used. Note that only the first index of each element is considered each time and if they value is the same then second index considered so on and so forth."
   ]
  },
  {
   "cell_type": "code",
   "execution_count": 28,
   "id": "bf0808c6",
   "metadata": {
    "ExecuteTime": {
     "end_time": "2022-10-05T03:23:25.206162Z",
     "start_time": "2022-10-05T03:23:25.188143Z"
    }
   },
   "outputs": [
    {
     "name": "stdout",
     "output_type": "stream",
     "text": [
      "z\n",
      "az\n"
     ]
    }
   ],
   "source": [
    "mlist = ['bzaa','ds','nc','az','z','klm']\n",
    "print(max(mlist))\n",
    "print(min(mlist))"
   ]
  },
  {
   "cell_type": "markdown",
   "id": "eca8f479",
   "metadata": {},
   "source": [
    "Here the first index of each element is considered and thus z has the highest ASCII value thus it is returned and minimum ASCII is a. But what if numbers are declared as strings?"
   ]
  },
  {
   "cell_type": "code",
   "execution_count": 29,
   "id": "6c7591be",
   "metadata": {
    "ExecuteTime": {
     "end_time": "2022-10-05T03:23:25.215663Z",
     "start_time": "2022-10-05T03:23:25.208781Z"
    }
   },
   "outputs": [
    {
     "name": "stdout",
     "output_type": "stream",
     "text": [
      "94\n",
      "1\n"
     ]
    }
   ],
   "source": [
    "nlist = ['1','94','93','1000']\n",
    "print(max(nlist))\n",
    "print(min(nlist))"
   ]
  },
  {
   "cell_type": "markdown",
   "id": "21acf4f0",
   "metadata": {},
   "source": [
    "Even if the numbers are declared in a string the first index of each element is considered and the maximum and minimum values are returned accordingly."
   ]
  },
  {
   "cell_type": "markdown",
   "id": "57426490",
   "metadata": {},
   "source": [
    "But if you want to find the **max( )** string element based on the length of the string then another parameter 'key=len' is declared inside the **max( )** and **min( )** function."
   ]
  },
  {
   "cell_type": "code",
   "execution_count": 30,
   "id": "0eb7adc6",
   "metadata": {
    "ExecuteTime": {
     "end_time": "2022-10-05T03:23:25.231183Z",
     "start_time": "2022-10-05T03:23:25.218638Z"
    }
   },
   "outputs": [
    {
     "name": "stdout",
     "output_type": "stream",
     "text": [
      "Earth\n",
      "Air\n"
     ]
    }
   ],
   "source": [
    "print(max(names, key=len))\n",
    "print(min(names, key=len))"
   ]
  },
  {
   "cell_type": "markdown",
   "id": "04e3a68c",
   "metadata": {},
   "source": [
    "A string can be converted into a list by using the list() function."
   ]
  },
  {
   "cell_type": "code",
   "execution_count": 31,
   "id": "c23f9e45",
   "metadata": {
    "ExecuteTime": {
     "end_time": "2022-10-05T03:23:25.258664Z",
     "start_time": "2022-10-05T03:23:25.237205Z"
    }
   },
   "outputs": [
    {
     "data": {
      "text/plain": [
       "['U', 'p', 'G', 'r', 'a', 'd']"
      ]
     },
     "execution_count": 31,
     "metadata": {},
     "output_type": "execute_result"
    }
   ],
   "source": [
    "list('UpGrad')"
   ]
  },
  {
   "cell_type": "markdown",
   "id": "c10dffc1",
   "metadata": {},
   "source": [
    "List of words? Let's try using .split() which splits a string on the basis of spaces."
   ]
  },
  {
   "cell_type": "code",
   "execution_count": 32,
   "id": "4c822f88",
   "metadata": {
    "ExecuteTime": {
     "end_time": "2022-10-05T03:23:25.267714Z",
     "start_time": "2022-10-05T03:23:25.258664Z"
    }
   },
   "outputs": [
    {
     "name": "stdout",
     "output_type": "stream",
     "text": [
      "['I', 'will', 'now', 'convert', 'this', 'to', 'a', 'list', 'of', 'words']\n"
     ]
    }
   ],
   "source": [
    "test_string = 'I will now convert this to a list of words'\n",
    "print(test_string.split())"
   ]
  },
  {
   "cell_type": "markdown",
   "id": "b3d75e69",
   "metadata": {},
   "source": [
    "What about splitting on something else? Like a period? and then try to make it like a normal sentence using .join?"
   ]
  },
  {
   "cell_type": "code",
   "execution_count": 33,
   "id": "05a8f49a",
   "metadata": {
    "ExecuteTime": {
     "end_time": "2022-10-05T03:23:25.280412Z",
     "start_time": "2022-10-05T03:23:25.270351Z"
    }
   },
   "outputs": [
    {
     "name": "stdout",
     "output_type": "stream",
     "text": [
      "['Hi', 'Can', 'we', 'get', 'rid', 'of', 'the', 'periods', 'here']\n"
     ]
    }
   ],
   "source": [
    "string_to_split = 'Hi.Can.we.get.rid.of.the.periods.here'\n",
    "list_var = string_to_split.split('.')\n",
    "print(list_var)"
   ]
  },
  {
   "cell_type": "code",
   "execution_count": 34,
   "id": "c9be9a48",
   "metadata": {
    "ExecuteTime": {
     "end_time": "2022-10-05T03:23:25.289440Z",
     "start_time": "2022-10-05T03:23:25.283108Z"
    }
   },
   "outputs": [
    {
     "data": {
      "text/plain": [
       "'Hi,Can,we,get,rid,of,the,periods,here'"
      ]
     },
     "execution_count": 34,
     "metadata": {},
     "output_type": "execute_result"
    }
   ],
   "source": [
    "\",\".join(string_to_split.split('.'))"
   ]
  },
  {
   "cell_type": "code",
   "execution_count": 35,
   "id": "18b5543d",
   "metadata": {
    "ExecuteTime": {
     "end_time": "2022-10-05T03:23:25.299481Z",
     "start_time": "2022-10-05T03:23:25.292533Z"
    }
   },
   "outputs": [
    {
     "name": "stdout",
     "output_type": "stream",
     "text": [
      "Hi Can we get rid of the periods here\n"
     ]
    }
   ],
   "source": [
    "#Let's join it back with spaces and reassign it to the original name\n",
    "string_to_split = \" \".join(list_var)\n",
    "print(string_to_split)"
   ]
  },
  {
   "cell_type": "code",
   "execution_count": 36,
   "id": "68e8ae18",
   "metadata": {
    "ExecuteTime": {
     "end_time": "2022-10-05T03:23:25.320494Z",
     "start_time": "2022-10-05T03:23:25.302266Z"
    }
   },
   "outputs": [
    {
     "name": "stdout",
     "output_type": "stream",
     "text": [
      "Hi Can we get rid of the periods here\n"
     ]
    }
   ],
   "source": [
    "#Let's do it as a one-liner\n",
    "string_to_split = 'Hi.Can.we.get.rid.of.the.periods.here'\n",
    "out =  \" \".join(string_to_split.split('.'))\n",
    "print(out)"
   ]
  },
  {
   "cell_type": "markdown",
   "id": "e88aa584",
   "metadata": {},
   "source": [
    "**Q** You have a list of email ids. The username for each email consists of all characters occurring before the @ symbol. You will need to write a code that will return a True or False after accepting user's input on the email id and check if the usernames is in the list of usernames or not. If it is present print True, else print False.  \n",
    "We have provided a template below. Fill it up and test it."
   ]
  },
  {
   "cell_type": "markdown",
   "id": "39ab4376",
   "metadata": {
    "ExecuteTime": {
     "end_time": "2022-10-05T03:23:25.342572Z",
     "start_time": "2022-10-05T03:23:25.324405Z"
    },
    "collapsed": true
   },
   "source": [
    "list_of_usernames = []\n",
    "\n",
    "#accept email id from user\n",
    "input_name = \n",
    "\n",
    "\"\"\"Treat the input to extract the username from email id - You might also want to treat upper and lower case alike.\n",
    "After extracting you might want to onvert it to lower case before looking it up in your list\"\"\"\n",
    "input_username = \n",
    "\n",
    "#print True if the username is present or print False. Do not use the if-else statement.\n",
    "\n"
   ]
  },
  {
   "cell_type": "markdown",
   "id": "7f203d18",
   "metadata": {},
   "source": [
    "By the way, triple quotes are used for multiline comments. Don't you think something similar can be used during new user signups?"
   ]
  },
  {
   "cell_type": "markdown",
   "id": "2e855654",
   "metadata": {},
   "source": [
    "## Sorting"
   ]
  },
  {
   "cell_type": "code",
   "execution_count": 38,
   "id": "636f7af5",
   "metadata": {
    "ExecuteTime": {
     "end_time": "2022-10-05T03:23:57.392076Z",
     "start_time": "2022-10-05T03:23:57.384972Z"
    }
   },
   "outputs": [
    {
     "name": "stdout",
     "output_type": "stream",
     "text": [
      "['Air', 'Earth', 'Fire', 'Water']\n",
      "['Water', 'Fire', 'Earth', 'Air']\n"
     ]
    }
   ],
   "source": [
    "names.sort()\n",
    "print(names)\n",
    "names.sort(reverse=True)\n",
    "print(names)"
   ]
  },
  {
   "cell_type": "markdown",
   "id": "56da503d",
   "metadata": {},
   "source": [
    "## Reversing"
   ]
  },
  {
   "cell_type": "code",
   "execution_count": 39,
   "id": "3220bb99",
   "metadata": {
    "ExecuteTime": {
     "end_time": "2022-10-05T03:23:57.409431Z",
     "start_time": "2022-10-05T03:23:57.396371Z"
    }
   },
   "outputs": [
    {
     "name": "stdout",
     "output_type": "stream",
     "text": [
      "['Water', 'Fire', 'Earth', 'Air']\n",
      "['Air', 'Earth', 'Fire', 'Water']\n"
     ]
    }
   ],
   "source": [
    "print(names)\n",
    "print(list(reversed(names)))"
   ]
  },
  {
   "cell_type": "code",
   "execution_count": 40,
   "id": "53a84af6",
   "metadata": {
    "ExecuteTime": {
     "end_time": "2022-10-05T03:23:57.426752Z",
     "start_time": "2022-10-05T03:23:57.411994Z"
    }
   },
   "outputs": [
    {
     "name": "stdout",
     "output_type": "stream",
     "text": [
      "['Air', 'Earth', 'Fire', 'Water']\n"
     ]
    }
   ],
   "source": [
    "print(names[::-1])"
   ]
  },
  {
   "cell_type": "markdown",
   "id": "e4e04f12",
   "metadata": {},
   "source": [
    "### Copying a list  \n",
    "Most of the new python programmers commit this mistake. Consider the following,"
   ]
  },
  {
   "cell_type": "code",
   "execution_count": 41,
   "id": "86cab197",
   "metadata": {
    "ExecuteTime": {
     "end_time": "2022-10-05T03:23:57.445087Z",
     "start_time": "2022-10-05T03:23:57.430456Z"
    }
   },
   "outputs": [],
   "source": [
    "lista= [2,1,4,3]"
   ]
  },
  {
   "cell_type": "code",
   "execution_count": 42,
   "id": "950dcaf9",
   "metadata": {
    "ExecuteTime": {
     "end_time": "2022-10-05T03:23:57.453934Z",
     "start_time": "2022-10-05T03:23:57.447062Z"
    }
   },
   "outputs": [
    {
     "name": "stdout",
     "output_type": "stream",
     "text": [
      "[2, 1, 4, 3]\n"
     ]
    }
   ],
   "source": [
    "listb = lista\n",
    "print(listb)"
   ]
  },
  {
   "cell_type": "markdown",
   "id": "a1f4990a",
   "metadata": {},
   "source": [
    "Here, We have declared a list, lista = [2,1,4,3]. This list is copied to listb by assigning it's value and it get's copied as seen. Now we perform some random operations on lista."
   ]
  },
  {
   "cell_type": "code",
   "execution_count": 43,
   "id": "a27c86e3",
   "metadata": {
    "ExecuteTime": {
     "end_time": "2022-10-05T03:23:57.462712Z",
     "start_time": "2022-10-05T03:23:57.456310Z"
    }
   },
   "outputs": [
    {
     "name": "stdout",
     "output_type": "stream",
     "text": [
      "[2, 1, 4]\n",
      "[2, 1, 4, 9]\n"
     ]
    }
   ],
   "source": [
    "lista.pop()\n",
    "print(lista)\n",
    "lista.append(9)\n",
    "print(lista)"
   ]
  },
  {
   "cell_type": "code",
   "execution_count": 44,
   "id": "b2491280",
   "metadata": {
    "ExecuteTime": {
     "end_time": "2022-10-05T03:23:57.476847Z",
     "start_time": "2022-10-05T03:23:57.465510Z"
    }
   },
   "outputs": [
    {
     "name": "stdout",
     "output_type": "stream",
     "text": [
      "[2, 1, 4, 9]\n"
     ]
    }
   ],
   "source": [
    "print(listb)"
   ]
  },
  {
   "cell_type": "markdown",
   "id": "4b046b08",
   "metadata": {},
   "source": [
    "listb has also changed though no operation has been performed on it. This is because you have assigned the same memory space of lista to listb. So how do fix this?\n",
    "\n",
    "If you recall, in slicing we had seen that parentlist[a:b] returns a list from parent list with start index a and end index b and if a and b is not mentioned then by default it considers the first and last element. We use the same concept here. By doing so, we are assigning the data of lista to listb as a variable."
   ]
  },
  {
   "cell_type": "code",
   "execution_count": 45,
   "id": "1a9e2c00",
   "metadata": {
    "ExecuteTime": {
     "end_time": "2022-10-05T03:23:57.502403Z",
     "start_time": "2022-10-05T03:23:57.479467Z"
    }
   },
   "outputs": [
    {
     "name": "stdout",
     "output_type": "stream",
     "text": [
      "[2, 1, 4, 3]\n",
      "[2, 1, 4]\n",
      "[2, 1, 4, 9]\n"
     ]
    }
   ],
   "source": [
    "lista = [2,1,4,3]\n",
    "listb = lista[:]\n",
    "print(listb)\n",
    "\n",
    "lista.pop()\n",
    "print(lista)\n",
    "\n",
    "lista.append(9)\n",
    "print(lista)"
   ]
  },
  {
   "cell_type": "code",
   "execution_count": 46,
   "id": "32253535",
   "metadata": {
    "ExecuteTime": {
     "end_time": "2022-10-05T03:23:57.510728Z",
     "start_time": "2022-10-05T03:23:57.506511Z"
    }
   },
   "outputs": [
    {
     "name": "stdout",
     "output_type": "stream",
     "text": [
      "[2, 1, 4, 3]\n"
     ]
    }
   ],
   "source": [
    "print(listb)"
   ]
  },
  {
   "cell_type": "markdown",
   "id": "41edf191",
   "metadata": {},
   "source": [
    "Take a look at the next block of code to get familiar with the list methods"
   ]
  },
  {
   "cell_type": "code",
   "execution_count": 47,
   "id": "a4f36d16",
   "metadata": {
    "ExecuteTime": {
     "end_time": "2022-10-05T03:23:57.532572Z",
     "start_time": "2022-10-05T03:23:57.513796Z"
    }
   },
   "outputs": [
    {
     "name": "stdout",
     "output_type": "stream",
     "text": [
      "[1024, 3, True, 6.5, False]\n",
      "[1024, 3, 4.5, True, 6.5, False]\n",
      "False\n",
      "[1024, 3, 4.5, True, 6.5]\n",
      "3\n",
      "[1024, 4.5, True, 6.5]\n",
      "[1024, 4.5, 6.5]\n",
      "[4.5, 6.5, 1024]\n",
      "[1024, 6.5, 4.5]\n",
      "1\n",
      "2\n",
      "[1024, 4.5]\n",
      "[4.5]\n"
     ]
    }
   ],
   "source": [
    "myList = [1024, 3, True, 6.5]\n",
    "myList.append(False)\n",
    "print(myList)\n",
    "\n",
    "myList.insert(2,4.5)\n",
    "print(myList)\n",
    "\n",
    "print(myList.pop())\n",
    "print(myList)\n",
    "\n",
    "print(myList.pop(1))\n",
    "print(myList)\n",
    "\n",
    "myList.pop(2)\n",
    "print(myList)\n",
    "\n",
    "myList.sort()\n",
    "print(myList)\n",
    "\n",
    "myList.reverse()\n",
    "print(myList)\n",
    "\n",
    "print(myList.count(6.5))\n",
    "print(myList.index(4.5))\n",
    "myList.remove(6.5)\n",
    "print(myList)\n",
    "\n",
    "del myList[0]\n",
    "print(myList)"
   ]
  },
  {
   "cell_type": "code",
   "execution_count": 48,
   "id": "2ed9abe4",
   "metadata": {
    "ExecuteTime": {
     "end_time": "2022-10-05T03:23:57.541339Z",
     "start_time": "2022-10-05T03:23:57.534988Z"
    }
   },
   "outputs": [],
   "source": [
    "#Practice workspace"
   ]
  },
  {
   "cell_type": "markdown",
   "id": "c3d20977",
   "metadata": {},
   "source": [
    "# Tuples  \n",
    "\n",
    "- Tuples are another way to combine different values.\n",
    "\n",
    "- The combined values can be of different types.\n",
    "\n",
    "- Like lists, they have a well-defined ordering and can be indexed.\n",
    "\n",
    "- To create a tuple in Python, use round brackets instead of square brackets"
   ]
  },
  {
   "cell_type": "code",
   "execution_count": 49,
   "id": "1b69c503",
   "metadata": {
    "ExecuteTime": {
     "end_time": "2022-10-05T03:23:57.555455Z",
     "start_time": "2022-10-05T03:23:57.543724Z"
    }
   },
   "outputs": [
    {
     "data": {
      "text/plain": [
       "(50, 'hello')"
      ]
     },
     "execution_count": 49,
     "metadata": {},
     "output_type": "execute_result"
    }
   ],
   "source": [
    "first_tuple = (50, 'hello')\n",
    "first_tuple"
   ]
  },
  {
   "cell_type": "code",
   "execution_count": 50,
   "id": "9eb14a9c",
   "metadata": {
    "ExecuteTime": {
     "end_time": "2022-10-05T03:23:57.573699Z",
     "start_time": "2022-10-05T03:23:57.556791Z"
    }
   },
   "outputs": [
    {
     "name": "stdout",
     "output_type": "stream",
     "text": [
      "50\n",
      "hello\n",
      "<class 'tuple'>\n"
     ]
    }
   ],
   "source": [
    "print(first_tuple[0])\n",
    "print(first_tuple[1])\n",
    "print(type(first_tuple))"
   ]
  },
  {
   "cell_type": "markdown",
   "id": "78abdc25",
   "metadata": {},
   "source": [
    "## Tuples are immutable\n",
    "\n",
    "- Unlike lists, tuples are *immutable*.  Once we have created a tuple we cannot add values to it.\n"
   ]
  },
  {
   "cell_type": "code",
   "execution_count": 51,
   "id": "7b482294",
   "metadata": {
    "ExecuteTime": {
     "end_time": "2022-10-05T03:23:58.127579Z",
     "start_time": "2022-10-05T03:23:57.576353Z"
    }
   },
   "outputs": [
    {
     "ename": "AttributeError",
     "evalue": "'tuple' object has no attribute 'append'",
     "output_type": "error",
     "traceback": [
      "\u001b[1;31m---------------------------------------------------------------------------\u001b[0m",
      "\u001b[1;31mAttributeError\u001b[0m                            Traceback (most recent call last)",
      "\u001b[1;32mC:\\Users\\PI0322~1\\AppData\\Local\\Temp/ipykernel_17212/3975301801.py\u001b[0m in \u001b[0;36m<module>\u001b[1;34m\u001b[0m\n\u001b[1;32m----> 1\u001b[1;33m \u001b[0mfirst_tuple\u001b[0m\u001b[1;33m.\u001b[0m\u001b[0mappend\u001b[0m\u001b[1;33m(\u001b[0m\u001b[1;36m25\u001b[0m\u001b[1;33m)\u001b[0m\u001b[1;33m\u001b[0m\u001b[1;33m\u001b[0m\u001b[0m\n\u001b[0m",
      "\u001b[1;31mAttributeError\u001b[0m: 'tuple' object has no attribute 'append'"
     ]
    }
   ],
   "source": [
    "# first_tuple.append(25)"
   ]
  },
  {
   "cell_type": "markdown",
   "id": "6373639b",
   "metadata": {},
   "source": [
    "Tuples are similar to lists but only big difference is the elements inside a list can be changed but in tuple it cannot be changed. Think of tuples as something which has to be True for a particular something and cannot be True for no other values. For better understanding, let's use the **divmod()** function."
   ]
  },
  {
   "cell_type": "code",
   "execution_count": 52,
   "id": "d1f74a97",
   "metadata": {
    "ExecuteTime": {
     "end_time": "2022-10-05T03:24:28.455241Z",
     "start_time": "2022-10-05T03:24:28.438507Z"
    }
   },
   "outputs": [
    {
     "name": "stdout",
     "output_type": "stream",
     "text": [
      "(3, 1)\n",
      "<class 'tuple'>\n"
     ]
    }
   ],
   "source": [
    "xyz = divmod(10,3)\n",
    "print(xyz)\n",
    "print(type(xyz))"
   ]
  },
  {
   "cell_type": "markdown",
   "id": "74ffa07b",
   "metadata": {},
   "source": [
    "Here the quotient has to be 3 and the remainder has to be 1. These values cannot be changed whatsoever when 10 is divided by 3. Hence divmod returns these values in a tuple."
   ]
  },
  {
   "cell_type": "markdown",
   "id": "34651b43",
   "metadata": {},
   "source": [
    "If you want to directly declare a tuple it can be done by using a comma at the end of the data."
   ]
  },
  {
   "cell_type": "code",
   "execution_count": 53,
   "id": "3d268fe4",
   "metadata": {
    "ExecuteTime": {
     "end_time": "2022-10-05T03:24:28.472643Z",
     "start_time": "2022-10-05T03:24:28.459078Z"
    }
   },
   "outputs": [
    {
     "data": {
      "text/plain": [
       "(27,)"
      ]
     },
     "execution_count": 53,
     "metadata": {},
     "output_type": "execute_result"
    }
   ],
   "source": [
    "27,"
   ]
  },
  {
   "cell_type": "markdown",
   "id": "1be03660",
   "metadata": {},
   "source": [
    "27 when multiplied by 2 yields 54, But when multiplied with a tuple the data is repeated twice."
   ]
  },
  {
   "cell_type": "code",
   "execution_count": 54,
   "id": "1ae5ccfd",
   "metadata": {
    "ExecuteTime": {
     "end_time": "2022-10-05T03:24:28.485367Z",
     "start_time": "2022-10-05T03:24:28.476068Z"
    }
   },
   "outputs": [
    {
     "data": {
      "text/plain": [
       "(27, 27)"
      ]
     },
     "execution_count": 54,
     "metadata": {},
     "output_type": "execute_result"
    }
   ],
   "source": [
    "2*(27,)"
   ]
  },
  {
   "cell_type": "markdown",
   "id": "dc3ce880",
   "metadata": {},
   "source": [
    "Values can be assigned while declaring a tuple. It takes a list as input and converts it into a tuple or it takes a string and converts it into a tuple."
   ]
  },
  {
   "cell_type": "code",
   "execution_count": 55,
   "id": "76e77ff8",
   "metadata": {
    "ExecuteTime": {
     "end_time": "2022-10-05T03:24:28.494431Z",
     "start_time": "2022-10-05T03:24:28.489097Z"
    }
   },
   "outputs": [
    {
     "name": "stdout",
     "output_type": "stream",
     "text": [
      "(1, 2, 3)\n",
      "('H', 'e', 'l', 'l', 'o')\n"
     ]
    }
   ],
   "source": [
    "tup3 = tuple([1,2,3])\n",
    "print(tup3)\n",
    "tup4 = tuple('Hello')\n",
    "print(tup4)"
   ]
  },
  {
   "cell_type": "markdown",
   "id": "19379c34",
   "metadata": {},
   "source": [
    "## Slicing  \n",
    "Slicing is similar to lists"
   ]
  },
  {
   "cell_type": "code",
   "execution_count": 56,
   "id": "2a0cd24b",
   "metadata": {
    "ExecuteTime": {
     "end_time": "2022-10-05T03:24:28.512675Z",
     "start_time": "2022-10-05T03:24:28.497303Z"
    }
   },
   "outputs": [
    {
     "name": "stdout",
     "output_type": "stream",
     "text": [
      "2\n",
      "('H', 'e', 'l')\n"
     ]
    }
   ],
   "source": [
    "print(tup3[1])\n",
    "tup5 = tup4[:3]\n",
    "print(tup5)"
   ]
  },
  {
   "cell_type": "markdown",
   "id": "da0f95ce",
   "metadata": {},
   "source": [
    "## Built In Tuple functions  \n",
    "**count()** function counts the number of specified element that is present in the tuple.  \n",
    "**index()** function returns the index of the specified element. If the elements are more than one then the index of the first element of that specified element is returned"
   ]
  },
  {
   "cell_type": "code",
   "execution_count": 57,
   "id": "d3469f3c",
   "metadata": {
    "ExecuteTime": {
     "end_time": "2022-10-05T03:24:28.523601Z",
     "start_time": "2022-10-05T03:24:28.515424Z"
    }
   },
   "outputs": [
    {
     "name": "stdout",
     "output_type": "stream",
     "text": [
      "3\n",
      "2\n"
     ]
    }
   ],
   "source": [
    "example = (\"Mumbai\",\"Chennai\",\"Delhi\",\"Kolkatta\",\"Mumbai\",'Mumbai',\"Bangalore\")\n",
    "print(example.count(\"Mumbai\"))\n",
    "\n",
    "print(example.index(\"Delhi\"))"
   ]
  },
  {
   "cell_type": "markdown",
   "id": "ce701b10",
   "metadata": {},
   "source": [
    "# Dictionary"
   ]
  },
  {
   "cell_type": "markdown",
   "id": "0c9e462c",
   "metadata": {},
   "source": [
    "Dictionaries are more used like a database because here you can index a particular sequence with your user defined string. To define a dictionary, equate a variable to { } or dict()"
   ]
  },
  {
   "cell_type": "code",
   "execution_count": 58,
   "id": "3ca5c385",
   "metadata": {
    "ExecuteTime": {
     "end_time": "2022-10-05T03:24:28.535618Z",
     "start_time": "2022-10-05T03:24:28.528743Z"
    }
   },
   "outputs": [
    {
     "name": "stdout",
     "output_type": "stream",
     "text": [
      "<class 'dict'> <class 'dict'>\n"
     ]
    }
   ],
   "source": [
    "first_dict = {}\n",
    "second_dict = dict()\n",
    "print(type(first_dict), type(second_dict))"
   ]
  },
  {
   "cell_type": "markdown",
   "id": "6a588874",
   "metadata": {},
   "source": [
    "## Dictionary Operators"
   ]
  },
  {
   "cell_type": "markdown",
   "id": "685c948f",
   "metadata": {},
   "source": [
    "\n",
    "| Operator | Use | Explanation |\n",
    "|----|---|<br>\n",
    "| [ ] | myDict[k] |Returns the value associated with k, otherwise its an error |<br>\n",
    "| in\t| key in mydict |\tReturns True if **key** is in the dictionary, False otherwise |<br>\n",
    "| del\t|del mydict[key]\t|Removes the entry from the dictionary|<br>"
   ]
  },
  {
   "cell_type": "markdown",
   "id": "e156cc08",
   "metadata": {},
   "source": [
    "Dictionary works somewhat like a list but with an added capability of assigning it's own index style."
   ]
  },
  {
   "cell_type": "code",
   "execution_count": 59,
   "id": "639b7b64",
   "metadata": {
    "ExecuteTime": {
     "end_time": "2022-10-05T03:24:28.560493Z",
     "start_time": "2022-10-05T03:24:28.540319Z"
    }
   },
   "outputs": [
    {
     "name": "stdout",
     "output_type": "stream",
     "text": [
      "{'One': 1, 'Twelve': 12}\n"
     ]
    }
   ],
   "source": [
    "first_dict['One'] = 1\n",
    "first_dict['Twelve'] = 12 \n",
    "print(first_dict)"
   ]
  },
  {
   "cell_type": "code",
   "execution_count": 60,
   "id": "d8af8fa2",
   "metadata": {
    "ExecuteTime": {
     "end_time": "2022-10-05T03:24:28.579588Z",
     "start_time": "2022-10-05T03:24:28.563151Z"
    }
   },
   "outputs": [
    {
     "data": {
      "text/plain": [
       "False"
      ]
     },
     "execution_count": 60,
     "metadata": {},
     "output_type": "execute_result"
    }
   ],
   "source": [
    "1 in first_dict"
   ]
  },
  {
   "cell_type": "code",
   "execution_count": 61,
   "id": "45166b51",
   "metadata": {
    "ExecuteTime": {
     "end_time": "2022-10-05T03:24:28.591512Z",
     "start_time": "2022-10-05T03:24:28.580012Z"
    }
   },
   "outputs": [
    {
     "data": {
      "text/plain": [
       "True"
      ]
     },
     "execution_count": 61,
     "metadata": {},
     "output_type": "execute_result"
    }
   ],
   "source": [
    "'One' in first_dict"
   ]
  },
  {
   "cell_type": "code",
   "execution_count": 62,
   "id": "75401d4b",
   "metadata": {
    "ExecuteTime": {
     "end_time": "2022-10-05T03:24:28.612135Z",
     "start_time": "2022-10-05T03:24:28.594831Z"
    }
   },
   "outputs": [
    {
     "name": "stdout",
     "output_type": "stream",
     "text": [
      "{'Twelve': 12}\n"
     ]
    }
   ],
   "source": [
    "del first_dict['One']\n",
    "print(first_dict)"
   ]
  },
  {
   "cell_type": "markdown",
   "id": "2621348b",
   "metadata": {},
   "source": [
    "## Dictionary Methods"
   ]
  },
  {
   "cell_type": "markdown",
   "id": "7beba1ba",
   "metadata": {},
   "source": [
    "\n",
    "| Method | Use | Explanation |\n",
    "|----|---|\n",
    "| keys | adict.keys() |Returns the keys of the dictionary in a dict_keys object |<br>\n",
    "| values\t| adict.values() |\tReturns the values of the dictionary in a dict_values object |<br>\n",
    "| items\t|adict.items()\t|Returns the key-value pairs in a dict_items object|<br>\n",
    "| get\t|adict.get(k)\t|Returns the value associated with k, None otherwise; **better tha adict[key]**<br>\n",
    "| get\t|adict.get(k,alt)\t|Returns the value associated with k, alt otherwise|\n"
   ]
  },
  {
   "cell_type": "code",
   "execution_count": 63,
   "id": "a1f71ef2",
   "metadata": {
    "ExecuteTime": {
     "end_time": "2022-10-05T03:24:28.629506Z",
     "start_time": "2022-10-05T03:24:28.614662Z"
    }
   },
   "outputs": [
    {
     "name": "stdout",
     "output_type": "stream",
     "text": [
      "Mumbai\n",
      "{'Maharashtra': 'Mumbai', 'Tamil Nadu': 'Chennai', 'Rajasthan': 'Jaipur'}\n",
      "4\n"
     ]
    }
   ],
   "source": [
    "capitals = {'Maharashtra':'Mumbai','Tamil Nadu':'Chennai'}\n",
    "\n",
    "#get the capital of Maharashtra\n",
    "print(capitals['Maharashtra'])\n",
    "\n",
    "#create a new key Rajasthan whose capital(value) is Jaipur\n",
    "capitals['Rajasthan']='Jaipur'\n",
    "print(capitals)\n",
    "\n",
    "#create another key-value pair\n",
    "capitals['Punjab']='Chandigarh'\n",
    "print(len(capitals))"
   ]
  },
  {
   "cell_type": "markdown",
   "id": "b6d4d960",
   "metadata": {},
   "source": [
    "Dictionary keys are unique and hence we cannot have two similar keys. Values can be the same though."
   ]
  },
  {
   "cell_type": "code",
   "execution_count": 64,
   "id": "6f984576",
   "metadata": {
    "ExecuteTime": {
     "end_time": "2022-10-05T03:24:28.646153Z",
     "start_time": "2022-10-05T03:24:28.630006Z"
    }
   },
   "outputs": [
    {
     "name": "stdout",
     "output_type": "stream",
     "text": [
      "{'Maharashtra': 'Mumbai', 'Tamil Nadu': 'Chennai', 'Rajasthan': 'Jaipur', 'Punjab': 'Chandigarh', 'Haryana': 'Chandigarh'}\n"
     ]
    }
   ],
   "source": [
    "capitals['Haryana'] = 'Chandigarh'\n",
    "print(capitals)"
   ]
  },
  {
   "cell_type": "markdown",
   "id": "0f1fcdbd",
   "metadata": {},
   "source": [
    "**values( )** function returns a list with all the assigned values in the dictionary./"
   ]
  },
  {
   "cell_type": "code",
   "execution_count": 65,
   "id": "3218c56a",
   "metadata": {
    "ExecuteTime": {
     "end_time": "2022-10-05T03:24:28.654258Z",
     "start_time": "2022-10-05T03:24:28.649408Z"
    }
   },
   "outputs": [
    {
     "name": "stdout",
     "output_type": "stream",
     "text": [
      "dict_values(['Mumbai', 'Chennai', 'Jaipur', 'Chandigarh', 'Chandigarh'])\n",
      "<class 'dict_values'>\n"
     ]
    }
   ],
   "source": [
    "print(capitals.values())\n",
    "print(type(capitals.values()))\n"
   ]
  },
  {
   "cell_type": "code",
   "execution_count": 66,
   "id": "06d77a76",
   "metadata": {
    "ExecuteTime": {
     "end_time": "2022-10-05T03:24:28.683011Z",
     "start_time": "2022-10-05T03:24:28.657677Z"
    }
   },
   "outputs": [
    {
     "name": "stdout",
     "output_type": "stream",
     "text": [
      "['Mumbai', 'Chennai', 'Jaipur', 'Chandigarh', 'Chandigarh']\n",
      "<class 'list'>\n"
     ]
    }
   ],
   "source": [
    "# to convert to a list use list()\n",
    " \n",
    "capitals_list = list(capitals.values())\n",
    "print(capitals_list)\n",
    "print(type(capitals_list))"
   ]
  },
  {
   "cell_type": "markdown",
   "id": "d19d431b",
   "metadata": {},
   "source": [
    "**keys( )** function returns all the index or the keys to which contains the values that it was assigned to."
   ]
  },
  {
   "cell_type": "code",
   "execution_count": 67,
   "id": "bb65b088",
   "metadata": {
    "ExecuteTime": {
     "end_time": "2022-10-05T03:24:28.692268Z",
     "start_time": "2022-10-05T03:24:28.686330Z"
    }
   },
   "outputs": [
    {
     "name": "stdout",
     "output_type": "stream",
     "text": [
      "dict_keys(['Maharashtra', 'Tamil Nadu', 'Rajasthan', 'Punjab', 'Haryana'])\n",
      "<class 'dict_keys'>\n"
     ]
    }
   ],
   "source": [
    "print(capitals.keys())\n",
    "print(type(capitals.keys()))\n"
   ]
  },
  {
   "cell_type": "markdown",
   "id": "0a31a72c",
   "metadata": {},
   "source": [
    "**items( )** is returns a list containing both the list but each element in the dictionary is inside a tuple."
   ]
  },
  {
   "cell_type": "code",
   "execution_count": 68,
   "id": "da36785c",
   "metadata": {
    "ExecuteTime": {
     "end_time": "2022-10-05T03:24:28.703982Z",
     "start_time": "2022-10-05T03:24:28.694975Z"
    }
   },
   "outputs": [
    {
     "name": "stdout",
     "output_type": "stream",
     "text": [
      "dict_items([('Maharashtra', 'Mumbai'), ('Tamil Nadu', 'Chennai'), ('Rajasthan', 'Jaipur'), ('Punjab', 'Chandigarh'), ('Haryana', 'Chandigarh')])\n",
      "[('Maharashtra', 'Mumbai'), ('Tamil Nadu', 'Chennai'), ('Rajasthan', 'Jaipur'), ('Punjab', 'Chandigarh'), ('Haryana', 'Chandigarh')]\n"
     ]
    }
   ],
   "source": [
    "print(capitals.items())\n",
    "\n",
    "#convert to list of tuples\n",
    "print(list(capitals.items()))"
   ]
  },
  {
   "cell_type": "code",
   "execution_count": 69,
   "id": "72667d38",
   "metadata": {
    "ExecuteTime": {
     "end_time": "2022-10-05T03:24:28.735682Z",
     "start_time": "2022-10-05T03:24:28.706393Z"
    }
   },
   "outputs": [
    {
     "name": "stdout",
     "output_type": "stream",
     "text": [
      "{'Sachin': 1410, 'Azhar': 1137}\n",
      "dict_keys(['Sachin', 'Azhar'])\n",
      "['Sachin', 'Azhar']\n",
      "dict_values([1410, 1137])\n",
      "[1410, 1137]\n",
      "dict_items([('Sachin', 1410), ('Azhar', 1137)])\n",
      "[('Sachin', 1410), ('Azhar', 1137)]\n",
      "None\n"
     ]
    },
    {
     "ename": "KeyError",
     "evalue": "'Dhoni'",
     "output_type": "error",
     "traceback": [
      "\u001b[1;31m---------------------------------------------------------------------------\u001b[0m",
      "\u001b[1;31mKeyError\u001b[0m                                  Traceback (most recent call last)",
      "\u001b[1;32mC:\\Users\\PI0322~1\\AppData\\Local\\Temp/ipykernel_17212/3255229390.py\u001b[0m in \u001b[0;36m<module>\u001b[1;34m\u001b[0m\n\u001b[0;32m     14\u001b[0m \u001b[1;33m\u001b[0m\u001b[0m\n\u001b[0;32m     15\u001b[0m \u001b[0mprint\u001b[0m\u001b[1;33m(\u001b[0m\u001b[0mphoneext\u001b[0m\u001b[1;33m.\u001b[0m\u001b[0mget\u001b[0m\u001b[1;33m(\u001b[0m\u001b[1;34m\"Dhoni\"\u001b[0m\u001b[1;33m)\u001b[0m\u001b[1;33m)\u001b[0m\u001b[1;33m\u001b[0m\u001b[1;33m\u001b[0m\u001b[0m\n\u001b[1;32m---> 16\u001b[1;33m \u001b[0mprint\u001b[0m\u001b[1;33m(\u001b[0m\u001b[0mphoneext\u001b[0m\u001b[1;33m[\u001b[0m\u001b[1;34m'Dhoni'\u001b[0m\u001b[1;33m]\u001b[0m\u001b[1;33m)\u001b[0m\u001b[1;33m\u001b[0m\u001b[1;33m\u001b[0m\u001b[0m\n\u001b[0m\u001b[0;32m     17\u001b[0m \u001b[1;33m\u001b[0m\u001b[0m\n\u001b[0;32m     18\u001b[0m \u001b[0mprint\u001b[0m\u001b[1;33m(\u001b[0m\u001b[0mphoneext\u001b[0m\u001b[1;33m.\u001b[0m\u001b[0mget\u001b[0m\u001b[1;33m(\u001b[0m\u001b[1;34m\"Dhoni\"\u001b[0m\u001b[1;33m,\u001b[0m\u001b[1;34m\"Not a part of team\"\u001b[0m\u001b[1;33m)\u001b[0m\u001b[1;33m)\u001b[0m\u001b[1;33m\u001b[0m\u001b[1;33m\u001b[0m\u001b[0m\n",
      "\u001b[1;31mKeyError\u001b[0m: 'Dhoni'"
     ]
    }
   ],
   "source": [
    "#take a look at the block of code to understand\n",
    "phoneext={'Sachin':1410,'Azhar':1137}\n",
    "print(phoneext)\n",
    "\n",
    "print(phoneext.keys())\n",
    "\n",
    "print(list(phoneext.keys()))\n",
    "print(phoneext.values())\n",
    "print(list(phoneext.values()))\n",
    "\n",
    "print(phoneext.items())\n",
    "\n",
    "print(list(phoneext.items()))\n",
    "\n",
    "print(phoneext.get(\"Dhoni\"))\n",
    "print(phoneext['Dhoni'])\n",
    "\n",
    "# print(phoneext.get(\"Dhoni\",\"Not a part of team\"))\n"
   ]
  },
  {
   "cell_type": "markdown",
   "id": "206f894d",
   "metadata": {},
   "source": [
    "# Sets  \n",
    "Sets are mainly used to eliminate repeated numbers in a sequence/list. It is also used to perform some standard set operations.\n",
    "\n",
    "Sets are declared as set() which will initialize a empty set. Also set([sequence]) can be executed to declare a set with elements"
   ]
  },
  {
   "cell_type": "code",
   "execution_count": 70,
   "id": "47c2ae5b",
   "metadata": {
    "ExecuteTime": {
     "end_time": "2022-10-05T03:24:42.863899Z",
     "start_time": "2022-10-05T03:24:42.849795Z"
    }
   },
   "outputs": [
    {
     "name": "stdout",
     "output_type": "stream",
     "text": [
      "<class 'set'>\n"
     ]
    }
   ],
   "source": [
    "first_set = set()\n",
    "print(type(first_set))"
   ]
  },
  {
   "cell_type": "code",
   "execution_count": 71,
   "id": "7babfc6a",
   "metadata": {
    "ExecuteTime": {
     "end_time": "2022-10-05T03:24:43.155275Z",
     "start_time": "2022-10-05T03:24:43.133596Z"
    }
   },
   "outputs": [
    {
     "name": "stdout",
     "output_type": "stream",
     "text": [
      "{1, 2, 3, 4}\n"
     ]
    }
   ],
   "source": [
    "second_set = set([1,2,2,3,3,4])\n",
    "print(second_set)"
   ]
  },
  {
   "cell_type": "markdown",
   "id": "56c43d41",
   "metadata": {},
   "source": [
    "## Set Methods - Built in set functions"
   ]
  },
  {
   "cell_type": "markdown",
   "id": "3edd30a7",
   "metadata": {},
   "source": [
    "\n",
    "| Method Name | Use | Explanation |\n",
    "|----|---|\n",
    "| union | aset.union(otherset) | Returns a new set with all elements from both sets |<br>\n",
    "| intersection\t| aset.intersection(otherset) |\tReturns a new set with only those elements common to both sets |<br>\n",
    "|difference\t|aset.difference(otherset)\t|Returns a new set with all items from first set not in second|<br>\n",
    "**|issubset|**\taset.issubset(otherset)|\t\tAsks whether all elements of one set are in the other|<br>\n",
    "|add|\taset.add(item)|\tAdds item to the set|<br>\n",
    "|remove|\taset.remove(item)|\tRemoves item from the set|<br>\n",
    "|pop|\taset.pop()|\tRemoves an arbitrary element from the set|<br>\n",
    "|clear|\taset.clear()|\tRemoves all elements from the set|<br>"
   ]
  },
  {
   "cell_type": "code",
   "execution_count": 72,
   "id": "3dfe1b6b",
   "metadata": {
    "ExecuteTime": {
     "end_time": "2022-10-05T03:24:43.997870Z",
     "start_time": "2022-10-05T03:24:43.981813Z"
    }
   },
   "outputs": [],
   "source": [
    "set_a = set([1,2,3])\n",
    "set_b = set([2,3,4,5])"
   ]
  },
  {
   "cell_type": "markdown",
   "id": "79640231",
   "metadata": {},
   "source": [
    "- Union: $X \\cup Y$:  \n",
    "**union( )** function returns a set which contains all the elements of both the sets without repetition."
   ]
  },
  {
   "cell_type": "code",
   "execution_count": 73,
   "id": "a6baab9b",
   "metadata": {
    "ExecuteTime": {
     "end_time": "2022-10-05T03:24:44.476362Z",
     "start_time": "2022-10-05T03:24:44.466399Z"
    }
   },
   "outputs": [
    {
     "data": {
      "text/plain": [
       "{1, 2, 3, 4, 5}"
      ]
     },
     "execution_count": 73,
     "metadata": {},
     "output_type": "execute_result"
    }
   ],
   "source": [
    "set_a.union(set_b)"
   ]
  },
  {
   "cell_type": "code",
   "execution_count": 74,
   "id": "79228df4",
   "metadata": {
    "ExecuteTime": {
     "end_time": "2022-10-05T03:24:44.699510Z",
     "start_time": "2022-10-05T03:24:44.683090Z"
    }
   },
   "outputs": [],
   "source": [
    "#Union\n",
    "X = {1, 2, 3}\n",
    "Y = {4, 5, 6}"
   ]
  },
  {
   "cell_type": "markdown",
   "id": "2fbee359",
   "metadata": {},
   "source": [
    "- Intersection: $X \\cap Y$:  \n",
    "**intersection( )** function outputs a set which contains all the elements that are in both sets."
   ]
  },
  {
   "cell_type": "code",
   "execution_count": 75,
   "id": "df641400",
   "metadata": {
    "ExecuteTime": {
     "end_time": "2022-10-05T03:24:45.138203Z",
     "start_time": "2022-10-05T03:24:45.116502Z"
    }
   },
   "outputs": [
    {
     "data": {
      "text/plain": [
       "{2, 3}"
      ]
     },
     "execution_count": 75,
     "metadata": {},
     "output_type": "execute_result"
    }
   ],
   "source": [
    "set_a.intersection(set_b)"
   ]
  },
  {
   "cell_type": "code",
   "execution_count": 76,
   "id": "7733f1ba",
   "metadata": {
    "ExecuteTime": {
     "end_time": "2022-10-05T03:24:45.322939Z",
     "start_time": "2022-10-05T03:24:45.313886Z"
    }
   },
   "outputs": [],
   "source": [
    "#Intersection\n",
    "X = {1, 2, 3, 4}\n",
    "Y = {3, 4, 5}"
   ]
  },
  {
   "cell_type": "markdown",
   "id": "c37b4cc3",
   "metadata": {},
   "source": [
    "- Difference $X - Y$:  \n",
    "**difference( )** function ouptuts a set which contains elements that are in set1 and not in set2."
   ]
  },
  {
   "cell_type": "code",
   "execution_count": 77,
   "id": "a48e0de0",
   "metadata": {
    "ExecuteTime": {
     "end_time": "2022-10-05T03:24:45.761590Z",
     "start_time": "2022-10-05T03:24:45.749013Z"
    }
   },
   "outputs": [
    {
     "data": {
      "text/plain": [
       "{1}"
      ]
     },
     "execution_count": 77,
     "metadata": {},
     "output_type": "execute_result"
    }
   ],
   "source": [
    "set_a.difference(set_b)"
   ]
  },
  {
   "cell_type": "code",
   "execution_count": 78,
   "id": "31fa3d5f",
   "metadata": {
    "ExecuteTime": {
     "end_time": "2022-10-05T03:24:46.095107Z",
     "start_time": "2022-10-05T03:24:46.086250Z"
    }
   },
   "outputs": [],
   "source": [
    "#Difference\n",
    "X = {1, 2, 3, 4}\n",
    "Y = {3, 4, 5}"
   ]
  },
  {
   "cell_type": "markdown",
   "id": "48505048",
   "metadata": {},
   "source": [
    "**symmetric_difference( )** function ouputs a function which contains elements that are in one of the sets."
   ]
  },
  {
   "cell_type": "code",
   "execution_count": 79,
   "id": "9f2b814a",
   "metadata": {
    "ExecuteTime": {
     "end_time": "2022-10-05T03:24:46.735813Z",
     "start_time": "2022-10-05T03:24:46.717102Z"
    }
   },
   "outputs": [
    {
     "data": {
      "text/plain": [
       "{1, 4, 5}"
      ]
     },
     "execution_count": 79,
     "metadata": {},
     "output_type": "execute_result"
    }
   ],
   "source": [
    "set_b.symmetric_difference(set_a)"
   ]
  },
  {
   "cell_type": "markdown",
   "id": "54b09899",
   "metadata": {},
   "source": [
    "## List to set and vice-versa"
   ]
  },
  {
   "cell_type": "code",
   "execution_count": 80,
   "id": "71b6015c",
   "metadata": {
    "ExecuteTime": {
     "end_time": "2022-10-05T03:24:47.539444Z",
     "start_time": "2022-10-05T03:24:47.530226Z"
    }
   },
   "outputs": [
    {
     "name": "stdout",
     "output_type": "stream",
     "text": [
      "{'B', 'D', 'C', 'A'}\n"
     ]
    }
   ],
   "source": [
    "list_with_duplicates = ['A','B','A','C','D','C','C','B']\n",
    "print(set(list_with_duplicates))"
   ]
  },
  {
   "cell_type": "code",
   "execution_count": 81,
   "id": "16fd3fe8",
   "metadata": {
    "ExecuteTime": {
     "end_time": "2022-10-05T03:24:48.214149Z",
     "start_time": "2022-10-05T03:24:48.196010Z"
    }
   },
   "outputs": [
    {
     "name": "stdout",
     "output_type": "stream",
     "text": [
      "['B', 'D', 'C', 'A']\n"
     ]
    }
   ],
   "source": [
    "#Convert it to a list by wrapping it back to a list\n",
    "print(list(set(list_with_duplicates)))"
   ]
  },
  {
   "cell_type": "markdown",
   "id": "1d196e7b",
   "metadata": {},
   "source": [
    "# Hash Table"
   ]
  },
  {
   "cell_type": "markdown",
   "id": "845a7972",
   "metadata": {},
   "source": [
    "* keys\n",
    "* Collisions\n",
    "* Creation\n",
    "* Check contains\n",
    "* Access\n",
    "* Delete"
   ]
  },
  {
   "cell_type": "code",
   "execution_count": 1,
   "id": "c15fdf1d",
   "metadata": {
    "ExecuteTime": {
     "end_time": "2022-11-27T04:06:35.211427Z",
     "start_time": "2022-11-27T04:06:35.157120Z"
    }
   },
   "outputs": [
    {
     "name": "stdout",
     "output_type": "stream",
     "text": [
      "-8516544472975998072\n"
     ]
    },
    {
     "data": {
      "text/plain": [
       "65"
      ]
     },
     "execution_count": 1,
     "metadata": {},
     "output_type": "execute_result"
    }
   ],
   "source": [
    "print(hash('A'))\n",
    "\n",
    "#Unicode code point \n",
    "ord('A')"
   ]
  },
  {
   "cell_type": "code",
   "execution_count": 2,
   "id": "0c628b38",
   "metadata": {
    "ExecuteTime": {
     "end_time": "2022-11-27T04:06:35.947833Z",
     "start_time": "2022-11-27T04:06:35.935777Z"
    }
   },
   "outputs": [
    {
     "data": {
      "text/plain": [
       "198"
      ]
     },
     "execution_count": 2,
     "metadata": {},
     "output_type": "execute_result"
    }
   ],
   "source": [
    "text= 'ABC'\n",
    "sum(ord(char) for char in text)"
   ]
  },
  {
   "cell_type": "code",
   "execution_count": 3,
   "id": "8043b919",
   "metadata": {
    "ExecuteTime": {
     "end_time": "2022-11-27T04:06:36.233748Z",
     "start_time": "2022-11-27T04:06:36.210580Z"
    }
   },
   "outputs": [
    {
     "name": "stdout",
     "output_type": "stream",
     "text": [
      "198\n",
      "199\n",
      "198\n"
     ]
    }
   ],
   "source": [
    "def hash_function(text):\n",
    "    return sum(ord(character) for character in text)\n",
    "\n",
    "text_ls = ['ABC', 'ABD', 'CBA']\n",
    "for text in text_ls:\n",
    "    print(hash_function(text))\n"
   ]
  },
  {
   "cell_type": "markdown",
   "id": "e7ab51d7",
   "metadata": {},
   "source": [
    "# Genrator Functions\n",
    "LAzy iterator: Loop over like a list"
   ]
  },
  {
   "cell_type": "markdown",
   "id": "57d0efa2",
   "metadata": {},
   "source": [
    "A generator-function is defined like a normal function, but whenever it needs to generate a value, it does so with the yield keyword rather than return"
   ]
  },
  {
   "cell_type": "markdown",
   "id": "0699c9cf",
   "metadata": {
    "ExecuteTime": {
     "end_time": "2022-11-27T05:10:11.226872Z",
     "start_time": "2022-11-27T05:10:11.190604Z"
    }
   },
   "source": [
    "After returning the value from yield, it pauses the execution by **saving** the states unlike return which Return statement returns the value and **terminates** the function."
   ]
  },
  {
   "cell_type": "markdown",
   "id": "0628c7f4",
   "metadata": {},
   "source": [
    "# Class"
   ]
  },
  {
   "cell_type": "markdown",
   "id": "d6574140",
   "metadata": {},
   "source": [
    "__init__() is a special function that is called automatically when an object of the class is created. It acts a constructor of the class and used to initialize an object.\n",
    "\n"
   ]
  },
  {
   "cell_type": "markdown",
   "id": "a8dc7e8d",
   "metadata": {},
   "source": [
    "## Create a class to count person with their name and age"
   ]
  },
  {
   "cell_type": "code",
   "execution_count": 4,
   "id": "9e921056",
   "metadata": {
    "ExecuteTime": {
     "end_time": "2022-11-27T04:06:41.483756Z",
     "start_time": "2022-11-27T04:06:41.452503Z"
    }
   },
   "outputs": [],
   "source": [
    "class Person:\n",
    "    '''Calculating person count'''\n",
    "    person_cnt = 0\n",
    "    def __init__(self,name,age):\n",
    "        self.name = name\n",
    "        self.age = age\n",
    "        Person.person_cnt+= 1\n",
    "    def display(self):\n",
    "        print(self.name)\n",
    "        print(self.age)"
   ]
  },
  {
   "cell_type": "code",
   "execution_count": 45,
   "id": "75ac2f0a",
   "metadata": {
    "ExecuteTime": {
     "end_time": "2022-09-28T18:26:19.880867Z",
     "start_time": "2022-09-28T18:26:19.850305Z"
    }
   },
   "outputs": [
    {
     "name": "stdout",
     "output_type": "stream",
     "text": [
      "ABD\n",
      "11\n"
     ]
    },
    {
     "data": {
      "text/plain": [
       "2"
      ]
     },
     "execution_count": 45,
     "metadata": {},
     "output_type": "execute_result"
    }
   ],
   "source": [
    "p1 = Person('ABC',12)\n",
    "p2 = Person('ABD',11)\n",
    "p2.display()\n",
    "p2.person_cnt"
   ]
  },
  {
   "cell_type": "code",
   "execution_count": 47,
   "id": "2f5f549f",
   "metadata": {
    "ExecuteTime": {
     "end_time": "2022-09-28T18:26:33.168507Z",
     "start_time": "2022-09-28T18:26:33.136374Z"
    }
   },
   "outputs": [
    {
     "name": "stdout",
     "output_type": "stream",
     "text": [
      "__doc__attribute- Calculating person count\n",
      "__bases__ attribute- (<class 'object'>,)\n",
      "__dict__attribute- {'__module__': '__main__', '__doc__': 'Calculating person count', 'person_cnt': 2, '__init__': <function Person.__init__ at 0x000001F320CEBE50>, 'display': <function Person.display at 0x000001F320CEBCA0>, '__dict__': <attribute '__dict__' of 'Person' objects>, '__weakref__': <attribute '__weakref__' of 'Person' objects>}\n",
      "__name__attribute- Person\n",
      "__module__attribute- __main__\n"
     ]
    }
   ],
   "source": [
    "# printing class attributes\n",
    "print('__doc__attribute-',Person.__doc__)\n",
    "\n",
    "print('__bases__ attribute-', Person.__bases__)\n",
    "print('__dict__attribute-',Person.__dict__)\n",
    "\n",
    "print('__name__attribute-',Person.__name__)\n",
    "print('__module__attribute-',Person.__module__)"
   ]
  },
  {
   "cell_type": "markdown",
   "id": "31b40816",
   "metadata": {},
   "source": [
    "# Bit MAp"
   ]
  },
  {
   "cell_type": "code",
   "execution_count": null,
   "id": "2831cbf3",
   "metadata": {},
   "outputs": [],
   "source": []
  },
  {
   "cell_type": "code",
   "execution_count": null,
   "id": "e77686a9",
   "metadata": {},
   "outputs": [],
   "source": []
  },
  {
   "cell_type": "markdown",
   "id": "259f5300",
   "metadata": {},
   "source": [
    "# Queue"
   ]
  },
  {
   "cell_type": "code",
   "execution_count": 1,
   "id": "49aa3b23",
   "metadata": {
    "ExecuteTime": {
     "end_time": "2022-10-05T07:49:22.152970Z",
     "start_time": "2022-10-05T07:49:22.056498Z"
    }
   },
   "outputs": [
    {
     "data": {
      "text/plain": [
       "['a', 'b', 'c']"
      ]
     },
     "execution_count": 1,
     "metadata": {},
     "output_type": "execute_result"
    }
   ],
   "source": [
    "queue= []\n",
    "\n",
    "for i in ['a','b','c']:\n",
    "    queue.append(i)\n",
    "queue"
   ]
  },
  {
   "cell_type": "markdown",
   "id": "83f51d5b",
   "metadata": {},
   "source": [
    "## Dequeue"
   ]
  },
  {
   "cell_type": "code",
   "execution_count": 3,
   "id": "4f26ea93",
   "metadata": {
    "ExecuteTime": {
     "end_time": "2022-10-05T07:50:18.713250Z",
     "start_time": "2022-10-05T07:50:18.679723Z"
    }
   },
   "outputs": [
    {
     "name": "stdout",
     "output_type": "stream",
     "text": [
      "a\n",
      "b\n",
      "c\n"
     ]
    },
    {
     "data": {
      "text/plain": [
       "[]"
      ]
     },
     "execution_count": 3,
     "metadata": {},
     "output_type": "execute_result"
    }
   ],
   "source": [
    "for i in range(len(queue)):\n",
    "    print(queue.pop(0))\n",
    "    \n",
    "queue"
   ]
  },
  {
   "cell_type": "code",
   "execution_count": null,
   "id": "bb0df0b5",
   "metadata": {},
   "outputs": [],
   "source": []
  }
 ],
 "metadata": {
  "kernelspec": {
   "display_name": "Python 3 (ipykernel)",
   "language": "python",
   "name": "python3"
  },
  "language_info": {
   "codemirror_mode": {
    "name": "ipython",
    "version": 3
   },
   "file_extension": ".py",
   "mimetype": "text/x-python",
   "name": "python",
   "nbconvert_exporter": "python",
   "pygments_lexer": "ipython3",
   "version": "3.9.7"
  },
  "toc": {
   "base_numbering": 1,
   "nav_menu": {},
   "number_sections": true,
   "sideBar": true,
   "skip_h1_title": false,
   "title_cell": "Table of Contents",
   "title_sidebar": "Contents",
   "toc_cell": false,
   "toc_position": {
    "height": "calc(100% - 180px)",
    "left": "10px",
    "top": "150px",
    "width": "237.188px"
   },
   "toc_section_display": true,
   "toc_window_display": true
  }
 },
 "nbformat": 4,
 "nbformat_minor": 5
}
