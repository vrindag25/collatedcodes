{
 "cells": [
  {
   "cell_type": "code",
   "execution_count": 145,
   "id": "f067ad2d",
   "metadata": {
    "ExecuteTime": {
     "end_time": "2022-09-22T14:35:21.563280Z",
     "start_time": "2022-09-22T14:35:16.819989Z"
    }
   },
   "outputs": [],
   "source": [
    "import numpy as np\n",
    "import itertools"
   ]
  },
  {
   "cell_type": "markdown",
   "id": "cf033e94",
   "metadata": {},
   "source": [
    "# Algos"
   ]
  },
  {
   "cell_type": "markdown",
   "id": "c7c6b2d2",
   "metadata": {},
   "source": [
    "## Swapping"
   ]
  },
  {
   "cell_type": "code",
   "execution_count": 13,
   "id": "94989600",
   "metadata": {
    "ExecuteTime": {
     "end_time": "2022-09-19T18:39:19.624621Z",
     "start_time": "2022-09-19T18:39:19.604640Z"
    }
   },
   "outputs": [
    {
     "name": "stdout",
     "output_type": "stream",
     "text": [
      "x before swap 10 y before swap 15\n",
      "x after swap 15 y after swap 10\n"
     ]
    }
   ],
   "source": [
    "x = 10\n",
    "y = 15\n",
    "print('x before swap {0}'.format(x),'y before swap {0}'.format(y))\n",
    "z = x\n",
    "x = y\n",
    "y = z\n",
    "print('x after swap {0}'.format(x),'y after swap {0}'.format(y))"
   ]
  },
  {
   "cell_type": "markdown",
   "id": "ef8c08f7",
   "metadata": {},
   "source": [
    "## Even Odd\n"
   ]
  },
  {
   "cell_type": "code",
   "execution_count": 19,
   "id": "abcfdee2",
   "metadata": {
    "ExecuteTime": {
     "end_time": "2022-09-19T18:44:12.463962Z",
     "start_time": "2022-09-19T18:44:12.452253Z"
    }
   },
   "outputs": [
    {
     "name": "stdout",
     "output_type": "stream",
     "text": [
      "1  is odd\n"
     ]
    }
   ],
   "source": [
    "x = 10\n",
    "y = 15\n",
    "def evenodd(x):\n",
    "    if x%2==0:\n",
    "        print(x,' is even')\n",
    "    else:\n",
    "        print(x,' is odd')"
   ]
  },
  {
   "cell_type": "markdown",
   "id": "cc32ab4d",
   "metadata": {},
   "source": [
    "## ALarm Clock"
   ]
  },
  {
   "cell_type": "code",
   "execution_count": 28,
   "id": "5153a688",
   "metadata": {
    "ExecuteTime": {
     "end_time": "2022-09-19T18:56:38.910949Z",
     "start_time": "2022-09-19T18:56:38.903930Z"
    }
   },
   "outputs": [],
   "source": [
    "week = np.arange(1,8)\n",
    "vac = [True,False]"
   ]
  },
  {
   "cell_type": "code",
   "execution_count": 35,
   "id": "419eb05e",
   "metadata": {
    "ExecuteTime": {
     "end_time": "2022-09-19T19:00:16.540288Z",
     "start_time": "2022-09-19T19:00:16.523145Z"
    }
   },
   "outputs": [],
   "source": [
    "week = 6\n",
    "vac = False"
   ]
  },
  {
   "cell_type": "code",
   "execution_count": 37,
   "id": "8d9cb561",
   "metadata": {
    "ExecuteTime": {
     "end_time": "2022-09-19T19:00:23.686597Z",
     "start_time": "2022-09-19T19:00:23.678043Z"
    }
   },
   "outputs": [
    {
     "name": "stdout",
     "output_type": "stream",
     "text": [
      "10AM\n"
     ]
    }
   ],
   "source": [
    "if vac == False:\n",
    "    if week in np.arange(1,5):\n",
    "        print('7AM')\n",
    "    else:\n",
    "        print('10AM')\n",
    "else:\n",
    "    print('No alarm')"
   ]
  },
  {
   "cell_type": "markdown",
   "id": "edf1f077",
   "metadata": {},
   "source": [
    "# Time Complexity"
   ]
  },
  {
   "cell_type": "code",
   "execution_count": 3,
   "id": "38b293ed",
   "metadata": {
    "ExecuteTime": {
     "end_time": "2022-09-20T06:08:19.048747Z",
     "start_time": "2022-09-20T06:08:19.024701Z"
    }
   },
   "outputs": [
    {
     "name": "stdout",
     "output_type": "stream",
     "text": [
      "0.0\n"
     ]
    }
   ],
   "source": [
    "import time \n",
    "mylist=[1,3,5,7] #fill up the list with some integer values, as many as you want\n",
    "k= 2\n",
    "\n",
    "start = time.process_time() \n",
    "\n",
    "for i in range(len(mylist)):\n",
    "    if mylist[i]==k:\n",
    "        print(i)\n",
    "print(time.process_time() - start)"
   ]
  },
  {
   "cell_type": "markdown",
   "id": "46ae42fb",
   "metadata": {},
   "source": [
    "# Strings"
   ]
  },
  {
   "cell_type": "code",
   "execution_count": 1,
   "id": "062c286c",
   "metadata": {
    "ExecuteTime": {
     "end_time": "2022-12-07T14:30:38.166569Z",
     "start_time": "2022-12-07T14:30:38.152300Z"
    }
   },
   "outputs": [
    {
     "data": {
      "text/plain": [
       "'structure'"
      ]
     },
     "execution_count": 1,
     "metadata": {},
     "output_type": "execute_result"
    }
   ],
   "source": [
    "'t'.join(['struc','ure'])"
   ]
  },
  {
   "cell_type": "code",
   "execution_count": 2,
   "id": "81ed6aed",
   "metadata": {
    "ExecuteTime": {
     "end_time": "2022-12-07T14:30:51.925352Z",
     "start_time": "2022-12-07T14:30:51.917790Z"
    }
   },
   "outputs": [
    {
     "data": {
      "text/plain": [
       "'structure'"
      ]
     },
     "execution_count": 2,
     "metadata": {},
     "output_type": "execute_result"
    }
   ],
   "source": [
    "'aabstructureaab'.strip('aab')"
   ]
  },
  {
   "cell_type": "code",
   "execution_count": 5,
   "id": "1a5500cc",
   "metadata": {
    "ExecuteTime": {
     "end_time": "2022-12-07T14:31:36.620652Z",
     "start_time": "2022-12-07T14:31:36.600366Z"
    }
   },
   "outputs": [
    {
     "data": {
      "text/plain": [
       "'structureaa'"
      ]
     },
     "execution_count": 5,
     "metadata": {},
     "output_type": "execute_result"
    }
   ],
   "source": [
    "'aabstructureaab'.strip('a').strip('b')"
   ]
  },
  {
   "cell_type": "markdown",
   "id": "db211d0c",
   "metadata": {},
   "source": [
    "## Palindromes"
   ]
  },
  {
   "cell_type": "code",
   "execution_count": 13,
   "id": "631fd02c",
   "metadata": {
    "ExecuteTime": {
     "end_time": "2022-09-20T07:48:56.160593Z",
     "start_time": "2022-09-20T07:48:56.138961Z"
    }
   },
   "outputs": [],
   "source": [
    "s= 'EYES'\n",
    "r = s.lower()[::-1]"
   ]
  },
  {
   "cell_type": "code",
   "execution_count": 18,
   "id": "a7153b2d",
   "metadata": {
    "ExecuteTime": {
     "end_time": "2022-09-20T07:51:06.208018Z",
     "start_time": "2022-09-20T07:51:06.190517Z"
    }
   },
   "outputs": [
    {
     "name": "stdout",
     "output_type": "stream",
     "text": [
      "no\n"
     ]
    }
   ],
   "source": [
    "if r == s:\n",
    "    print('yes')\n",
    "else:\n",
    "    print('no')"
   ]
  },
  {
   "cell_type": "code",
   "execution_count": 19,
   "id": "1630a77d",
   "metadata": {
    "ExecuteTime": {
     "end_time": "2022-09-20T07:51:59.142390Z",
     "start_time": "2022-09-20T07:51:59.123004Z"
    }
   },
   "outputs": [
    {
     "name": "stdout",
     "output_type": "stream",
     "text": [
      "E\n",
      "YE\n",
      "EYE\n",
      "SEYE\n"
     ]
    }
   ],
   "source": [
    "r = ''\n",
    "for i in s:\n",
    "    r = i+r\n",
    "    print(r)"
   ]
  },
  {
   "cell_type": "markdown",
   "id": "1c13d39a",
   "metadata": {},
   "source": [
    "## Reverse words"
   ]
  },
  {
   "cell_type": "code",
   "execution_count": 41,
   "id": "4081e286",
   "metadata": {
    "ExecuteTime": {
     "end_time": "2022-09-20T08:05:39.202052Z",
     "start_time": "2022-09-20T08:05:39.182130Z"
    }
   },
   "outputs": [
    {
     "name": "stdout",
     "output_type": "stream",
     "text": [
      "I \n",
      "love I \n",
      "coding love I \n"
     ]
    }
   ],
   "source": [
    "word = 'I love coding'\n",
    "rev_word = ''\n",
    "for i in word.split():\n",
    "    rev_word = i+' ' +rev_word\n",
    "    print(rev_word)"
   ]
  },
  {
   "cell_type": "code",
   "execution_count": null,
   "id": "04878703",
   "metadata": {},
   "outputs": [],
   "source": [
    "str_split_rev = word.split().reverse()\n",
    "\n",
    "for i in str_split_rev:\n",
    "    print(' '.join(i))"
   ]
  },
  {
   "cell_type": "markdown",
   "id": "f111c04b",
   "metadata": {},
   "source": [
    "## Find matching prefix"
   ]
  },
  {
   "cell_type": "code",
   "execution_count": 1,
   "id": "442b6504",
   "metadata": {
    "ExecuteTime": {
     "end_time": "2022-10-06T09:51:07.031728Z",
     "start_time": "2022-10-06T09:50:56.840032Z"
    }
   },
   "outputs": [
    {
     "name": "stdout",
     "output_type": "stream",
     "text": [
      "abvrt\n",
      "atrf\n",
      "a\n"
     ]
    }
   ],
   "source": [
    "string1=input()\n",
    "string2=input()\n",
    "\n",
    "string1= string1.lower()\n",
    "string2= string2.lower()\n",
    "\n",
    "\n",
    "#start writing your code to find largest common prefix here\n",
    "n = min(len(string1),len(string2))\n",
    "\n",
    "for i in range(n):\n",
    "    if string1[i]!=string2[i]:\n",
    "        break\n",
    "\n",
    "print(string1[:i])"
   ]
  },
  {
   "cell_type": "markdown",
   "id": "9edbe127",
   "metadata": {},
   "source": [
    "## Remove spaces \n",
    "Sample input:\n",
    "caloRie consuMed\n",
    "\n",
    "Sample output:\n",
    "Calorie_Consumed"
   ]
  },
  {
   "cell_type": "markdown",
   "id": "dd876951",
   "metadata": {},
   "source": [
    "* Find index where there's space\n",
    "* Convert all lower case\n",
    "* First letter is upper case\n",
    "* First letter after space is upper case"
   ]
  },
  {
   "cell_type": "code",
   "execution_count": 4,
   "id": "d8462aa0",
   "metadata": {
    "ExecuteTime": {
     "end_time": "2022-10-06T09:52:49.991035Z",
     "start_time": "2022-10-06T09:52:49.971458Z"
    }
   },
   "outputs": [
    {
     "data": {
      "text/plain": [
       "['Ca']"
      ]
     },
     "execution_count": 4,
     "metadata": {},
     "output_type": "execute_result"
    }
   ],
   "source": [
    "['C'+'a']"
   ]
  },
  {
   "cell_type": "code",
   "execution_count": 126,
   "id": "870a7ee2",
   "metadata": {
    "ExecuteTime": {
     "end_time": "2022-09-21T09:04:41.970209Z",
     "start_time": "2022-09-21T09:04:41.954612Z"
    }
   },
   "outputs": [],
   "source": [
    "string1 ='caloRie consuMed'"
   ]
  },
  {
   "cell_type": "code",
   "execution_count": 159,
   "id": "d7038b34",
   "metadata": {
    "ExecuteTime": {
     "end_time": "2022-09-21T09:49:30.023490Z",
     "start_time": "2022-09-21T09:49:30.012456Z"
    }
   },
   "outputs": [
    {
     "name": "stdout",
     "output_type": "stream",
     "text": [
      "Calorie_Consumed\n"
     ]
    }
   ],
   "source": [
    "string1 = string1.lower()\n",
    "str_split = string1.split()\n",
    "\n",
    "new_string = [str_split[i][0].upper()+str_split[i][1:] for i in range(len(str_split))]\n",
    "\n",
    "##### OR ##########\n",
    "\n",
    "new_string = [word[0].upper()+word[1:] for word in str_split]\n",
    "\n",
    "######### For cleaner efficient coding use title ########\n",
    "new_string = [word.title() for word in str_split]\n",
    "\n",
    "\n",
    "print('_'.join(new_string))\n"
   ]
  },
  {
   "cell_type": "markdown",
   "id": "560e36f4",
   "metadata": {},
   "source": [
    "## Move Vowels"
   ]
  },
  {
   "cell_type": "code",
   "execution_count": 163,
   "id": "b0582ece",
   "metadata": {
    "ExecuteTime": {
     "end_time": "2022-09-21T09:59:30.353646Z",
     "start_time": "2022-09-21T09:59:30.336472Z"
    }
   },
   "outputs": [
    {
     "data": {
      "text/plain": [
       "'oeo I lv Pythn'"
      ]
     },
     "execution_count": 163,
     "metadata": {},
     "output_type": "execute_result"
    }
   ],
   "source": [
    "word = 'programming'\n",
    "line = ' I love Python'\n",
    "vowels = ['a','e','i','o','u']\n",
    "vow_ls= ''\n",
    "cons_ls = ''\n",
    "\n",
    "for l in line:\n",
    "    if l in vowels:\n",
    "        vow_ls = vow_ls+l\n",
    "    else:\n",
    "        cons_ls = cons_ls+l\n",
    "        \n",
    "vow_ls+cons_ls"
   ]
  },
  {
   "cell_type": "markdown",
   "id": "d69a9bcc",
   "metadata": {},
   "source": [
    "## Anagrams"
   ]
  },
  {
   "cell_type": "code",
   "execution_count": 18,
   "id": "cdff9c07",
   "metadata": {
    "ExecuteTime": {
     "end_time": "2022-10-06T09:58:41.905513Z",
     "start_time": "2022-10-06T09:58:41.890649Z"
    }
   },
   "outputs": [],
   "source": [
    "import itertools\n",
    "word1= 'seen'\n",
    "word2 = 'sent'\n",
    "word3 ='tens'\n",
    "\n",
    "def check_anagram(word1,word2):\n",
    "    result = ''\n",
    "    if len(word1)!= len(word2):\n",
    "        print('Not an analgram')\n",
    "    for l1, l2 in itertools.product(word1,word2):\n",
    "        print(l1,l2)\n",
    "        if l1 not in word2 or l2 not in word1 :\n",
    "            print('Not an analgram')\n",
    "            break\n",
    "        else:\n",
    "            l1 in word2 and l2 in word1\n",
    "            next\n",
    "            print(22, l1, l2)\n",
    "            print('It is anagram')"
   ]
  },
  {
   "cell_type": "code",
   "execution_count": 24,
   "id": "ecc13867",
   "metadata": {
    "ExecuteTime": {
     "end_time": "2022-10-06T09:59:51.079478Z",
     "start_time": "2022-10-06T09:59:51.072493Z"
    }
   },
   "outputs": [
    {
     "name": "stdout",
     "output_type": "stream",
     "text": [
      "s s\n",
      "22 s s\n",
      "It is anagram\n",
      "s e\n",
      "22 s e\n",
      "It is anagram\n",
      "s n\n",
      "22 s n\n",
      "It is anagram\n",
      "s t\n",
      "Not an analgram\n"
     ]
    }
   ],
   "source": [
    "check_anagram(word1,word2)\n",
    "# check_anagram(word2,word3)"
   ]
  },
  {
   "cell_type": "code",
   "execution_count": 10,
   "id": "73e6eae2",
   "metadata": {
    "ExecuteTime": {
     "end_time": "2022-09-22T06:39:26.699718Z",
     "start_time": "2022-09-22T06:39:26.680039Z"
    },
    "scrolled": true
   },
   "outputs": [
    {
     "data": {
      "text/plain": [
       "['t', 'e', 'n', 's']"
      ]
     },
     "execution_count": 10,
     "metadata": {},
     "output_type": "execute_result"
    }
   ],
   "source": [
    "word2_ls = list(word2)\n",
    "word2_ls"
   ]
  },
  {
   "cell_type": "code",
   "execution_count": 15,
   "id": "eb0d54cc",
   "metadata": {
    "ExecuteTime": {
     "end_time": "2022-09-22T06:40:44.463846Z",
     "start_time": "2022-09-22T06:40:44.445638Z"
    }
   },
   "outputs": [
    {
     "data": {
      "text/plain": [
       "['s', 'e', 'n']"
      ]
     },
     "execution_count": 15,
     "metadata": {},
     "output_type": "execute_result"
    }
   ],
   "source": [
    "word1_ls.remove('e')"
   ]
  },
  {
   "cell_type": "code",
   "execution_count": 26,
   "id": "d88db965",
   "metadata": {
    "ExecuteTime": {
     "end_time": "2022-10-06T10:01:45.630619Z",
     "start_time": "2022-10-06T10:01:45.611560Z"
    }
   },
   "outputs": [
    {
     "ename": "TypeError",
     "evalue": "count() takes at least 1 argument (0 given)",
     "output_type": "error",
     "traceback": [
      "\u001b[1;31m---------------------------------------------------------------------------\u001b[0m",
      "\u001b[1;31mTypeError\u001b[0m                                 Traceback (most recent call last)",
      "\u001b[1;32mC:\\Users\\PI0322~1\\AppData\\Local\\Temp/ipykernel_31080/3970835786.py\u001b[0m in \u001b[0;36m<module>\u001b[1;34m\u001b[0m\n\u001b[1;32m----> 1\u001b[1;33m \u001b[0mword1\u001b[0m\u001b[1;33m.\u001b[0m\u001b[0mcount\u001b[0m\u001b[1;33m(\u001b[0m\u001b[1;33m)\u001b[0m\u001b[1;33m\u001b[0m\u001b[1;33m\u001b[0m\u001b[0m\n\u001b[0m",
      "\u001b[1;31mTypeError\u001b[0m: count() takes at least 1 argument (0 given)"
     ]
    }
   ],
   "source": [
    "word1.count()"
   ]
  },
  {
   "cell_type": "markdown",
   "id": "6c43d418",
   "metadata": {},
   "source": [
    "# ANagram Function"
   ]
  },
  {
   "cell_type": "code",
   "execution_count": 32,
   "id": "616b2dec",
   "metadata": {
    "ExecuteTime": {
     "end_time": "2022-10-06T10:05:49.283380Z",
     "start_time": "2022-10-06T10:05:49.265132Z"
    }
   },
   "outputs": [
    {
     "name": "stdout",
     "output_type": "stream",
     "text": [
      "True\n",
      "False\n",
      "False\n",
      "True\n"
     ]
    }
   ],
   "source": [
    "word1= 'seen'\n",
    "word2 = 'sent'\n",
    "\n",
    "if len(word1)!= len(word2):\n",
    "    print(False) \n",
    "for i in range(len(word1)):\n",
    "#     print(word1.count(word1[i]), word2.count(word1[i]))\n",
    "    if word1.count(word1[i]) !=word2.count(word1[i]):\n",
    "        print(False)\n",
    "    else:\n",
    "        print(True)"
   ]
  },
  {
   "cell_type": "markdown",
   "id": "bc311f80",
   "metadata": {},
   "source": [
    "## Ascending order of strings' element's frequency"
   ]
  },
  {
   "cell_type": "markdown",
   "id": "59894a7a",
   "metadata": {},
   "source": [
    "### Learning:\n",
    "* Order of the if else really matters; use not condition first "
   ]
  },
  {
   "cell_type": "code",
   "execution_count": 42,
   "id": "e7c2ec68",
   "metadata": {
    "ExecuteTime": {
     "end_time": "2022-10-06T10:09:47.876383Z",
     "start_time": "2022-10-06T10:09:47.859775Z"
    }
   },
   "outputs": [],
   "source": [
    "word_str = ['$yrr$ssrsr',\n",
    "            '$yrr$ssrsr%']"
   ]
  },
  {
   "cell_type": "code",
   "execution_count": 47,
   "id": "2caebe66",
   "metadata": {
    "ExecuteTime": {
     "end_time": "2022-10-06T10:13:29.664549Z",
     "start_time": "2022-10-06T10:13:29.640126Z"
    }
   },
   "outputs": [
    {
     "name": "stdout",
     "output_type": "stream",
     "text": [
      "$ False\n",
      "y False\n",
      "r False\n",
      "r True\n",
      "$ True\n",
      "s False\n",
      "s True\n",
      "r True\n",
      "s True\n",
      "r True\n"
     ]
    },
    {
     "data": {
      "text/plain": [
       "{'$': 1, 'y': 1, 'r': 1, 's': 1}"
      ]
     },
     "execution_count": 47,
     "metadata": {},
     "output_type": "execute_result"
    }
   ],
   "source": [
    "dict1 = {}\n",
    "\n",
    "for i in list(word_str[0]):\n",
    "    print(i, i in dict1.keys())\n",
    "    if i in dict1.keys():\n",
    "        dict1[i]=dict1[i]+1\n",
    "    dict1[i] = 1\n",
    "dict1"
   ]
  },
  {
   "cell_type": "markdown",
   "id": "18e2be57",
   "metadata": {},
   "source": [
    "### Vs This is correct"
   ]
  },
  {
   "cell_type": "code",
   "execution_count": 130,
   "id": "55bcf8c5",
   "metadata": {
    "ExecuteTime": {
     "end_time": "2022-09-22T14:22:51.587362Z",
     "start_time": "2022-09-22T14:22:51.567716Z"
    }
   },
   "outputs": [
    {
     "data": {
      "text/plain": [
       "{'$': 2, 'y': 1, 'r': 4, 's': 3, '%': 1}"
      ]
     },
     "execution_count": 130,
     "metadata": {},
     "output_type": "execute_result"
    }
   ],
   "source": [
    "# Add characters with their frequency in the dictionary \n",
    "dict1={}\n",
    "for i in list(word_str[1]):\n",
    "    if i not in dict1.keys():\n",
    "        dict1[i]=1\n",
    "    else:\n",
    "        dict1[i]=dict1[i]+1 \n",
    "dict1"
   ]
  },
  {
   "cell_type": "code",
   "execution_count": 139,
   "id": "3ea625b3",
   "metadata": {
    "ExecuteTime": {
     "end_time": "2022-09-22T14:30:20.109886Z",
     "start_time": "2022-09-22T14:30:20.096135Z"
    }
   },
   "outputs": [
    {
     "name": "stdout",
     "output_type": "stream",
     "text": [
      "1\n",
      "True\n",
      "2\n",
      "True\n",
      "3\n",
      "True\n",
      "4\n",
      "True\n",
      "5\n",
      "False\n"
     ]
    }
   ],
   "source": [
    "# Sort the values and check for duplicates\n",
    "freq_ls = list(dict1.values())\n",
    "freq_ls\n",
    "\n",
    "for i in range(1,len(dict1)+1):\n",
    "    print(i)\n",
    "    if i not in freq_ls:\n",
    "        print(False)\n",
    "    else:\n",
    "        print(True)"
   ]
  },
  {
   "cell_type": "markdown",
   "id": "69330a35",
   "metadata": {},
   "source": [
    "## Convert Dictionary to list "
   ]
  },
  {
   "cell_type": "code",
   "execution_count": 140,
   "id": "573f13f2",
   "metadata": {
    "ExecuteTime": {
     "end_time": "2022-09-22T14:32:42.705505Z",
     "start_time": "2022-09-22T14:32:42.690792Z"
    }
   },
   "outputs": [],
   "source": [
    "dict1 = {'Mobile': ['Redmi', 'Samsung', 'Realme'], \n",
    "         'Laptop': ['Dell', 'HP'],\n",
    "         'TV': ['Videocon', 'Sony'] }\n",
    "\n",
    "#[‘Mobile_Redmi’, ‘Mobile_Samsung’, ‘Mobile_Realme’, ‘Laptop_Dell’, ‘Laptop_HP’, ‘TV_Videocon’, ‘TV_Sony’]"
   ]
  },
  {
   "cell_type": "code",
   "execution_count": 152,
   "id": "7b3c316b",
   "metadata": {
    "ExecuteTime": {
     "end_time": "2022-09-22T14:40:52.169148Z",
     "start_time": "2022-09-22T14:40:52.148801Z"
    }
   },
   "outputs": [
    {
     "data": {
      "text/plain": [
       "['Mobile_Redmi',\n",
       " 'Mobile_Samsung',\n",
       " 'Mobile_Realme',\n",
       " 'Laptop_Dell',\n",
       " 'Laptop_HP',\n",
       " 'TV_Videocon',\n",
       " 'TV_Sony']"
      ]
     },
     "execution_count": 152,
     "metadata": {},
     "output_type": "execute_result"
    }
   ],
   "source": [
    "# for i,j in itertools.product(dict1.keys(),dict1.values()):\n",
    "#     print(i,j)\n",
    "dict_ls = []\n",
    "for k in dict1.keys():\n",
    "    for v in dict1[k]:\n",
    "        dict_ls.append(k+'_'+v)\n",
    "        \n",
    "dict_ls"
   ]
  },
  {
   "cell_type": "markdown",
   "id": "d57598d2",
   "metadata": {},
   "source": [
    "## Find cheapest "
   ]
  },
  {
   "cell_type": "code",
   "execution_count": 48,
   "id": "1d22ed37",
   "metadata": {
    "ExecuteTime": {
     "end_time": "2022-10-06T10:19:13.613835Z",
     "start_time": "2022-10-06T10:19:13.606602Z"
    }
   },
   "outputs": [],
   "source": [
    "dict1 = {'mobile1':10000, 'mobile2':11000, 'mobile3':13000, 'mobile4':9000,\n",
    " 'mobile5':15000, 'mobile6':16000, 'mobile7':17000, 'mobile8':18000, 'mobile9':19000}"
   ]
  },
  {
   "cell_type": "code",
   "execution_count": 59,
   "id": "dc9cafeb",
   "metadata": {
    "ExecuteTime": {
     "end_time": "2022-10-06T10:25:48.813242Z",
     "start_time": "2022-10-06T10:25:48.799876Z"
    }
   },
   "outputs": [
    {
     "name": "stdout",
     "output_type": "stream",
     "text": [
      "mobile1 10000\n",
      "mobile2 11000\n",
      "mobile3 13000\n",
      "mobile4 9000\n",
      "mobile5 15000\n",
      "mobile6 16000\n",
      "mobile7 17000\n",
      "mobile8 18000\n",
      "mobile9 19000\n"
     ]
    }
   ],
   "source": [
    "minval = 0\n",
    "k=0\n",
    "for key in dict1:\n",
    "    print(key, dict1[key])\n",
    "#     if dict1[key] < minval:\n",
    "#         minval= dict[key]\n",
    "#         k = key\n",
    "#     next"
   ]
  },
  {
   "cell_type": "code",
   "execution_count": 63,
   "id": "a129fa8b",
   "metadata": {
    "ExecuteTime": {
     "end_time": "2022-10-06T10:27:30.446377Z",
     "start_time": "2022-10-06T10:27:30.436410Z"
    }
   },
   "outputs": [
    {
     "data": {
      "text/plain": [
       "['mobile4']"
      ]
     },
     "execution_count": 63,
     "metadata": {},
     "output_type": "execute_result"
    }
   ],
   "source": [
    "minval = min(dict1.values())\n",
    "[key for key in dict1 if dict1[key]==minval]"
   ]
  },
  {
   "cell_type": "markdown",
   "id": "086ae778",
   "metadata": {},
   "source": [
    "# Intersection"
   ]
  },
  {
   "cell_type": "code",
   "execution_count": null,
   "id": "8488f447",
   "metadata": {},
   "outputs": [],
   "source": [
    "set.intersection(A, B, C)\n",
    "A.intersection(B,C)"
   ]
  },
  {
   "cell_type": "markdown",
   "id": "f51dfc42",
   "metadata": {},
   "source": [
    "### Elements of lists are immutable"
   ]
  },
  {
   "cell_type": "code",
   "execution_count": 43,
   "id": "90111405",
   "metadata": {
    "ExecuteTime": {
     "end_time": "2022-09-20T09:46:18.124184Z",
     "start_time": "2022-09-20T09:46:18.119079Z"
    }
   },
   "outputs": [],
   "source": [
    "S={2, 3, 'a'}\n",
    "S= {[1,2]}"
   ]
  },
  {
   "cell_type": "markdown",
   "id": "b55593e8",
   "metadata": {},
   "source": [
    "## Dictionary"
   ]
  },
  {
   "cell_type": "code",
   "execution_count": 50,
   "id": "e1101c4f",
   "metadata": {
    "ExecuteTime": {
     "end_time": "2022-09-20T09:49:47.026184Z",
     "start_time": "2022-09-20T09:49:47.000319Z"
    }
   },
   "outputs": [
    {
     "data": {
      "text/plain": [
       "{'A': 1, 'B': 2}"
      ]
     },
     "execution_count": 50,
     "metadata": {},
     "output_type": "execute_result"
    }
   ],
   "source": [
    "d = dict( A = 1,B = 2)\n",
    "d"
   ]
  },
  {
   "cell_type": "code",
   "execution_count": 57,
   "id": "7ea30831",
   "metadata": {
    "ExecuteTime": {
     "end_time": "2022-09-20T09:52:45.958800Z",
     "start_time": "2022-09-20T09:52:45.938204Z"
    }
   },
   "outputs": [
    {
     "data": {
      "text/plain": [
       "{'A': 1, 'B': 2}"
      ]
     },
     "execution_count": 57,
     "metadata": {},
     "output_type": "execute_result"
    }
   ],
   "source": [
    "d = {'A': 1, 'B': 2}\n",
    "d"
   ]
  },
  {
   "cell_type": "code",
   "execution_count": 52,
   "id": "6736d196",
   "metadata": {
    "ExecuteTime": {
     "end_time": "2022-09-20T09:51:18.329256Z",
     "start_time": "2022-09-20T09:51:18.317074Z"
    }
   },
   "outputs": [
    {
     "data": {
      "text/plain": [
       "dict_keys(['A', 'B'])"
      ]
     },
     "execution_count": 52,
     "metadata": {},
     "output_type": "execute_result"
    }
   ],
   "source": [
    "d.keys()"
   ]
  },
  {
   "cell_type": "code",
   "execution_count": 53,
   "id": "7eb50ff8",
   "metadata": {
    "ExecuteTime": {
     "end_time": "2022-09-20T09:51:54.126234Z",
     "start_time": "2022-09-20T09:51:54.112963Z"
    }
   },
   "outputs": [
    {
     "data": {
      "text/plain": [
       "dict_values([1, 2])"
      ]
     },
     "execution_count": 53,
     "metadata": {},
     "output_type": "execute_result"
    }
   ],
   "source": [
    "d.values()"
   ]
  },
  {
   "cell_type": "code",
   "execution_count": 58,
   "id": "ed55fcb5",
   "metadata": {
    "ExecuteTime": {
     "end_time": "2022-09-20T09:52:48.029094Z",
     "start_time": "2022-09-20T09:52:48.009381Z"
    }
   },
   "outputs": [
    {
     "data": {
      "text/plain": [
       "{'B': 2}"
      ]
     },
     "execution_count": 58,
     "metadata": {},
     "output_type": "execute_result"
    }
   ],
   "source": [
    "del d['A']\n",
    "d"
   ]
  },
  {
   "cell_type": "markdown",
   "id": "681642e2",
   "metadata": {},
   "source": [
    "## Problem"
   ]
  },
  {
   "cell_type": "markdown",
   "id": "c38f6e53",
   "metadata": {
    "ExecuteTime": {
     "end_time": "2022-09-20T10:00:16.526739Z",
     "start_time": "2022-09-20T10:00:16.506242Z"
    }
   },
   "source": [
    "----c---- \n",
    "--c-b-c-- \n",
    "c-b-a-b-c \n",
    "--c-b-c-- \n",
    "----c----"
   ]
  },
  {
   "cell_type": "code",
   "execution_count": 80,
   "id": "39b62ee2",
   "metadata": {
    "ExecuteTime": {
     "end_time": "2022-09-20T10:18:43.797592Z",
     "start_time": "2022-09-20T10:18:43.777241Z"
    }
   },
   "outputs": [
    {
     "name": "stdout",
     "output_type": "stream",
     "text": [
      "-- \n",
      "\n",
      "a\n",
      "-- \n",
      "\n",
      "b\n"
     ]
    }
   ],
   "source": [
    "import string\n",
    "k= 2\n",
    "for i in range(k):\n",
    "    print('-'*k, '\\n')\n",
    "    print(string.ascii_lowercase[i])\n",
    "    i = i+1"
   ]
  },
  {
   "cell_type": "code",
   "execution_count": 64,
   "id": "49f32f3e",
   "metadata": {
    "ExecuteTime": {
     "end_time": "2022-09-20T10:07:15.742102Z",
     "start_time": "2022-09-20T10:07:15.729843Z"
    }
   },
   "outputs": [
    {
     "data": {
      "text/plain": [
       "26"
      ]
     },
     "execution_count": 64,
     "metadata": {},
     "output_type": "execute_result"
    }
   ],
   "source": [
    "len(string.ascii_lowercase)"
   ]
  },
  {
   "cell_type": "code",
   "execution_count": null,
   "id": "b2ee5d82",
   "metadata": {},
   "outputs": [],
   "source": [
    "k = 3\n",
    "while(i <=2):\n",
    "    if "
   ]
  },
  {
   "cell_type": "markdown",
   "id": "4f0b862d",
   "metadata": {},
   "source": [
    "# Find common elements in two list"
   ]
  },
  {
   "cell_type": "code",
   "execution_count": 123,
   "id": "03b03989",
   "metadata": {
    "ExecuteTime": {
     "end_time": "2022-09-21T08:56:34.787401Z",
     "start_time": "2022-09-21T08:56:34.768780Z"
    }
   },
   "outputs": [
    {
     "data": {
      "text/plain": [
       "[85.5106866292497, 21.20103695712543, 78.34938156760215, 36.46578965747953]"
      ]
     },
     "execution_count": 123,
     "metadata": {},
     "output_type": "execute_result"
    }
   ],
   "source": [
    "list(np.random.random_sample(size= 4)*100)"
   ]
  },
  {
   "cell_type": "code",
   "execution_count": 116,
   "id": "aace1f7f",
   "metadata": {
    "ExecuteTime": {
     "end_time": "2022-09-21T07:15:25.395953Z",
     "start_time": "2022-09-21T07:15:25.374309Z"
    }
   },
   "outputs": [],
   "source": [
    "import random\n",
    "import time\n",
    "list1 = random.sample(range(1,10000),5000)\n",
    "list2 = random.sample(range(1,10000),4000)\n",
    " "
   ]
  },
  {
   "cell_type": "code",
   "execution_count": 117,
   "id": "4ca494c9",
   "metadata": {
    "ExecuteTime": {
     "end_time": "2022-09-21T07:15:33.359977Z",
     "start_time": "2022-09-21T07:15:25.812906Z"
    }
   },
   "outputs": [
    {
     "name": "stdout",
     "output_type": "stream",
     "text": [
      "7.4375\n"
     ]
    },
    {
     "data": {
      "text/plain": [
       "2020"
      ]
     },
     "execution_count": 117,
     "metadata": {},
     "output_type": "execute_result"
    }
   ],
   "source": [
    "list3 = []\n",
    "start = time.process_time()\n",
    "for i in range(len(list1)):\n",
    "    for j in range(len(list2)):\n",
    "        if list1[i]==list2[j]:\n",
    "            list3.append(list1[i])\n",
    "        else:\n",
    "            next\n",
    "print(time.process_time()- start)\n",
    "len(list3)"
   ]
  },
  {
   "cell_type": "code",
   "execution_count": 118,
   "id": "14d90b35",
   "metadata": {
    "ExecuteTime": {
     "end_time": "2022-09-21T07:15:40.831105Z",
     "start_time": "2022-09-21T07:15:33.366692Z"
    }
   },
   "outputs": [
    {
     "name": "stdout",
     "output_type": "stream",
     "text": [
      "7.265625\n"
     ]
    },
    {
     "data": {
      "text/plain": [
       "2020"
      ]
     },
     "execution_count": 118,
     "metadata": {},
     "output_type": "execute_result"
    }
   ],
   "source": [
    "list4 = []\n",
    "start = time.process_time()\n",
    "# Avoid nested loops\n",
    "import itertools\n",
    "for i, j in itertools.product(range(len(list1)), range(len(list2))):\n",
    "    if list1[i]==list2[j]:\n",
    "        list4.append(list1[i])\n",
    "    else:\n",
    "        next\n",
    "print(time.process_time()-start)\n",
    "len(list4)"
   ]
  },
  {
   "cell_type": "markdown",
   "id": "279a2c05",
   "metadata": {},
   "source": [
    "# Matching/ Balanced Sequence"
   ]
  },
  {
   "cell_type": "markdown",
   "id": "aa208614",
   "metadata": {},
   "source": [
    "s = {[()]}\n",
    "output: true\n",
    "\n",
    "s = {}()\n",
    "output: true"
   ]
  },
  {
   "cell_type": "code",
   "execution_count": 1,
   "id": "9ed088f7",
   "metadata": {
    "ExecuteTime": {
     "end_time": "2022-10-04T02:35:07.584482Z",
     "start_time": "2022-10-04T02:35:07.544608Z"
    }
   },
   "outputs": [],
   "source": [
    "word_str=['{[()]}',\n",
    "          '{}()',\n",
    "         '[]{)']"
   ]
  },
  {
   "cell_type": "code",
   "execution_count": 103,
   "id": "62d65ec6",
   "metadata": {
    "ExecuteTime": {
     "end_time": "2022-09-22T12:14:01.762535Z",
     "start_time": "2022-09-22T12:14:01.742888Z"
    }
   },
   "outputs": [],
   "source": [
    "# word_str[1]\n",
    "# closed_seq.index('}')\n",
    "# pos\n",
    "# # open_seq[pos]\n",
    "# stack[len(stack)-1]"
   ]
  },
  {
   "cell_type": "code",
   "execution_count": 2,
   "id": "1485487e",
   "metadata": {
    "ExecuteTime": {
     "end_time": "2022-10-04T02:35:10.457184Z",
     "start_time": "2022-10-04T02:35:10.413454Z"
    }
   },
   "outputs": [
    {
     "name": "stdout",
     "output_type": "stream",
     "text": [
      "[\n",
      "]\n",
      "{\n",
      ")\n",
      "Unbalanced\n",
      "unbalanced\n"
     ]
    }
   ],
   "source": [
    "open_seq= ['{','[','(']\n",
    "closed_seq= ['}',']',')']\n",
    "stack = []\n",
    "for i in list(word_str[2]):\n",
    "    print(i)\n",
    "    if i in open_seq:\n",
    "#         print(i, 'in open_seq')\n",
    "        stack.append(i)\n",
    "    elif i in closed_seq:\n",
    "        #find index of i and check if that's equal to of open seq\n",
    "        pos = closed_seq.index(i)\n",
    "#         print('pos=',pos,';', i, 'in closed_seq')\n",
    "        if len(stack)>0 and open_seq[pos]==stack[len(stack)-1]:\n",
    "            stack.pop()\n",
    "        else:\n",
    "            print('Unbalanced')\n",
    "if len(stack)==0:\n",
    "    print('balanced')\n",
    "else:\n",
    "    print('unbalanced')"
   ]
  },
  {
   "cell_type": "code",
   "execution_count": 91,
   "id": "3ca7cf86",
   "metadata": {
    "ExecuteTime": {
     "end_time": "2022-09-22T12:10:35.341577Z",
     "start_time": "2022-09-22T12:10:35.322419Z"
    }
   },
   "outputs": [
    {
     "data": {
      "text/plain": [
       "['(']"
      ]
     },
     "execution_count": 91,
     "metadata": {},
     "output_type": "execute_result"
    }
   ],
   "source": [
    "stack"
   ]
  },
  {
   "cell_type": "code",
   "execution_count": null,
   "id": "2caae915",
   "metadata": {},
   "outputs": [],
   "source": [
    "# Create a stack of all parenthesis in required order.\n",
    "# check for a given string, split it and store elements in stack\n",
    "# use pop functionality  to check if even elements are in syn"
   ]
  },
  {
   "cell_type": "markdown",
   "id": "e65e80fc",
   "metadata": {},
   "source": [
    "# Remove Duplicates using dictionary"
   ]
  },
  {
   "cell_type": "code",
   "execution_count": 274,
   "id": "12d3cbc6",
   "metadata": {
    "ExecuteTime": {
     "end_time": "2022-09-21T19:36:58.405500Z",
     "start_time": "2022-09-21T19:36:58.397660Z"
    }
   },
   "outputs": [],
   "source": [
    "ls =[1,2,4,4,6,7,4,2]"
   ]
  },
  {
   "cell_type": "code",
   "execution_count": 275,
   "id": "98d666ca",
   "metadata": {
    "ExecuteTime": {
     "end_time": "2022-09-21T19:36:58.855327Z",
     "start_time": "2022-09-21T19:36:58.837676Z"
    }
   },
   "outputs": [
    {
     "data": {
      "text/plain": [
       "<function dict.keys>"
      ]
     },
     "execution_count": 275,
     "metadata": {},
     "output_type": "execute_result"
    }
   ],
   "source": [
    "ls_uniq= dict()\n",
    "ls_uniq.keys"
   ]
  },
  {
   "cell_type": "code",
   "execution_count": 276,
   "id": "559ecabf",
   "metadata": {
    "ExecuteTime": {
     "end_time": "2022-09-21T19:36:59.306746Z",
     "start_time": "2022-09-21T19:36:59.292626Z"
    }
   },
   "outputs": [],
   "source": [
    "for item in ls:\n",
    "    if item not in ls_uniq:\n",
    "        ls_uniq[item]=1\n",
    "#     else:\n",
    "#         ls_uniq[item]=+1 "
   ]
  },
  {
   "cell_type": "code",
   "execution_count": 277,
   "id": "7426e2b1",
   "metadata": {
    "ExecuteTime": {
     "end_time": "2022-09-21T19:36:59.679014Z",
     "start_time": "2022-09-21T19:36:59.668998Z"
    }
   },
   "outputs": [
    {
     "data": {
      "text/plain": [
       "{1: 1, 2: 1, 4: 1, 6: 1, 7: 1}"
      ]
     },
     "execution_count": 277,
     "metadata": {},
     "output_type": "execute_result"
    }
   ],
   "source": [
    "ls_uniq"
   ]
  },
  {
   "cell_type": "code",
   "execution_count": 278,
   "id": "65d0ee9e",
   "metadata": {
    "ExecuteTime": {
     "end_time": "2022-09-21T19:37:11.323539Z",
     "start_time": "2022-09-21T19:37:11.304961Z"
    }
   },
   "outputs": [
    {
     "data": {
      "text/plain": [
       "[1, 2, 4, 6, 7]"
      ]
     },
     "execution_count": 278,
     "metadata": {},
     "output_type": "execute_result"
    }
   ],
   "source": [
    "list(ls_uniq.keys())"
   ]
  },
  {
   "cell_type": "code",
   "execution_count": null,
   "id": "e7441ae3",
   "metadata": {},
   "outputs": [],
   "source": []
  }
 ],
 "metadata": {
  "kernelspec": {
   "display_name": "Python 3 (ipykernel)",
   "language": "python",
   "name": "python3"
  },
  "language_info": {
   "codemirror_mode": {
    "name": "ipython",
    "version": 3
   },
   "file_extension": ".py",
   "mimetype": "text/x-python",
   "name": "python",
   "nbconvert_exporter": "python",
   "pygments_lexer": "ipython3",
   "version": "3.9.7"
  },
  "toc": {
   "base_numbering": 1,
   "nav_menu": {},
   "number_sections": true,
   "sideBar": true,
   "skip_h1_title": false,
   "title_cell": "Table of Contents",
   "title_sidebar": "Contents",
   "toc_cell": false,
   "toc_position": {
    "height": "calc(100% - 180px)",
    "left": "10px",
    "top": "150px",
    "width": "171px"
   },
   "toc_section_display": true,
   "toc_window_display": true
  }
 },
 "nbformat": 4,
 "nbformat_minor": 5
}
