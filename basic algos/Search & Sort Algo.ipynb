{
 "cells": [
  {
   "cell_type": "code",
   "execution_count": null,
   "id": "b82db4cc",
   "metadata": {
    "ExecuteTime": {
     "end_time": "2022-10-06T00:06:32.906278Z",
     "start_time": "2022-10-06T00:06:29.049396Z"
    }
   },
   "outputs": [],
   "source": [
    "import numpy as np"
   ]
  },
  {
   "cell_type": "markdown",
   "id": "0479225b",
   "metadata": {},
   "source": [
    "## Apply function to a list"
   ]
  },
  {
   "cell_type": "markdown",
   "id": "eec0108f",
   "metadata": {},
   "source": [
    "# Searching"
   ]
  },
  {
   "cell_type": "markdown",
   "id": "32467987",
   "metadata": {},
   "source": [
    "## Linear Search"
   ]
  },
  {
   "cell_type": "code",
   "execution_count": null,
   "id": "e361507e",
   "metadata": {
    "ExecuteTime": {
     "end_time": "2022-10-06T00:06:33.562386Z",
     "start_time": "2022-10-06T00:06:33.542107Z"
    }
   },
   "outputs": [],
   "source": [
    "## a = [round(i) for i in np.random.random_sample(10)*100]\n",
    "a = list(map(round, (np.random.random_sample(10)*100)))\n",
    "k = a[5]\n",
    "k"
   ]
  },
  {
   "cell_type": "code",
   "execution_count": null,
   "id": "3c4fc47b",
   "metadata": {
    "ExecuteTime": {
     "end_time": "2022-10-06T00:06:34.513932Z",
     "start_time": "2022-10-06T00:06:34.498973Z"
    }
   },
   "outputs": [],
   "source": [
    "# remeber to initialise index\n",
    "index = -1\n",
    "for i in range(len(a)):\n",
    "    if a[i] == k:\n",
    "        index = i\n",
    "        print('k is at position', index)"
   ]
  },
  {
   "cell_type": "markdown",
   "id": "14dfc4b6",
   "metadata": {},
   "source": [
    "## Binary Search "
   ]
  },
  {
   "cell_type": "code",
   "execution_count": null,
   "id": "70b00d8b",
   "metadata": {
    "ExecuteTime": {
     "end_time": "2022-10-06T00:35:28.199474Z",
     "start_time": "2022-10-06T00:35:28.185110Z"
    }
   },
   "outputs": [],
   "source": [
    "a= [12,13,11,5,6,7,8,10]\n",
    "a = sorted(a)\n",
    "a\n",
    "\n",
    "l = 0\n",
    "r = len(a)-1\n",
    "mid = l+r//2 # // is integer division\n",
    "mid"
   ]
  },
  {
   "cell_type": "code",
   "execution_count": null,
   "id": "eed733bd",
   "metadata": {
    "ExecuteTime": {
     "end_time": "2022-10-06T00:35:28.525518Z",
     "start_time": "2022-10-06T00:35:28.505618Z"
    }
   },
   "outputs": [],
   "source": [
    "k = 11\n",
    "def binary_search(arr, k):\n",
    "    l = 0\n",
    "    r = len(a)-1\n",
    "    while l<=r:\n",
    "        print(l)\n",
    "        mid = round(l+r/2)\n",
    "#         print('mid-{0}'.format(mid),'l-{0}'.format(l),'r-{0}'.format(arr[mid]))\n",
    "        if arr[mid]==k:\n",
    "            print('chk1')\n",
    "            return(mid)\n",
    "        elif k < arr[mid]:\n",
    "            print('chk2')\n",
    "            r = mid-1\n",
    "        else:\n",
    "            print('chk3')\n",
    "            l = mid+1\n",
    "            \n",
    "    return(-1)\n",
    "\n",
    "binary_search(a, k)"
   ]
  },
  {
   "cell_type": "code",
   "execution_count": null,
   "id": "eb1bfb4d",
   "metadata": {
    "ExecuteTime": {
     "end_time": "2022-10-06T00:33:55.494495Z",
     "start_time": "2022-10-06T00:33:55.483423Z"
    }
   },
   "outputs": [],
   "source": [
    "def binary_search(arr, x):\n",
    "    low = 0\n",
    "    high = len(arr) - 1\n",
    "    mid = 0\n",
    " \n",
    "    while low <= high:\n",
    " \n",
    "        mid = (high + low) // 2\n",
    " \n",
    "        # If x is greater, ignore left half\n",
    "        if arr[mid] < x:\n",
    "            low = mid + 1\n",
    " \n",
    "        # If x is smaller, ignore right half\n",
    "        elif arr[mid] > x:\n",
    "            high = mid - 1\n",
    " \n",
    "        # means x is present at mid\n",
    "        else:\n",
    "            return mid\n",
    " \n",
    "    # If we reach here, then the element was not present\n",
    "    return -1\n",
    " \n",
    "#Test array\n",
    "arr = [ 2, 3, 4, 10, 40 ]\n",
    "x = 10\n",
    " \n",
    "# Function call\n",
    "result = binary_search(arr, x)"
   ]
  },
  {
   "cell_type": "code",
   "execution_count": null,
   "id": "db5068c4",
   "metadata": {
    "ExecuteTime": {
     "end_time": "2022-10-06T00:30:13.051180Z",
     "start_time": "2022-10-06T00:30:13.035019Z"
    }
   },
   "outputs": [],
   "source": [
    "result"
   ]
  },
  {
   "cell_type": "markdown",
   "id": "0765a516",
   "metadata": {},
   "source": [
    "## Rotated List"
   ]
  },
  {
   "cell_type": "code",
   "execution_count": null,
   "id": "29fcd67b",
   "metadata": {
    "ExecuteTime": {
     "end_time": "2022-09-23T01:23:45.189030Z",
     "start_time": "2022-09-23T01:23:45.172888Z"
    }
   },
   "outputs": [],
   "source": [
    "a = list(map(round, (np.random.random_sample(10)*100)))\n",
    "k = a[5]\n",
    "print(a, k)"
   ]
  },
  {
   "cell_type": "code",
   "execution_count": null,
   "id": "e0c34e9a",
   "metadata": {},
   "outputs": [],
   "source": []
  },
  {
   "cell_type": "markdown",
   "id": "39120aa6",
   "metadata": {},
   "source": [
    "## Square Root"
   ]
  },
  {
   "cell_type": "code",
   "execution_count": null,
   "id": "2e3b8cc5",
   "metadata": {},
   "outputs": [],
   "source": []
  },
  {
   "cell_type": "code",
   "execution_count": null,
   "id": "da7573b7",
   "metadata": {},
   "outputs": [],
   "source": []
  },
  {
   "cell_type": "markdown",
   "id": "5699859c",
   "metadata": {},
   "source": [
    "# Sorting"
   ]
  },
  {
   "cell_type": "markdown",
   "id": "a2aa0214",
   "metadata": {},
   "source": [
    "## Insertion Sort\n",
    "* pick card sequentially \n",
    "* Compare with left side one by one \n",
    "* swap if ith is smaller than i-1"
   ]
  },
  {
   "cell_type": "markdown",
   "id": "96ba0e3c",
   "metadata": {},
   "source": [
    "### BigO O(n**2)\n",
    "1+2+3....n-1"
   ]
  },
  {
   "cell_type": "code",
   "execution_count": null,
   "id": "c74ca320",
   "metadata": {
    "ExecuteTime": {
     "end_time": "2022-09-24T11:43:39.878839Z",
     "start_time": "2022-09-24T11:43:39.857186Z"
    }
   },
   "outputs": [],
   "source": [
    "import numpy as np\n",
    "import random as random\n",
    "# inp = [5,2,1,3,9,7]\n",
    "\n",
    "# inp = random.sample(range(1,20),10)\n",
    "inp = [5, 1, 11, 16, 3, 19, 15, 6, 14, 7]"
   ]
  },
  {
   "cell_type": "code",
   "execution_count": null,
   "id": "7df2b65d",
   "metadata": {
    "ExecuteTime": {
     "end_time": "2022-09-24T11:59:56.156413Z",
     "start_time": "2022-09-24T11:59:56.121157Z"
    }
   },
   "outputs": [],
   "source": [
    "n = len(inp)\n",
    "\n",
    "for i in range(1,n):\n",
    "    k = inp[i]\n",
    "    j=i-1\n",
    "    \n",
    "    print('k {0}'.format(k),'last element {0}'.format(inp[j]))\n",
    "    \n",
    "    #Compare current k with the last value of k\n",
    "    while j>=0 and k<inp[j]:\n",
    "        temp = inp[j]\n",
    "        inp[j]=inp[j+1]\n",
    "        inp[j+1]= temp\n",
    "        # Drop j to take complete left side list\n",
    "        j = j-1\n",
    "        \n",
    "print(inp)"
   ]
  },
  {
   "cell_type": "markdown",
   "id": "b0db17d7",
   "metadata": {},
   "source": [
    "## selection sort"
   ]
  },
  {
   "cell_type": "markdown",
   "id": "ab35afbf",
   "metadata": {},
   "source": [
    "* Iteratively, find min in entire array \n",
    "* Swap wit with index i\n",
    "* repeat the process till n-1\n",
    "\n",
    "Big 0 is O(n**2)"
   ]
  },
  {
   "cell_type": "code",
   "execution_count": null,
   "id": "6c13525f",
   "metadata": {
    "ExecuteTime": {
     "end_time": "2022-09-26T02:21:17.830796Z",
     "start_time": "2022-09-26T02:21:17.817906Z"
    }
   },
   "outputs": [],
   "source": [
    "inp = [5, 1, 11, 16, 3, 19, 15, 6, 14, 7]\n",
    "inp"
   ]
  },
  {
   "cell_type": "code",
   "execution_count": null,
   "id": "3a741e4d",
   "metadata": {
    "ExecuteTime": {
     "end_time": "2022-09-26T02:21:30.250731Z",
     "start_time": "2022-09-26T02:21:30.223071Z"
    }
   },
   "outputs": [],
   "source": [
    "min_val= 0\n",
    "j = 0\n",
    "for i in range(len(inp)):\n",
    "    j = i-1\n",
    "    min_val = min(inp[i:]) \n",
    "    print(i,inp[i:],min_val)\n",
    "    if inp[j]<min_val:\n",
    "        inp[j]== min_val\n",
    "        "
   ]
  },
  {
   "cell_type": "code",
   "execution_count": null,
   "id": "a616a904",
   "metadata": {
    "ExecuteTime": {
     "end_time": "2022-09-26T01:19:37.792227Z",
     "start_time": "2022-09-26T01:19:37.768773Z"
    }
   },
   "outputs": [],
   "source": [
    "inp"
   ]
  },
  {
   "cell_type": "markdown",
   "id": "1d88ad92",
   "metadata": {},
   "source": [
    "# Merge- Divide and conquer"
   ]
  },
  {
   "cell_type": "code",
   "execution_count": null,
   "id": "53f9c638",
   "metadata": {},
   "outputs": [],
   "source": [
    "inp = [5, 1, 11, 16, 3, 19, 15, 6, 14, 7]\n",
    "\n",
    "# divide into two halves till len of each \n",
    "def merge_sort(inp):\n",
    "    while i <len(inp):\n",
    "    # for i in range(len(inp)):\n",
    "        l=0\n",
    "        r=len(inp)-1\n",
    "        mid = l+r//2\n",
    "        L = inp[:mid]\n",
    "        R = inp[mid:]\n",
    "        L= merge_sort(L)\n",
    "        R= merge_sort(R)\n",
    "    i=j=k=0\n",
    "        if inp[i]>inp[j]:\n",
    "            temp = inp[j]\n",
    "            inp[j]=inp[i]\n",
    "            inp[i]=inp[j]\n",
    "        else:\n",
    "            "
   ]
  },
  {
   "cell_type": "code",
   "execution_count": 55,
   "id": "0c5895bb",
   "metadata": {
    "ExecuteTime": {
     "end_time": "2022-10-06T08:39:38.447054Z",
     "start_time": "2022-10-06T08:39:38.429174Z"
    }
   },
   "outputs": [],
   "source": [
    "# Python program for implementation of MergeSort\n",
    "def mergeSort(arr):\n",
    "    if len(arr) > 1:\n",
    " \n",
    "         # Finding the mid of the array\n",
    "        mid = len(arr)//2\n",
    " \n",
    "        # Dividing the array elements\n",
    "        L = arr[:mid]\n",
    " \n",
    "        # into 2 halves\n",
    "        R = arr[mid:]\n",
    " \n",
    "        # Sorting the first half\n",
    "        mergeSort(L)\n",
    " \n",
    "        # Sorting the second half\n",
    "        mergeSort(R)\n",
    " \n",
    "        i = j = k = 0\n",
    " \n",
    "        # Copy data to temp arrays L[] and R[]\n",
    "        while i < len(L) and j < len(R):\n",
    "            if L[i] <= R[j]:\n",
    "                arr[k] = L[i]\n",
    "                i += 1\n",
    "            else:\n",
    "                arr[k] = R[j]\n",
    "                j += 1\n",
    "            k += 1\n",
    " \n",
    "        # Checking if any element was left\n",
    "        while i < len(L):\n",
    "            arr[k] = L[i]\n",
    "            i += 1\n",
    "            k += 1\n",
    " \n",
    "        while j < len(R):\n",
    "            arr[k] = R[j]\n",
    "            j += 1\n",
    "            k += 1"
   ]
  },
  {
   "cell_type": "code",
   "execution_count": 60,
   "id": "a56e170d",
   "metadata": {
    "ExecuteTime": {
     "end_time": "2022-10-06T08:41:05.938511Z",
     "start_time": "2022-10-06T08:41:05.914397Z"
    }
   },
   "outputs": [
    {
     "data": {
      "text/plain": [
       "[0, 1, 2, 5, 10]"
      ]
     },
     "execution_count": 60,
     "metadata": {},
     "output_type": "execute_result"
    }
   ],
   "source": [
    "arr =[1,5,0,2,10]\n",
    "mergeSort(arr)\n",
    "arr"
   ]
  },
  {
   "cell_type": "markdown",
   "id": "0a41132c",
   "metadata": {},
   "source": [
    "# Recursion "
   ]
  },
  {
   "cell_type": "code",
   "execution_count": 61,
   "id": "c3dae262",
   "metadata": {
    "ExecuteTime": {
     "end_time": "2022-10-06T08:45:19.753405Z",
     "start_time": "2022-10-06T08:45:19.741852Z"
    }
   },
   "outputs": [],
   "source": [
    "def rec1(number):\n",
    "    if(number == 1):\n",
    "        return (0)\n",
    "    else:\n",
    "        return (1 + rec1(number//2))"
   ]
  },
  {
   "cell_type": "code",
   "execution_count": 62,
   "id": "74ee8a9b",
   "metadata": {
    "ExecuteTime": {
     "end_time": "2022-10-06T08:45:20.547570Z",
     "start_time": "2022-10-06T08:45:20.531827Z"
    }
   },
   "outputs": [
    {
     "data": {
      "text/plain": [
       "2"
      ]
     },
     "execution_count": 62,
     "metadata": {},
     "output_type": "execute_result"
    }
   ],
   "source": [
    "rec1(5)"
   ]
  },
  {
   "cell_type": "markdown",
   "id": "60665c59",
   "metadata": {},
   "source": [
    "### Recursive1\n",
    "* For fixed integers a, b, c, define a weird function F(n) as follows: \n",
    "* F(n) = n - c for all n > b \n",
    "* F(n) = F(a + F(a + F(a + F(a + n)))) for all n ≤ b. "
   ]
  },
  {
   "cell_type": "code",
   "execution_count": null,
   "id": "53ea3e65",
   "metadata": {},
   "outputs": [],
   "source": [
    "a = 20, b = 100 and c = 15, then F(0) = 195"
   ]
  },
  {
   "cell_type": "code",
   "execution_count": 64,
   "id": "a199f0c1",
   "metadata": {
    "ExecuteTime": {
     "end_time": "2022-10-06T08:46:11.518798Z",
     "start_time": "2022-10-06T08:46:11.497504Z"
    }
   },
   "outputs": [
    {
     "ename": "SyntaxError",
     "evalue": "invalid syntax (Temp/ipykernel_32096/2170867805.py, line 2)",
     "output_type": "error",
     "traceback": [
      "\u001b[1;36m  File \u001b[1;32m\"C:\\Users\\PI0322~1\\AppData\\Local\\Temp/ipykernel_32096/2170867805.py\"\u001b[1;36m, line \u001b[1;32m2\u001b[0m\n\u001b[1;33m    for i\u001b[0m\n\u001b[1;37m         ^\u001b[0m\n\u001b[1;31mSyntaxError\u001b[0m\u001b[1;31m:\u001b[0m invalid syntax\n"
     ]
    }
   ],
   "source": [
    "def rec2(a,b,c):\n",
    "    for i\n",
    "    if n>b:\n",
    "        return n-c\n",
    "    else:\n",
    "        return rec2(a+)"
   ]
  },
  {
   "cell_type": "markdown",
   "id": "52d27c07",
   "metadata": {},
   "source": [
    "# Binary Tree"
   ]
  },
  {
   "cell_type": "markdown",
   "id": "e53e4096",
   "metadata": {
    "ExecuteTime": {
     "end_time": "2022-09-26T16:26:33.752669Z",
     "start_time": "2022-09-26T16:26:32.556250Z"
    }
   },
   "source": [
    "Input: root = [4,1,6,0,2,5,7,null,null,null,3,null,null,null,8]\n",
    "Output: [30,36,21,36,35,26,15,null,null,null,33,null,null,null,8]"
   ]
  },
  {
   "cell_type": "markdown",
   "id": "af5dc0d7",
   "metadata": {},
   "source": [
    "1. Tree- Acyclic graph( that means no cycles like in a graph)\n",
    "2. Binary Tree - if one node has only 2 branches\n",
    "3. Binary Search Tree - if left values are always less than root and right values greater than root\n",
    "\n",
    "### Insert \n",
    "\n",
    "### Selection- Traversal\n",
    "\n",
    "1. In Order - Left Node Right -Visits nodes in order \n",
    "2. Pre Order - Node Left Right Visits nodes before recursing\n",
    "3. Post Order - Left Right Node Visits nodes after recursing\n",
    "\n",
    "### Delete\n"
   ]
  },
  {
   "attachments": {
    "pre-post-inorder-and-level-order.png": {
     "image/png": "[encoded data removed]"
    }
   },
   "cell_type": "markdown",
   "id": "04b91088",
   "metadata": {},
   "source": [
    "![pre-post-inorder-and-level-order.png](attachment:pre-post-inorder-and-level-order.png)"
   ]
  },
  {
   "cell_type": "code",
   "execution_count": 65,
   "id": "5d8a2933",
   "metadata": {
    "ExecuteTime": {
     "end_time": "2022-10-06T08:46:17.965589Z",
     "start_time": "2022-10-06T08:46:17.943707Z"
    }
   },
   "outputs": [],
   "source": [
    "# A binary tree Node\n",
    " \n",
    "class Node:\n",
    "    # Constructor to create a new Node\n",
    "    def __init__(self, data):\n",
    "        self.value = value\n",
    "        self.left = None\n",
    "        self.right = None\n",
    "    def print_inorder():\n",
    "        if self.left:\n",
    "            self.left.print_inorder()\n",
    "            print(self.left.value())\n",
    "        if self.right:\n",
    "            self.right.print_inorder()\n",
    "            "
   ]
  },
  {
   "cell_type": "code",
   "execution_count": null,
   "id": "40b86548",
   "metadata": {},
   "outputs": [],
   "source": []
  },
  {
   "cell_type": "markdown",
   "id": "c2c87720",
   "metadata": {},
   "source": [
    "## Number of Visible Nodes"
   ]
  },
  {
   "cell_type": "markdown",
   "id": "07b1d4ac",
   "metadata": {},
   "source": [
    "## Nodes in a Subtree"
   ]
  },
  {
   "cell_type": "markdown",
   "id": "993eefef",
   "metadata": {},
   "source": [
    "# check BalnaceTree or not?"
   ]
  },
  {
   "cell_type": "code",
   "execution_count": null,
   "id": "2ecb1be7",
   "metadata": {
    "ExecuteTime": {
     "end_time": "2022-09-27T15:23:17.635633Z",
     "start_time": "2022-09-27T15:23:17.607906Z"
    }
   },
   "outputs": [],
   "source": [
    "# A binary tree Node\n",
    " \n",
    "class Node:\n",
    "    # Constructor to create a new Node\n",
    "    def __init__(self, data):\n",
    "        self.data = data\n",
    "        self.left = None\n",
    "        self.right = None    "
   ]
  },
  {
   "cell_type": "code",
   "execution_count": null,
   "id": "3971b966",
   "metadata": {
    "ExecuteTime": {
     "end_time": "2022-09-27T15:20:09.706221Z",
     "start_time": "2022-09-27T15:20:09.677780Z"
    }
   },
   "outputs": [],
   "source": [
    "\"\"\"\n",
    "Python3 program to check if a tree is height-balanced\n",
    "\"\"\" \n",
    "\n",
    "#function to find height of binary tree\n",
    " \n",
    "def height(root):\n",
    " \n",
    "    # base condition when binary tree is empty\n",
    "    if root is None:\n",
    "        return 0\n",
    "    return max(height(root.left), height(root.right)) + 1\n",
    " \n",
    "# function to check if tree is height-balanced or not\n",
    "def isBalanced(root):\n",
    " \n",
    "    # Base condition\n",
    "    if root is None:\n",
    "        return True\n",
    " \n",
    "    # for left and right subtree height\n",
    "    lh = height(root.left)\n",
    "    rh = height(root.right)\n",
    " \n",
    "    # allowed values for (lh - rh) are 1, -1, 0\n",
    "    if (abs(lh - rh) <= 1) and isBalanced(\n",
    "            root.left) is True and isBalanced(root.right) is True:\n",
    "        return True\n",
    " \n",
    "    # if we reach here means tree is not\n",
    "    # height-balanced tree\n",
    "    return False"
   ]
  },
  {
   "cell_type": "code",
   "execution_count": null,
   "id": "04a87c9f",
   "metadata": {
    "ExecuteTime": {
     "end_time": "2022-09-27T15:20:10.377485Z",
     "start_time": "2022-09-27T15:20:10.350033Z"
    }
   },
   "outputs": [],
   "source": [
    "#Driver function to test the above function\n",
    "root = Node(1)\n",
    "root.left = Node(2)\n",
    "root.right = Node(3)\n",
    "root.left.left = Node(4)\n",
    "root.left.right = Node(5)\n",
    "root.left.left.left = Node(8)\n",
    "\n",
    "print(height(root))\n",
    "\n",
    "if isBalanced(root):\n",
    "    print(\"Tree is balanced\")\n",
    "else:\n",
    "    print(\"Tree is not balanced\")\n"
   ]
  },
  {
   "cell_type": "markdown",
   "id": "08d85b67",
   "metadata": {},
   "source": [
    "## PreOrder Traversal Node-Left-Right"
   ]
  },
  {
   "cell_type": "code",
   "execution_count": null,
   "id": "cbfffa21",
   "metadata": {
    "ExecuteTime": {
     "end_time": "2022-09-29T13:44:23.140254Z",
     "start_time": "2022-09-29T13:44:23.115882Z"
    }
   },
   "outputs": [],
   "source": [
    "class Node:\n",
    "    def __init__(self, key):\n",
    "        self.node = key\n",
    "        self.left = None\n",
    "        self.right = None\n",
    "    def printPreorder(root):\n",
    "        if root:\n",
    "            print(root.val)\n",
    "            #Then traverse on left\n",
    "            print(printPreorder(root.left))\n",
    "            #Then traverse on right\n",
    "            print(printPreorder(root.right))"
   ]
  },
  {
   "cell_type": "code",
   "execution_count": null,
   "id": "b0311588",
   "metadata": {
    "ExecuteTime": {
     "end_time": "2022-09-29T13:44:23.690531Z",
     "start_time": "2022-09-29T13:44:23.674097Z"
    }
   },
   "outputs": [],
   "source": [
    "root = Node(1)\n",
    "\n",
    "root.left = Node(2)\n",
    "root.right = Node(3)"
   ]
  },
  {
   "cell_type": "code",
   "execution_count": null,
   "id": "ed8d33de",
   "metadata": {
    "ExecuteTime": {
     "end_time": "2022-09-29T13:44:24.454720Z",
     "start_time": "2022-09-29T13:44:24.424433Z"
    }
   },
   "outputs": [],
   "source": [
    "root.printPreorder"
   ]
  },
  {
   "cell_type": "markdown",
   "id": "9a664607",
   "metadata": {},
   "source": [
    "# Graph\n",
    "* Directed Undirected\n",
    "* Adjacency Matrix\n",
    "* Cyclic Acyclic\n",
    "* Weighted edges"
   ]
  },
  {
   "cell_type": "markdown",
   "id": "559bdc26",
   "metadata": {},
   "source": [
    "## Depth First Search"
   ]
  },
  {
   "cell_type": "code",
   "execution_count": 10,
   "id": "8426ffa6",
   "metadata": {
    "ExecuteTime": {
     "end_time": "2022-10-06T05:22:01.258726Z",
     "start_time": "2022-10-06T05:22:01.242933Z"
    }
   },
   "outputs": [],
   "source": [
    "class Node(self, node_id):\n",
    "    def __init__():\n",
    "        self.node_id = node_id\n",
    "        self.neighbours = {}\n",
    "    def add_edge_to(self, node_id):\n",
    "        self.neighbours.add(node_id)\n",
    "        \n",
    "    #It returns a boolean\n",
    "    def has_edge(self, node_id):\n",
    "        return node in self.neighbours"
   ]
  },
  {
   "cell_type": "code",
   "execution_count": null,
   "id": "2f0e95be",
   "metadata": {},
   "outputs": [],
   "source": []
  },
  {
   "cell_type": "markdown",
   "id": "ebbde5c5",
   "metadata": {},
   "source": [
    "# Binary Tree Sum"
   ]
  },
  {
   "cell_type": "code",
   "execution_count": null,
   "id": "b57a352d",
   "metadata": {
    "ExecuteTime": {
     "end_time": "2022-10-06T05:37:40.852633Z",
     "start_time": "2022-10-06T05:37:40.834092Z"
    }
   },
   "outputs": [],
   "source": [
    "from collections import *\n",
    "\n",
    "class Node():\n",
    "    def __init__(self, val):\n",
    "        self.val = val\n",
    "        self.left = None\n",
    "        self.right = None\n",
    "\n",
    "class BinaryTreeSum():\n",
    "    def __init__(self):\n",
    "        self.root = None\n",
    "        \n",
    "    def hasPath(self, root, sumval):\n",
    "        #check if root is None\n",
    "        if root== None:\n",
    "            return False\n",
    "        elif (root.val == sumval and root.left == None and root.right == None):\n",
    "            return True\n",
    "        else:\n",
    "            return self.hasPath(root.left, sumval-root.val) or self.hasPath(root.right,sumval-root.val)"
   ]
  },
  {
   "cell_type": "code",
   "execution_count": 34,
   "id": "60b34a7b",
   "metadata": {
    "ExecuteTime": {
     "end_time": "2022-10-06T05:37:41.241598Z",
     "start_time": "2022-10-06T05:37:41.219232Z"
    }
   },
   "outputs": [],
   "source": [
    "tree = BinaryTreeSum()\n",
    "tree.root = Node(12)\n",
    "tree.root.left = Node(12) \n",
    "tree.root.left.left = Node(12)\n",
    "tree.root.right = Node(1)\n",
    "tree.root.right.left = Node(10)\n",
    "tree.root.right.right = Node(5)"
   ]
  },
  {
   "cell_type": "code",
   "execution_count": 35,
   "id": "f5e37407",
   "metadata": {
    "ExecuteTime": {
     "end_time": "2022-10-06T05:37:41.521252Z",
     "start_time": "2022-10-06T05:37:41.485860Z"
    }
   },
   "outputs": [
    {
     "data": {
      "text/plain": [
       "True"
      ]
     },
     "execution_count": 35,
     "metadata": {},
     "output_type": "execute_result"
    }
   ],
   "source": [
    "tree.hasPath(tree.root, 23)"
   ]
  },
  {
   "cell_type": "markdown",
   "id": "855842e0",
   "metadata": {},
   "source": [
    "# Sum of Path Numbers"
   ]
  },
  {
   "cell_type": "markdown",
   "id": "f30ab573",
   "metadata": {},
   "source": [
    "## Learnings"
   ]
  },
  {
   "cell_type": "markdown",
   "id": "546add98",
   "metadata": {},
   "source": [
    "* Init has self and a val\n",
    "* both node class and solution class should have init\n",
    "* call recursive function in the function itself calling using **self**\n",
    "* Node specify node value but solution use root as inpur parameter and not value"
   ]
  },
  {
   "cell_type": "code",
   "execution_count": 103,
   "id": "3bc6c10f",
   "metadata": {
    "ExecuteTime": {
     "end_time": "2022-10-06T09:12:34.360821Z",
     "start_time": "2022-10-06T09:12:34.341824Z"
    }
   },
   "outputs": [],
   "source": [
    "class Node():\n",
    "    def __init__(self, val):\n",
    "        self.val = val\n",
    "        self.left = None\n",
    "        self.right = None\n",
    "class sumPath():\n",
    "    def __init__(self):\n",
    "        self.root = None\n",
    "        \n",
    "    def findSum(self, root, pathSum):\n",
    "        if root is None:\n",
    "            return 0\n",
    "        pathSum = 10*pathSum + root.val \n",
    "\n",
    "        if root.left is None and root.right is None:\n",
    "            return pathSum\n",
    "        else:\n",
    "            return self.findSum(root.left, pathSum)+self.findSum(root.right, pathSum)\n"
   ]
  },
  {
   "cell_type": "code",
   "execution_count": 104,
   "id": "cd2f213b",
   "metadata": {
    "ExecuteTime": {
     "end_time": "2022-10-06T09:12:35.073389Z",
     "start_time": "2022-10-06T09:12:35.057852Z"
    }
   },
   "outputs": [
    {
     "data": {
      "text/plain": [
       "414"
      ]
     },
     "execution_count": 104,
     "metadata": {},
     "output_type": "execute_result"
    }
   ],
   "source": [
    "tree = sumPath()\n",
    "tree.root = Node(3)\n",
    "tree.root.left = Node(7) \n",
    "tree.root.left.left = Node(9)\n",
    "tree.root.right = Node(1)\n",
    "tree.root.right = Node(4)\n",
    "tree.root.right = Node(5)\n",
    "\n",
    "tree.findSum(tree.root,0)"
   ]
  },
  {
   "cell_type": "code",
   "execution_count": 106,
   "id": "3d2b3f15",
   "metadata": {
    "ExecuteTime": {
     "end_time": "2022-10-06T09:12:52.236159Z",
     "start_time": "2022-10-06T09:12:52.214754Z"
    }
   },
   "outputs": [],
   "source": [
    "# tree.findSum(root,0)\n",
    "class Node:\n",
    "    def __init__(self, data):\n",
    "        self.data = data\n",
    "        self.right = self.left = None\n",
    "\n",
    "class BinaryTreePathSum:\n",
    "    \n",
    "    def __init__(self): \n",
    "        self.root = None\n",
    "\n",
    "    def findPathSum(self, root, pathSum):\n",
    "        if root is None:\n",
    "            return 0\n",
    "\n",
    "        pathSum = 10 * pathSum + root.data\n",
    "\n",
    "        if root.left is None and root.right is None:\n",
    "            return pathSum\n",
    "\n",
    "        return self.findPathSum(root.left, pathSum) + self.findPathSum(root.right, pathSum)\n",
    "    \n"
   ]
  },
  {
   "cell_type": "code",
   "execution_count": 107,
   "id": "b0680425",
   "metadata": {
    "ExecuteTime": {
     "end_time": "2022-10-06T09:12:52.703167Z",
     "start_time": "2022-10-06T09:12:52.685185Z"
    }
   },
   "outputs": [
    {
     "data": {
      "text/plain": [
       "1008"
      ]
     },
     "execution_count": 107,
     "metadata": {},
     "output_type": "execute_result"
    }
   ],
   "source": [
    "tree = BinaryTreePathSum()\n",
    "tree.root = Node(3)\n",
    "tree.root.left = Node(7)\n",
    "tree.root.right = Node(1)\n",
    "tree.root.left.left = Node(9)\n",
    "tree.root.right.left = Node(4)\n",
    "tree.root.right.right = Node(5)\n",
    "ans = tree.findPathSum(tree.root,0)\n",
    "ans"
   ]
  },
  {
   "cell_type": "code",
   "execution_count": 50,
   "id": "e9e9c9eb",
   "metadata": {
    "ExecuteTime": {
     "end_time": "2022-10-06T06:59:05.028762Z",
     "start_time": "2022-10-06T06:59:05.015546Z"
    }
   },
   "outputs": [],
   "source": [
    "# def sumPath(numls):\n",
    "#     sumls = 0\n",
    "#     for i in range(len(numls)):\n",
    "#         sumls = sumls + numls[i]*(10**i)\n",
    "#     return suml\n",
    "s"
   ]
  },
  {
   "cell_type": "code",
   "execution_count": null,
   "id": "0aeb9195",
   "metadata": {},
   "outputs": [],
   "source": []
  }
 ],
 "metadata": {
  "kernelspec": {
   "display_name": "Python 3 (ipykernel)",
   "language": "python",
   "name": "python3"
  },
  "language_info": {
   "codemirror_mode": {
    "name": "ipython",
    "version": 3
   },
   "file_extension": ".py",
   "mimetype": "text/x-python",
   "name": "python",
   "nbconvert_exporter": "python",
   "pygments_lexer": "ipython3",
   "version": "3.9.7"
  },
  "toc": {
   "base_numbering": 1,
   "nav_menu": {},
   "number_sections": true,
   "sideBar": true,
   "skip_h1_title": false,
   "title_cell": "Table of Contents",
   "title_sidebar": "Contents",
   "toc_cell": false,
   "toc_position": {
    "height": "calc(100% - 180px)",
    "left": "10px",
    "top": "150px",
    "width": "275px"
   },
   "toc_section_display": true,
   "toc_window_display": true
  }
 },
 "nbformat": 4,
 "nbformat_minor": 5
}
