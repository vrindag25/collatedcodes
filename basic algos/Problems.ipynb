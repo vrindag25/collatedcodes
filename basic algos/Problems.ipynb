{
 "cells": [
  {
   "cell_type": "markdown",
   "id": "812a44a3",
   "metadata": {},
   "source": [
    "# Pair SUms\n",
    "Return the number of different pairs of elements which sum to k.\n",
    "Example 1\n",
    "n = 5\n",
    "k = 6\n",
    "arr = [1, 2, 3, 4, 3]\n",
    "output = 2\n",
    "The valid pairs are 2+4 and 3+3."
   ]
  },
  {
   "cell_type": "code",
   "execution_count": null,
   "id": "9e99924b",
   "metadata": {
    "ExecuteTime": {
     "end_time": "2022-10-01T06:19:03.564228Z",
     "start_time": "2022-10-01T06:19:03.532066Z"
    }
   },
   "outputs": [],
   "source": [
    "from itertools import combinations\n",
    "def numberOfWays(arr, k):\n",
    "    comb_2= combinations(arr,2)\n",
    "    count = 0\n",
    "    for i in comb_2:\n",
    "        if sum(i)==k:\n",
    "            count = count+1 \n",
    "    return count"
   ]
  },
  {
   "cell_type": "code",
   "execution_count": null,
   "id": "7da3293e",
   "metadata": {
    "ExecuteTime": {
     "end_time": "2022-10-01T18:04:35.649648Z",
     "start_time": "2022-10-01T18:04:35.641141Z"
    }
   },
   "outputs": [],
   "source": [
    "k_1 = 6\n",
    "arr_1 = [2, 3, 4, 3]\n",
    "# expected_1 = 2\n",
    "\n",
    "output_1 = numberOfWays(arr_1, k_1)\n",
    "output_1\n",
    "# check(expected_1, output_1)"
   ]
  },
  {
   "cell_type": "markdown",
   "id": "5fcb82e5",
   "metadata": {},
   "source": [
    "## Index of pairs that sum to target"
   ]
  },
  {
   "cell_type": "code",
   "execution_count": null,
   "id": "0cf64846",
   "metadata": {
    "ExecuteTime": {
     "end_time": "2022-10-01T18:10:35.163765Z",
     "start_time": "2022-10-01T18:10:35.156262Z"
    }
   },
   "outputs": [],
   "source": [
    "arr_1 = [2, 3, 4, 3]\n",
    "k_1 = 6\n",
    "target = k_1\n",
    "prevMap = {}\n",
    "for idx, val in enumerate(arr_1):\n",
    "    diff = target-val\n",
    "    if diff in prevMap:\n",
    "        print([prevMap[diff],idx])\n",
    "    else:\n",
    "        prevMap[val]=idx"
   ]
  },
  {
   "cell_type": "code",
   "execution_count": null,
   "id": "178a8614",
   "metadata": {
    "ExecuteTime": {
     "end_time": "2022-10-01T18:10:36.005254Z",
     "start_time": "2022-10-01T18:10:35.971784Z"
    }
   },
   "outputs": [],
   "source": [
    "prevMap"
   ]
  },
  {
   "cell_type": "markdown",
   "id": "0ebbf8c5",
   "metadata": {},
   "source": [
    "#  Check if array1 be made equal toarray2,"
   ]
  },
  {
   "cell_type": "code",
   "execution_count": null,
   "id": "f5074b6c",
   "metadata": {
    "ExecuteTime": {
     "end_time": "2022-09-30T09:39:38.646606Z",
     "start_time": "2022-09-30T09:39:38.629423Z"
    }
   },
   "outputs": [],
   "source": [
    "A = [1, 2, 3, 4]\n",
    "B = [1, 4, 3, 2]"
   ]
  },
  {
   "cell_type": "code",
   "execution_count": null,
   "id": "f39ccfc5",
   "metadata": {
    "ExecuteTime": {
     "end_time": "2022-09-30T09:40:00.198932Z",
     "start_time": "2022-09-30T09:40:00.187817Z"
    }
   },
   "outputs": [],
   "source": [
    "def are_they_equal(array_a, array_b):\n",
    "    ls = []\n",
    "#iterate element wise if it exists in array1 \n",
    "#remove element from previous list to improve complexity\n",
    "\n",
    "    for i in array_a:\n",
    "        print(i)\n",
    "        if i in array_b:\n",
    "            ls.append(True)\n",
    "    #         A.remove(i)\n",
    "    if sum(ls)==len(array_b):\n",
    "        output = True\n",
    "    return output  "
   ]
  },
  {
   "cell_type": "code",
   "execution_count": null,
   "id": "d4a1f675",
   "metadata": {
    "ExecuteTime": {
     "end_time": "2022-09-30T09:40:00.731418Z",
     "start_time": "2022-09-30T09:40:00.694021Z"
    }
   },
   "outputs": [],
   "source": [
    "are_they_equal(A,B)"
   ]
  },
  {
   "cell_type": "code",
   "execution_count": null,
   "id": "0b2287a7",
   "metadata": {
    "ExecuteTime": {
     "end_time": "2022-09-30T09:32:26.771748Z",
     "start_time": "2022-09-30T09:32:26.756679Z"
    }
   },
   "outputs": [],
   "source": [
    "import collections\n",
    "def are_they_equal(array_a, array_b):\n",
    "    counter = Counter(array_a)\n",
    "    for e in array_b:\n",
    "        counter[e] -= 1\n",
    "    return not any(filter(lambda x: x != 0, counter.values()))"
   ]
  },
  {
   "cell_type": "code",
   "execution_count": null,
   "id": "44431d9c",
   "metadata": {
    "ExecuteTime": {
     "end_time": "2022-09-30T11:19:23.652924Z",
     "start_time": "2022-09-30T11:19:23.636461Z"
    }
   },
   "outputs": [],
   "source": [
    "#A Counter is a dict subclass for counting hashable objects\n",
    "counter = collections.Counter(A)\n",
    "\n",
    "for b in B:\n",
    "    counter[b]=counter[b]-1 \n",
    "\n",
    "counter\n",
    "\n",
    "counter.values()\n",
    "\n",
    "(lambda x:x!=0 for x in counter.values())\n",
    "\n",
    "any(filter(lambda x: x != 0, counter.values()))"
   ]
  },
  {
   "cell_type": "markdown",
   "id": "c1feac57",
   "metadata": {},
   "source": [
    "# Sliding Window( when to buy and sell stock for max profit)"
   ]
  },
  {
   "cell_type": "code",
   "execution_count": null,
   "id": "e55b4deb",
   "metadata": {
    "ExecuteTime": {
     "end_time": "2022-10-01T18:22:18.452573Z",
     "start_time": "2022-10-01T18:22:18.422328Z"
    }
   },
   "outputs": [],
   "source": [
    "arr = [7,1,5,3,6,4]"
   ]
  },
  {
   "cell_type": "code",
   "execution_count": null,
   "id": "b27b9a1b",
   "metadata": {},
   "outputs": [],
   "source": [
    "# max difference in two indices\n",
    "# movement of two indices\n",
    "buy = [0,len(arr)-1]\n",
    "sell = [1,len(arr)]"
   ]
  },
  {
   "cell_type": "code",
   "execution_count": null,
   "id": "81944ebb",
   "metadata": {
    "ExecuteTime": {
     "end_time": "2022-10-01T18:59:59.509064Z",
     "start_time": "2022-10-01T18:59:59.480272Z"
    }
   },
   "outputs": [],
   "source": [
    "# buy = arr[idx]\n",
    "# sell = arr[idx+1]\n",
    "# profit = sell-buy\n",
    "l,r = 0,1\n",
    "maxPro = 0 \n",
    "while r<len(arr):\n",
    "    if arr[l]<arr[r]:\n",
    "        profit = arr[r]-arr[l]\n",
    "        maxPro= max(profit,maxPro)\n",
    "    else:\n",
    "        l=r\n",
    "    r=r+1"
   ]
  },
  {
   "cell_type": "code",
   "execution_count": null,
   "id": "62f0f8cf",
   "metadata": {
    "ExecuteTime": {
     "end_time": "2022-10-01T19:00:16.304916Z",
     "start_time": "2022-10-01T19:00:16.296248Z"
    }
   },
   "outputs": [],
   "source": [
    "maxPro,l,r"
   ]
  },
  {
   "cell_type": "markdown",
   "id": "c7f2cd74",
   "metadata": {},
   "source": [
    "# Climb Stairs\n",
    "Reach n steps using either 1 or 2 steps;\n",
    "counts distinct ways to do"
   ]
  },
  {
   "cell_type": "code",
   "execution_count": null,
   "id": "c9aedce5",
   "metadata": {
    "ExecuteTime": {
     "end_time": "2022-10-02T08:24:38.776217Z",
     "start_time": "2022-10-02T08:24:38.756470Z"
    }
   },
   "outputs": [],
   "source": [
    "# def Node(self,value):\n",
    "#     self.value= value\n",
    "#     self.left = None\n",
    "#     self.right = None\n",
    "\n",
    "# root = Node(0)\n",
    "# target = 2\n",
    "# while n <=target:\n",
    "#     if root.left==target:\n",
    "#         return True\n",
    "#     else:\n",
    "#         root.left =Node()\n",
    "#         root.right =Node()"
   ]
  },
  {
   "cell_type": "code",
   "execution_count": null,
   "id": "7aa34d17",
   "metadata": {
    "ExecuteTime": {
     "end_time": "2022-10-02T10:34:46.339409Z",
     "start_time": "2022-10-02T10:34:46.321523Z"
    }
   },
   "outputs": [],
   "source": [
    "def cnt_climb_stairs(n):\n",
    "    one, two,i = 1,1,0\n",
    "    while i<n-1:\n",
    "        temp =one\n",
    "        one= one+two\n",
    "        two= temp\n",
    "        i=i+1\n",
    "    return one\n",
    "\n",
    "def cnt_climb_stairs(n):\n",
    "    one, two = 1,1\n",
    "    for i in range(n-1):\n",
    "        temp =one\n",
    "        one= one+two\n",
    "        two= temp\n",
    "    return one"
   ]
  },
  {
   "cell_type": "code",
   "execution_count": null,
   "id": "16df0f32",
   "metadata": {
    "ExecuteTime": {
     "end_time": "2022-10-02T10:34:46.951815Z",
     "start_time": "2022-10-02T10:34:46.930549Z"
    }
   },
   "outputs": [],
   "source": [
    "cnt_climb_stairs(5)"
   ]
  },
  {
   "cell_type": "markdown",
   "id": "01da1365",
   "metadata": {},
   "source": [
    "# Milestone Tracking"
   ]
  },
  {
   "cell_type": "code",
   "execution_count": null,
   "id": "566d66a5",
   "metadata": {
    "ExecuteTime": {
     "end_time": "2022-10-02T13:08:48.724432Z",
     "start_time": "2022-10-02T13:08:48.706744Z"
    }
   },
   "outputs": [],
   "source": [
    "revenues = [10, 20, 30, 40, 50, 60, 70, 80, 90, 100]\n",
    "milestones = [100, 200, 500]\n",
    "# output = [4, 6, 10]"
   ]
  },
  {
   "cell_type": "markdown",
   "id": "bcad7f63",
   "metadata": {},
   "source": [
    "* sum revenue and \n",
    "* check when it equals milestone\n"
   ]
  },
  {
   "cell_type": "code",
   "execution_count": null,
   "id": "930e9d8e",
   "metadata": {
    "ExecuteTime": {
     "end_time": "2022-10-02T13:23:02.248499Z",
     "start_time": "2022-10-02T13:23:02.233464Z"
    }
   },
   "outputs": [],
   "source": [
    "def getMilestoneDays(revenues, milestones):\n",
    "    milestones = sorted(milestones)\n",
    "    sum_rev,j = 0,0\n",
    "    idx_ls = []\n",
    "    for i in range(len(revenues)):\n",
    "        print(i)\n",
    "        sum_rev = sum_rev+revenues[i]\n",
    "        if sum_rev >= milestones[j]:\n",
    "            idx_ls.append(i+1)\n",
    "            j = j+1\n",
    "        else:\n",
    "            pass\n",
    "    return idx_ls"
   ]
  },
  {
   "cell_type": "code",
   "execution_count": null,
   "id": "cdbfda25",
   "metadata": {
    "ExecuteTime": {
     "end_time": "2022-10-02T13:23:03.739474Z",
     "start_time": "2022-10-02T13:23:03.705890Z"
    }
   },
   "outputs": [],
   "source": [
    "getMilestoneDays(revenues, milestones)"
   ]
  },
  {
   "cell_type": "code",
   "execution_count": null,
   "id": "66b9011d",
   "metadata": {
    "ExecuteTime": {
     "end_time": "2022-10-02T13:23:05.050167Z",
     "start_time": "2022-10-02T13:23:05.026650Z"
    }
   },
   "outputs": [],
   "source": [
    "revenues_2 = [700, 800, 600, 400, 600, 700]\n",
    "milestones_2 = [3100, 2200, 800, 2100, 1000] \n",
    "expected_2 = [5, 4, 2, 3, 2]\n",
    "\n",
    "getMilestoneDays(revenues_2, milestones_2)"
   ]
  },
  {
   "cell_type": "markdown",
   "id": "f8a39cde",
   "metadata": {},
   "source": [
    "# Count signatures"
   ]
  },
  {
   "cell_type": "markdown",
   "id": "58f4c0db",
   "metadata": {},
   "source": [
    "n = 2\n",
    "arr = [2, 1]\n",
    "output = [2, 2]\n",
    "Pass 1:\n",
    "Student 1 signs their own yearbook. Then they pass the book to the student at arr[0], which is Student 2.\n",
    "Student 2 signs their own yearbook. Then they pass the book to the student at arr[1], which is Student 1.\n",
    "Pass 2:\n",
    "Student 1 signs Student 2's yearbook. Then they pass it to the student at arr[0], which is Student 2.\n",
    "Student 2 signs Student 1's yearbook. Then they pass it to the student at arr[1], which is Student 1.\n",
    "Pass 3:\n",
    "Both students now hold their own yearbook, so the process is complete.\n",
    "Each student received 2 signatures."
   ]
  },
  {
   "cell_type": "code",
   "execution_count": null,
   "id": "639d151e",
   "metadata": {},
   "outputs": [],
   "source": [
    "def findSignatureCounts(arr)"
   ]
  },
  {
   "cell_type": "code",
   "execution_count": null,
   "id": "bbff8914",
   "metadata": {
    "ExecuteTime": {
     "end_time": "2022-09-30T14:45:01.858964Z",
     "start_time": "2022-09-30T14:45:01.843463Z"
    }
   },
   "outputs": [],
   "source": [
    "np.arange(1,5,1)"
   ]
  },
  {
   "cell_type": "code",
   "execution_count": null,
   "id": "6b7e9fcf",
   "metadata": {
    "ExecuteTime": {
     "end_time": "2022-10-01T05:24:29.623490Z",
     "start_time": "2022-10-01T05:24:29.606123Z"
    },
    "scrolled": false
   },
   "outputs": [],
   "source": [
    "import numpy as np\n",
    "\n",
    "signDic= {}"
   ]
  },
  {
   "cell_type": "code",
   "execution_count": null,
   "id": "4241f5cf",
   "metadata": {},
   "outputs": [],
   "source": [
    "n = 2\n",
    "arr = [2, 1]\n",
    "signDic= {}\n",
    "\n",
    "for i in len(arr):\n",
    "    idx1= arr[]"
   ]
  },
  {
   "cell_type": "markdown",
   "id": "d1bc1f14",
   "metadata": {},
   "source": [
    "# Product of Array execpt self"
   ]
  },
  {
   "cell_type": "markdown",
   "id": "99e0fd96",
   "metadata": {},
   "source": [
    "Input: nums = [1,2,3,4] <br>\n",
    "Output: [24,12,8,6]"
   ]
  },
  {
   "cell_type": "code",
   "execution_count": 25,
   "id": "c2a8c395",
   "metadata": {
    "ExecuteTime": {
     "end_time": "2022-10-04T16:45:04.056571Z",
     "start_time": "2022-10-04T16:45:04.044574Z"
    }
   },
   "outputs": [],
   "source": [
    "import math \n",
    "nums = [1,2,3,4]"
   ]
  },
  {
   "cell_type": "code",
   "execution_count": 31,
   "id": "4e0003a0",
   "metadata": {
    "ExecuteTime": {
     "end_time": "2022-10-04T16:51:10.224238Z",
     "start_time": "2022-10-04T16:51:10.199226Z"
    }
   },
   "outputs": [],
   "source": [
    "def prodExceptSelf(nums):\n",
    "    prod_ls = []\n",
    "    for i in range(len(nums)):\n",
    "        idx_rm = nums.pop(i)\n",
    "    #     print(nums)\n",
    "        prod_ls.append(math.prod(nums))\n",
    "        nums.insert(i,idx_rm)\n",
    "    #     print(nums)\n",
    "    return prod_ls"
   ]
  },
  {
   "cell_type": "code",
   "execution_count": 32,
   "id": "aae3df5e",
   "metadata": {
    "ExecuteTime": {
     "end_time": "2022-10-04T16:51:19.837563Z",
     "start_time": "2022-10-04T16:51:19.809707Z"
    }
   },
   "outputs": [
    {
     "data": {
      "text/plain": [
       "[24, 12, 8, 6]"
      ]
     },
     "execution_count": 32,
     "metadata": {},
     "output_type": "execute_result"
    }
   ],
   "source": [
    "prodExceptSelf(nums)"
   ]
  },
  {
   "cell_type": "markdown",
   "id": "f8a97ae8",
   "metadata": {},
   "source": [
    "# Counting Triangles"
   ]
  },
  {
   "cell_type": "code",
   "execution_count": 34,
   "id": "016d80e2",
   "metadata": {
    "ExecuteTime": {
     "end_time": "2022-10-04T18:06:56.921323Z",
     "start_time": "2022-10-04T18:06:56.913348Z"
    }
   },
   "outputs": [],
   "source": [
    "arr = [[5, 8, 9], [5, 9, 8], [9, 5, 8], [9, 8, 5], [8, 9, 5], [8, 5, 9]]\n",
    "# output = 1"
   ]
  },
  {
   "cell_type": "code",
   "execution_count": 35,
   "id": "56191fc4",
   "metadata": {
    "ExecuteTime": {
     "end_time": "2022-10-04T18:06:57.314365Z",
     "start_time": "2022-10-04T18:06:57.301260Z"
    }
   },
   "outputs": [],
   "source": [
    "# Sort traingles\n",
    "# remove duplicates/ count distinct "
   ]
  },
  {
   "cell_type": "code",
   "execution_count": 40,
   "id": "5d8c1561",
   "metadata": {
    "ExecuteTime": {
     "end_time": "2022-10-04T18:14:53.693870Z",
     "start_time": "2022-10-04T18:14:53.680343Z"
    }
   },
   "outputs": [
    {
     "name": "stdout",
     "output_type": "stream",
     "text": [
      "0 [5, 8, 9]\n",
      "1 [5, 8, 9]\n",
      "2 [5, 8, 9]\n",
      "3 [5, 8, 9]\n",
      "4 [5, 8, 9]\n",
      "5 [5, 8, 9]\n"
     ]
    }
   ],
   "source": [
    "sorted_arr = [sorted(x) for x in arr]\n",
    "for idx, ls in enumerate(sorted_arr):\n",
    "    if sorted_arr[idx]==sorted_arr[]\n",
    "    print(idx,ls)"
   ]
  },
  {
   "cell_type": "code",
   "execution_count": 54,
   "id": "414aa61d",
   "metadata": {
    "ExecuteTime": {
     "end_time": "2022-10-05T03:17:10.606723Z",
     "start_time": "2022-10-05T03:17:10.589653Z"
    }
   },
   "outputs": [],
   "source": [
    "def countDistinctTriangles(arr):\n",
    "    sorted_arr = [sorted(x) for x in arr]\n",
    "    print(sorted_arr)\n",
    "    output =[]\n",
    "\n",
    "    for ls in sorted_arr:\n",
    "        print(ls)\n",
    "        if ls not in output:\n",
    "            output.append(ls)\n",
    "    return(len(output))"
   ]
  },
  {
   "cell_type": "code",
   "execution_count": 55,
   "id": "8bef68af",
   "metadata": {
    "ExecuteTime": {
     "end_time": "2022-10-05T03:17:11.145295Z",
     "start_time": "2022-10-05T03:17:11.130797Z"
    }
   },
   "outputs": [
    {
     "name": "stdout",
     "output_type": "stream",
     "text": [
      "[[5, 6, 7], [5, 6, 7], [2, 8, 9], [2, 3, 4], [2, 3, 4]]\n",
      "[5, 6, 7]\n",
      "[5, 6, 7]\n",
      "[2, 8, 9]\n",
      "[2, 3, 4]\n",
      "[2, 3, 4]\n"
     ]
    },
    {
     "data": {
      "text/plain": [
       "3"
      ]
     },
     "execution_count": 55,
     "metadata": {},
     "output_type": "execute_result"
    }
   ],
   "source": [
    "arr_1 = [(7, 6, 5), (5, 7, 6), (8, 2, 9), (2, 3, 4), (2, 4, 3)]\n",
    "countDistinctTriangles(arr_1)"
   ]
  },
  {
   "cell_type": "markdown",
   "id": "294c8754",
   "metadata": {
    "ExecuteTime": {
     "end_time": "2022-10-04T18:21:34.627284Z",
     "start_time": "2022-10-04T18:21:34.600861Z"
    }
   },
   "source": [
    "# Balanced Split"
   ]
  },
  {
   "cell_type": "code",
   "execution_count": null,
   "id": "d2446f93",
   "metadata": {},
   "outputs": [],
   "source": [
    "arr = [1, 5, 7, 1]\n",
    "output = true\n",
    "#We can split the array into A = [1, 1, 5] and B = [7].\n",
    "Example 2\n",
    "arr = [12, 7, 6, 7, 6]\n",
    "output = false\n",
    "# We can't split the array into A = [6, 6, 7] and B = [7, 12] since \n",
    "# this doesn't satisfy the requirement that all integers in A are smaller than all integers in B."
   ]
  },
  {
   "cell_type": "code",
   "execution_count": null,
   "id": "213ec129",
   "metadata": {},
   "outputs": [],
   "source": []
  },
  {
   "cell_type": "markdown",
   "id": "6b52a531",
   "metadata": {},
   "source": [
    "# Fenced MAtrix"
   ]
  },
  {
   "cell_type": "code",
   "execution_count": 69,
   "id": "99e8dcf3",
   "metadata": {
    "ExecuteTime": {
     "end_time": "2022-10-05T04:04:28.564891Z",
     "start_time": "2022-10-05T04:04:28.548082Z"
    }
   },
   "outputs": [],
   "source": [
    "m = 5\n",
    "n = 4"
   ]
  },
  {
   "cell_type": "code",
   "execution_count": 70,
   "id": "560e9eae",
   "metadata": {
    "ExecuteTime": {
     "end_time": "2022-10-05T04:04:28.811150Z",
     "start_time": "2022-10-05T04:04:28.792051Z"
    }
   },
   "outputs": [
    {
     "data": {
      "text/plain": [
       "[0, 0, 0, 0]"
      ]
     },
     "execution_count": 70,
     "metadata": {},
     "output_type": "execute_result"
    }
   ],
   "source": [
    "#CReate a list of lists using m rows and n colmns \n",
    "\n",
    "[0]*n"
   ]
  },
  {
   "cell_type": "code",
   "execution_count": 74,
   "id": "e8a6dde5",
   "metadata": {
    "ExecuteTime": {
     "end_time": "2022-10-05T04:06:28.526494Z",
     "start_time": "2022-10-05T04:06:28.499203Z"
    }
   },
   "outputs": [
    {
     "data": {
      "text/plain": [
       "[[0, 0, 0, 0], [0, 0, 0, 0], [0, 0, 0, 0], [0, 0, 0, 0], [0, 0, 0, 0]]"
      ]
     },
     "execution_count": 74,
     "metadata": {},
     "output_type": "execute_result"
    }
   ],
   "source": [
    "mat = [list([0]*n) for i in range(m)]\n",
    "mat"
   ]
  },
  {
   "cell_type": "code",
   "execution_count": 75,
   "id": "5dc7cb94",
   "metadata": {
    "ExecuteTime": {
     "end_time": "2022-10-05T04:06:54.051338Z",
     "start_time": "2022-10-05T04:06:54.040251Z"
    }
   },
   "outputs": [],
   "source": [
    "for i in range(m):\n",
    "    for j in range(n):\n",
    "        if i==0 or j==0 or i==m-1 or n == n-1:\n",
    "            mat[i][j]=1"
   ]
  },
  {
   "cell_type": "code",
   "execution_count": 76,
   "id": "833341e5",
   "metadata": {
    "ExecuteTime": {
     "end_time": "2022-10-05T04:06:54.529655Z",
     "start_time": "2022-10-05T04:06:54.510711Z"
    }
   },
   "outputs": [
    {
     "data": {
      "text/plain": [
       "[[1, 1, 1, 1], [1, 0, 0, 0], [1, 0, 0, 0], [1, 0, 0, 0], [1, 1, 1, 1]]"
      ]
     },
     "execution_count": 76,
     "metadata": {},
     "output_type": "execute_result"
    }
   ],
   "source": [
    "mat"
   ]
  },
  {
   "cell_type": "markdown",
   "id": "0091f930",
   "metadata": {},
   "source": [
    "# QUEUE REMOvAL "
   ]
  },
  {
   "cell_type": "markdown",
   "id": "55a28507",
   "metadata": {},
   "source": [
    "1. Pop x elements from the front of queue (or, if it contains fewer than x elements, pop all of them)\n",
    "2. Of the elements that were popped, find the one with the largest value (if there are multiple such elements, take the one which had been popped the earliest), and remove it\n",
    "3. For each one of the remaining elements that were popped (in the order they had been popped), decrement its value by 1 if it's positive (otherwise, if its value is 0, then it's left unchanged), and then add it back to the queue\n",
    "4. Compute a list of x integers output, the ith of which is the 1-based index in the original array of the element which had been removed in step 2 during the ith iteration."
   ]
  },
  {
   "cell_type": "code",
   "execution_count": 80,
   "id": "aae0aa9f",
   "metadata": {
    "ExecuteTime": {
     "end_time": "2022-10-05T08:21:09.457450Z",
     "start_time": "2022-10-05T08:21:09.439076Z"
    }
   },
   "outputs": [],
   "source": [
    "from collections import deque"
   ]
  },
  {
   "cell_type": "code",
   "execution_count": 105,
   "id": "f36b4881",
   "metadata": {
    "ExecuteTime": {
     "end_time": "2022-10-05T08:57:15.751157Z",
     "start_time": "2022-10-05T08:57:15.742741Z"
    }
   },
   "outputs": [],
   "source": [
    "n = 6\n",
    "arr = [1, 2, 2, 3, 4, 5]\n",
    "x = 5\n",
    "output = [5, 6, 4, 1, 2]"
   ]
  },
  {
   "cell_type": "code",
   "execution_count": 101,
   "id": "d6b8590b",
   "metadata": {
    "ExecuteTime": {
     "end_time": "2022-10-05T08:48:27.476818Z",
     "start_time": "2022-10-05T08:48:27.456942Z"
    }
   },
   "outputs": [],
   "source": [
    "q1 = []\n",
    "for i in range(x):\n",
    "    q1.append(i) \n",
    "max_el= max(q1)\n",
    "q1.remove(max_el)\n",
    "\n",
    "q1 = [x-1 for x in q1]"
   ]
  },
  {
   "cell_type": "code",
   "execution_count": 107,
   "id": "c7f6da99",
   "metadata": {
    "ExecuteTime": {
     "end_time": "2022-10-05T08:57:32.493002Z",
     "start_time": "2022-10-05T08:57:32.475529Z"
    }
   },
   "outputs": [
    {
     "data": {
      "text/plain": [
       "([1, 2, 2, 3, 4, 5], [0, 1, 2, 3, 4, 5])"
      ]
     },
     "execution_count": 107,
     "metadata": {},
     "output_type": "execute_result"
    }
   ],
   "source": [
    "arr,q1"
   ]
  },
  {
   "cell_type": "code",
   "execution_count": 114,
   "id": "27104914",
   "metadata": {
    "ExecuteTime": {
     "end_time": "2022-10-05T08:59:56.149909Z",
     "start_time": "2022-10-05T08:59:56.139619Z"
    }
   },
   "outputs": [],
   "source": [
    "q1= {}\n",
    "for idx,val in enumerate(arr):\n",
    "    q1[idx] =val\n",
    "\n",
    "[val-1 for val in q1.values()]"
   ]
  },
  {
   "cell_type": "code",
   "execution_count": 100,
   "id": "074b90cd",
   "metadata": {
    "ExecuteTime": {
     "end_time": "2022-10-05T08:48:00.218575Z",
     "start_time": "2022-10-05T08:48:00.204020Z"
    }
   },
   "outputs": [
    {
     "data": {
      "text/plain": [
       "[-1, 0, 1, 2]"
      ]
     },
     "execution_count": 100,
     "metadata": {},
     "output_type": "execute_result"
    }
   ],
   "source": []
  },
  {
   "cell_type": "markdown",
   "id": "1522f642",
   "metadata": {},
   "source": [
    "# Tree Diameter"
   ]
  },
  {
   "cell_type": "code",
   "execution_count": 9,
   "id": "6ebe6842",
   "metadata": {
    "ExecuteTime": {
     "end_time": "2022-10-06T11:57:11.254818Z",
     "start_time": "2022-10-06T11:57:11.235125Z"
    }
   },
   "outputs": [],
   "source": [
    "class Node:\n",
    " \n",
    "    # Constructor to create a new node\n",
    "    def __init__(self, data):\n",
    "        self.data = data\n",
    "        self.left = None\n",
    "        self.right = None\n",
    " \n",
    " \n",
    "# The function Compute the \"height\" of a tree. Height is the\n",
    "# number of nodes along the longest path from the root node\n",
    "# down to the farthest leaf node.\n",
    " \n",
    "def height(node):\n",
    " \n",
    "    # Base Case : Tree is empty\n",
    "    if node is None:\n",
    "        return 0\n",
    " \n",
    "    # If tree is not empty then height = 1 + max of left\n",
    "    # height and right heights\n",
    "    return 1 + max(height(node.left), height(node.right))\n",
    " \n",
    "# Function to get the diameter of a binary tree\n",
    " \n",
    "def diameter(root):\n",
    " \n",
    "    # Base Case when tree is empty\n",
    "    if root is None:\n",
    "        return 0\n",
    " \n",
    "    # Get the height of left and right sub-trees\n",
    "    lheight = height(root.left)\n",
    "    rheight = height(root.right)\n",
    "    print('Height', lheight,rheight)\n",
    "\n",
    "    # Get the diameter of left and right sub-trees\n",
    "    ldiameter = diameter(root.left)\n",
    "    rdiameter = diameter(root.right)\n",
    "    print('Diameter', ldiameter,rdiameter)\n",
    " \n",
    "    # Return max of the following tree:\n",
    "    # 1) Diameter of left subtree\n",
    "    # 2) Diameter of right subtree\n",
    "    # 3) Height of left subtree + height of right subtree +1\n",
    "    return max(lheight + rheight + 1, max(ldiameter, rdiameter))"
   ]
  },
  {
   "cell_type": "code",
   "execution_count": 10,
   "id": "c50dd4c0",
   "metadata": {
    "ExecuteTime": {
     "end_time": "2022-10-06T11:57:14.645795Z",
     "start_time": "2022-10-06T11:57:14.631649Z"
    }
   },
   "outputs": [
    {
     "name": "stdout",
     "output_type": "stream",
     "text": [
      "Height 2 1\n",
      "Height 1 1\n",
      "Height 0 0\n",
      "Diameter 0 0\n",
      "Height 0 0\n",
      "Diameter 0 0\n",
      "Diameter 1 1\n",
      "Height 0 0\n",
      "Diameter 0 0\n",
      "Diameter 3 1\n",
      "4\n"
     ]
    }
   ],
   "source": [
    "# Driver Code\n",
    "if __name__ == \"__main__\":\n",
    "    \"\"\"\n",
    "    Constructed binary tree is\n",
    "                1\n",
    "              /   \\\n",
    "            2      3\n",
    "          /  \\\n",
    "        4     5\n",
    "    \"\"\"\n",
    " \n",
    "    root = Node(1)\n",
    "    root.left = Node(2)\n",
    "    root.right = Node(3)\n",
    "    root.left.left = Node(4)\n",
    "    root.left.right = Node(5)\n",
    " \n",
    "    # Function Call\n",
    "    print(diameter(root))"
   ]
  },
  {
   "cell_type": "code",
   "execution_count": null,
   "id": "4a89f40d",
   "metadata": {},
   "outputs": [],
   "source": []
  }
 ],
 "metadata": {
  "kernelspec": {
   "display_name": "Python 3 (ipykernel)",
   "language": "python",
   "name": "python3"
  },
  "language_info": {
   "codemirror_mode": {
    "name": "ipython",
    "version": 3
   },
   "file_extension": ".py",
   "mimetype": "text/x-python",
   "name": "python",
   "nbconvert_exporter": "python",
   "pygments_lexer": "ipython3",
   "version": "3.9.7"
  },
  "toc": {
   "base_numbering": 1,
   "nav_menu": {},
   "number_sections": true,
   "sideBar": true,
   "skip_h1_title": false,
   "title_cell": "Table of Contents",
   "title_sidebar": "Contents",
   "toc_cell": false,
   "toc_position": {
    "height": "calc(100% - 180px)",
    "left": "10px",
    "top": "150px",
    "width": "165px"
   },
   "toc_section_display": true,
   "toc_window_display": true
  }
 },
 "nbformat": 4,
 "nbformat_minor": 5
}
