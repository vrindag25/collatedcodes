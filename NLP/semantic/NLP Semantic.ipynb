{
 "cells": [
  {
   "cell_type": "markdown",
   "id": "06b5ad64",
   "metadata": {},
   "source": [
    "# Word-Sense Disambiguation\n"
   ]
  },
  {
   "cell_type": "code",
   "execution_count": 1,
   "id": "b489187e",
   "metadata": {
    "ExecuteTime": {
     "end_time": "2022-10-26T13:57:42.140641Z",
     "start_time": "2022-10-26T13:56:36.582151Z"
    }
   },
   "outputs": [
    {
     "name": "stderr",
     "output_type": "stream",
     "text": [
      "[nltk_data] Downloading package wordnet to\n",
      "[nltk_data]     C:\\Users\\pi0322945\\AppData\\Roaming\\nltk_data...\n",
      "[nltk_data]   Package wordnet is already up-to-date!\n"
     ]
    },
    {
     "data": {
      "text/plain": [
       "True"
      ]
     },
     "execution_count": 1,
     "metadata": {},
     "output_type": "execute_result"
    }
   ],
   "source": [
    "# !pip install nltk\n",
    "from nltk.corpus import wordnet as wn\n",
    "from nltk import wsd\n",
    "\n",
    "# !pip install spacy\n",
    "from spacy.cli import download\n",
    "from spacy import load\n",
    "# download('en_core_web_sm')\n",
    "nlp = load('en_core_web_sm')\n",
    "import warnings\n",
    "\n",
    "from nltk import download\n",
    "download('wordnet')"
   ]
  },
  {
   "cell_type": "code",
   "execution_count": 18,
   "id": "a64cce7e",
   "metadata": {
    "ExecuteTime": {
     "end_time": "2022-07-09T12:22:07.019381Z",
     "start_time": "2022-07-09T12:22:06.964024Z"
    },
    "scrolled": true
   },
   "outputs": [
    {
     "name": "stdout",
     "output_type": "stream",
     "text": [
      "[Synset('die.n.01'), Synset('die.n.02'), Synset('die.n.03'), Synset('die.v.01'), Synset('die.v.02'), Synset('die.v.03'), Synset('fail.v.04'), Synset('die.v.05'), Synset('die.v.06'), Synset('die.v.07'), Synset('die.v.08'), Synset('die.v.09'), Synset('die.v.10'), Synset('die.v.11')]\n",
      "[Synset('die.n.01'), Synset('die.n.02'), Synset('die.n.03')]\n",
      "a small cube with 1 to 6 spots on the six faces; used in gambling to generate random numbers\n",
      "a device used for shaping metal\n",
      "a cutting tool that is fitted into a diestock and used for cutting male (external) screw threads on screws or bolts or pipes or rods\n"
     ]
    }
   ],
   "source": [
    "X = 'The die is cast.'\n",
    "Y = 'Roll the die to get a 6.'\n",
    "Z = 'What is dead may never die.'\n",
    "print(wn.synsets('die'))\n",
    "print(wn.synsets('die', pos=wn.NOUN))\n",
    "for syn in wn.synsets('die', pos=wn.NOUN):\n",
    "    print(syn.definition())\n",
    "# for syn in wn.synsets('die', pos=wn.VERB):\n",
    "#     print(syn.definition())"
   ]
  },
  {
   "cell_type": "markdown",
   "id": "a805e9ac",
   "metadata": {},
   "source": [
    "# Word-Sense Disambiguation with Lesk Algorithm\n",
    "## Pass POS tag for better definition"
   ]
  },
  {
   "cell_type": "code",
   "execution_count": 15,
   "id": "b5df2268",
   "metadata": {
    "ExecuteTime": {
     "end_time": "2022-07-09T10:58:38.607168Z",
     "start_time": "2022-07-09T10:58:38.585661Z"
    }
   },
   "outputs": [
    {
     "name": "stdout",
     "output_type": "stream",
     "text": [
      "The die is cast.\n"
     ]
    },
    {
     "data": {
      "text/plain": [
       "'to be on base at the end of an inning, of a player'"
      ]
     },
     "execution_count": 15,
     "metadata": {},
     "output_type": "execute_result"
    }
   ],
   "source": [
    "print(X)\n",
    "wsd.lesk(X.split(), 'die')\n",
    "wsd.lesk(Y.split(), 'die').definition()"
   ]
  },
  {
   "cell_type": "code",
   "execution_count": 5,
   "id": "9818a9f7",
   "metadata": {
    "ExecuteTime": {
     "end_time": "2022-07-09T10:52:38.432702Z",
     "start_time": "2022-07-09T10:52:38.413112Z"
    }
   },
   "outputs": [
    {
     "name": "stdout",
     "output_type": "stream",
     "text": [
      "The die is cast.\n",
      "Roll the die to get a 6.\n",
      "What is dead may never die.\n"
     ]
    },
    {
     "data": {
      "text/plain": [
       "'stop operating or functioning'"
      ]
     },
     "execution_count": 5,
     "metadata": {},
     "output_type": "execute_result"
    }
   ],
   "source": [
    "wsd.lesk(X.split(), 'die', pos=wn.NOUN).definition()\n",
    "print(Y)\n",
    "wsd.lesk(Y.split(), 'die', pos=wn.NOUN).definition()\n",
    "print(Z)\n",
    "wsd.lesk(Z.split(), 'die').definition()\n",
    "wsd.lesk(Z.split(), 'die', pos=wn.VERB).definition()\n"
   ]
  },
  {
   "cell_type": "markdown",
   "id": "3325e1b9",
   "metadata": {},
   "source": [
    "# Automatic POS Tagging + Lesk with spaCy"
   ]
  },
  {
   "cell_type": "code",
   "execution_count": 6,
   "id": "2895e0a4",
   "metadata": {
    "ExecuteTime": {
     "end_time": "2022-07-09T10:52:57.749884Z",
     "start_time": "2022-07-09T10:52:57.740863Z"
    }
   },
   "outputs": [],
   "source": [
    "POS_MAP = {\n",
    "    'VERB': wn.VERB,\n",
    "    'NOUN': wn.NOUN,\n",
    "    'PROPN': wn.NOUN\n",
    "}\n",
    "\n",
    "\n",
    "def lesk(doc, word):\n",
    "    found = False\n",
    "    for token in doc:\n",
    "        if token.text == word:\n",
    "            word = token\n",
    "            found = True\n",
    "            break\n",
    "    if not found:\n",
    "        raise ValueError(f'Word \\\"{word}\\\" does not appear in the document: {doc.text}.')\n",
    "    pos = POS_MAP.get(word.pos_, False)\n",
    "    if not pos:\n",
    "        warnings.warn(f'POS tag for {word.text} not found in wordnet. Falling back to default Lesk behaviour.')\n",
    "    args = [c.text for c in doc], word.text\n",
    "    kwargs = dict(pos=pos)\n",
    "    return wsd.lesk(*args, **kwargs)"
   ]
  },
  {
   "cell_type": "code",
   "execution_count": 9,
   "id": "6775c917",
   "metadata": {
    "ExecuteTime": {
     "end_time": "2022-07-09T10:54:50.537678Z",
     "start_time": "2022-07-09T10:54:50.494327Z"
    }
   },
   "outputs": [
    {
     "data": {
      "text/plain": [
       "Synset('die.n.01')"
      ]
     },
     "execution_count": 9,
     "metadata": {},
     "output_type": "execute_result"
    }
   ],
   "source": [
    "doc = nlp('Roll the die to get a 6.')\n",
    "lesk(doc, 'die')"
   ]
  },
  {
   "cell_type": "code",
   "execution_count": 10,
   "id": "465bb227",
   "metadata": {
    "ExecuteTime": {
     "end_time": "2022-07-09T10:54:53.891254Z",
     "start_time": "2022-07-09T10:54:53.871996Z"
    }
   },
   "outputs": [
    {
     "data": {
      "text/plain": [
       "'a small cube with 1 to 6 spots on the six faces; used in gambling to generate random numbers'"
      ]
     },
     "execution_count": 10,
     "metadata": {},
     "output_type": "execute_result"
    }
   ],
   "source": [
    "lesk(doc, 'die').definition()"
   ]
  },
  {
   "cell_type": "code",
   "execution_count": 11,
   "id": "81a2bc67",
   "metadata": {
    "ExecuteTime": {
     "end_time": "2022-07-09T10:55:02.974427Z",
     "start_time": "2022-07-09T10:55:02.938372Z"
    }
   },
   "outputs": [
    {
     "data": {
      "text/plain": [
       "\"a widely used search engine that uses text-matching techniques to find web pages that are important and relevant to a user's search\""
      ]
     },
     "execution_count": 11,
     "metadata": {},
     "output_type": "execute_result"
    }
   ],
   "source": [
    "lesk(nlp('I work at google.'), 'google').definition()"
   ]
  },
  {
   "cell_type": "code",
   "execution_count": 12,
   "id": "d01b2035",
   "metadata": {
    "ExecuteTime": {
     "end_time": "2022-07-09T10:55:05.642363Z",
     "start_time": "2022-07-09T10:55:05.606640Z"
    }
   },
   "outputs": [
    {
     "data": {
      "text/plain": [
       "'search the internet (for information) using the Google search engine'"
      ]
     },
     "execution_count": 12,
     "metadata": {},
     "output_type": "execute_result"
    }
   ],
   "source": [
    "lesk(nlp('I will google it.'), 'google').definition()"
   ]
  },
  {
   "cell_type": "markdown",
   "id": "f78273dd",
   "metadata": {},
   "source": [
    "# Synsets\n"
   ]
  },
  {
   "cell_type": "code",
   "execution_count": 17,
   "id": "99435edc",
   "metadata": {
    "ExecuteTime": {
     "end_time": "2022-07-09T11:01:10.975945Z",
     "start_time": "2022-07-09T11:01:10.890406Z"
    }
   },
   "outputs": [
    {
     "data": {
      "text/plain": [
       "[Synset('accelerator.n.01'),\n",
       " Synset('air_bag.n.01'),\n",
       " Synset('auto_accessory.n.01'),\n",
       " Synset('automobile_engine.n.01'),\n",
       " Synset('automobile_horn.n.01'),\n",
       " Synset('buffer.n.06'),\n",
       " Synset('bumper.n.02'),\n",
       " Synset('car_door.n.01'),\n",
       " Synset('car_mirror.n.01'),\n",
       " Synset('car_seat.n.01'),\n",
       " Synset('car_window.n.01'),\n",
       " Synset('fender.n.01'),\n",
       " Synset('first_gear.n.01'),\n",
       " Synset('floorboard.n.02'),\n",
       " Synset('gasoline_engine.n.01'),\n",
       " Synset('glove_compartment.n.01'),\n",
       " Synset('grille.n.02'),\n",
       " Synset('high_gear.n.01'),\n",
       " Synset('hood.n.09'),\n",
       " Synset('luggage_compartment.n.01'),\n",
       " Synset('rear_window.n.01'),\n",
       " Synset('reverse.n.02'),\n",
       " Synset('roof.n.02'),\n",
       " Synset('running_board.n.01'),\n",
       " Synset('stabilizer_bar.n.01'),\n",
       " Synset('sunroof.n.01'),\n",
       " Synset('tail_fin.n.02'),\n",
       " Synset('third_gear.n.01'),\n",
       " Synset('window.n.02')]"
      ]
     },
     "execution_count": 17,
     "metadata": {},
     "output_type": "execute_result"
    }
   ],
   "source": [
    "tractor = wn.synsets('tractor')\n",
    "tractor\n",
    "# Definitions of senses\n",
    "\n",
    "[syn.definition() for syn in tractor]\n",
    "# Hypernyms: Relation between a concept and its superordinate\n",
    "\n",
    "tractor = wn.synset('tractor.n.01')\n",
    "tractor.hypernyms()\n",
    "self_propelled_vehicle = wn.synset('self-propelled_vehicle.n.01')\n",
    "self_propelled_vehicle.hypernyms()\n",
    "# Meronyms: Relation between a part and its whole\n",
    "\n",
    "wheeled_vehicle = wn.synset('wheeled_vehicle.n.01')\n",
    "wheeled_vehicle.part_meronyms()\n",
    "# Hyponyms: Relation between a concept and its subordinate\n",
    "\n",
    "wheeled_vehicle.hyponyms()\n",
    "# Holonyms: Relation between whole and its parts\n",
    "\n",
    "axle = wn.synset('axle.n.01')\n",
    "axle.part_holonyms()\n",
    "self_propelled_vehicle.hyponyms()\n",
    "motor_vehicle = wn.synset('motor_vehicle.n.01')\n",
    "motor_vehicle.hyponyms()\n",
    "car = wn.synset('car.n.01')\n",
    "car.part_meronyms()"
   ]
  },
  {
   "cell_type": "code",
   "execution_count": 19,
   "id": "759102a6",
   "metadata": {
    "ExecuteTime": {
     "end_time": "2022-07-09T12:25:36.237719Z",
     "start_time": "2022-07-09T12:25:36.198928Z"
    }
   },
   "outputs": [
    {
     "data": {
      "text/plain": [
       "[Synset('axle.n.01'),\n",
       " Synset('brake.n.01'),\n",
       " Synset('splasher.n.01'),\n",
       " Synset('wheel.n.01')]"
      ]
     },
     "execution_count": 19,
     "metadata": {},
     "output_type": "execute_result"
    }
   ],
   "source": [
    "wheeled_vehicle.part_meronyms()\n"
   ]
  },
  {
   "cell_type": "code",
   "execution_count": 20,
   "id": "8b531235",
   "metadata": {
    "ExecuteTime": {
     "end_time": "2022-07-09T12:25:54.490266Z",
     "start_time": "2022-07-09T12:25:54.476231Z"
    }
   },
   "outputs": [
    {
     "data": {
      "text/plain": [
       "[Synset('armored_vehicle.n.01'),\n",
       " Synset('carrier.n.02'),\n",
       " Synset('forklift.n.01'),\n",
       " Synset('locomotive.n.01'),\n",
       " Synset('motor_vehicle.n.01'),\n",
       " Synset('personnel_carrier.n.01'),\n",
       " Synset('reconnaissance_vehicle.n.01'),\n",
       " Synset('recreational_vehicle.n.01'),\n",
       " Synset('streetcar.n.01'),\n",
       " Synset('tracked_vehicle.n.01'),\n",
       " Synset('tractor.n.01'),\n",
       " Synset('weapons_carrier.n.01')]"
      ]
     },
     "execution_count": 20,
     "metadata": {},
     "output_type": "execute_result"
    }
   ],
   "source": [
    "self_propelled_vehicle.hyponyms()\n"
   ]
  },
  {
   "cell_type": "markdown",
   "id": "f6e053af",
   "metadata": {},
   "source": [
    "## analyse varying embeddings from different corpora "
   ]
  },
  {
   "cell_type": "code",
   "execution_count": 3,
   "id": "21af8e74",
   "metadata": {
    "ExecuteTime": {
     "end_time": "2022-10-26T13:58:08.655269Z",
     "start_time": "2022-10-26T13:58:08.637021Z"
    }
   },
   "outputs": [],
   "source": [
    "from nltk.corpus import brown,movie_reviews"
   ]
  },
  {
   "cell_type": "code",
   "execution_count": 4,
   "id": "df08c8d6",
   "metadata": {
    "ExecuteTime": {
     "end_time": "2022-10-26T13:59:39.101003Z",
     "start_time": "2022-10-26T13:59:36.136801Z"
    }
   },
   "outputs": [
    {
     "ename": "NameError",
     "evalue": "name 'Word2Vec' is not defined",
     "output_type": "error",
     "traceback": [
      "\u001b[1;31m---------------------------------------------------------------------------\u001b[0m",
      "\u001b[1;31mNameError\u001b[0m                                 Traceback (most recent call last)",
      "\u001b[1;32mC:\\Users\\PI0322~1\\AppData\\Local\\Temp/ipykernel_11956/3163571001.py\u001b[0m in \u001b[0;36m<module>\u001b[1;34m\u001b[0m\n\u001b[1;32m----> 1\u001b[1;33m \u001b[0mmodel_brown\u001b[0m \u001b[1;33m=\u001b[0m \u001b[0mWord2Vec\u001b[0m\u001b[1;33m(\u001b[0m\u001b[0mbrown\u001b[0m\u001b[1;33m.\u001b[0m\u001b[0msents\u001b[0m\u001b[1;33m(\u001b[0m\u001b[1;33m)\u001b[0m\u001b[1;33m,\u001b[0m\u001b[0msg\u001b[0m\u001b[1;33m=\u001b[0m\u001b[1;36m1\u001b[0m\u001b[1;33m)\u001b[0m\u001b[1;33m\u001b[0m\u001b[1;33m\u001b[0m\u001b[0m\n\u001b[0m\u001b[0;32m      2\u001b[0m \u001b[0mmodel_movie\u001b[0m \u001b[1;33m=\u001b[0m \u001b[0mWord2Vec\u001b[0m\u001b[1;33m(\u001b[0m\u001b[0mmovie_reviews\u001b[0m\u001b[1;33m.\u001b[0m\u001b[0msents\u001b[0m\u001b[1;33m(\u001b[0m\u001b[1;33m)\u001b[0m\u001b[1;33m,\u001b[0m\u001b[0msg\u001b[0m \u001b[1;33m=\u001b[0m\u001b[1;36m1\u001b[0m\u001b[1;33m,\u001b[0m \u001b[0mwindow\u001b[0m \u001b[1;33m=\u001b[0m \u001b[1;36m5\u001b[0m\u001b[1;33m)\u001b[0m\u001b[1;33m\u001b[0m\u001b[1;33m\u001b[0m\u001b[0m\n",
      "\u001b[1;31mNameError\u001b[0m: name 'Word2Vec' is not defined"
     ]
    }
   ],
   "source": [
    "model_brown = Word2Vec(brown.sents(),sg=1)\n",
    "model_movie = Word2Vec(movie_reviews.sents(),sg =1, window = 5)"
   ]
  },
  {
   "cell_type": "code",
   "execution_count": 5,
   "id": "7356364a",
   "metadata": {
    "ExecuteTime": {
     "end_time": "2022-10-26T14:00:20.698233Z",
     "start_time": "2022-10-26T14:00:20.667409Z"
    }
   },
   "outputs": [
    {
     "ename": "NameError",
     "evalue": "name 'model_brown' is not defined",
     "output_type": "error",
     "traceback": [
      "\u001b[1;31m---------------------------------------------------------------------------\u001b[0m",
      "\u001b[1;31mNameError\u001b[0m                                 Traceback (most recent call last)",
      "\u001b[1;32mC:\\Users\\PI0322~1\\AppData\\Local\\Temp/ipykernel_11956/2608591035.py\u001b[0m in \u001b[0;36m<module>\u001b[1;34m\u001b[0m\n\u001b[1;32m----> 1\u001b[1;33m \u001b[0mmodel_brown\u001b[0m\u001b[1;33m.\u001b[0m\u001b[0mwv\u001b[0m\u001b[1;33m.\u001b[0m\u001b[0mmost_similar\u001b[0m\u001b[1;33m(\u001b[0m\u001b[1;34m'money'\u001b[0m\u001b[1;33m,\u001b[0m\u001b[0mtopn\u001b[0m\u001b[1;33m=\u001b[0m \u001b[1;36m5\u001b[0m\u001b[1;33m)\u001b[0m\u001b[1;33m\u001b[0m\u001b[1;33m\u001b[0m\u001b[0m\n\u001b[0m",
      "\u001b[1;31mNameError\u001b[0m: name 'model_brown' is not defined"
     ]
    }
   ],
   "source": [
    "model_brown.wv.most_similar('money',topn= 5)"
   ]
  },
  {
   "cell_type": "code",
   "execution_count": null,
   "id": "e55c2c8c",
   "metadata": {},
   "outputs": [],
   "source": []
  }
 ],
 "metadata": {
  "kernelspec": {
   "display_name": "Python 3 (ipykernel)",
   "language": "python",
   "name": "python3"
  },
  "language_info": {
   "codemirror_mode": {
    "name": "ipython",
    "version": 3
   },
   "file_extension": ".py",
   "mimetype": "text/x-python",
   "name": "python",
   "nbconvert_exporter": "python",
   "pygments_lexer": "ipython3",
   "version": "3.9.7"
  },
  "toc": {
   "base_numbering": 1,
   "nav_menu": {},
   "number_sections": true,
   "sideBar": true,
   "skip_h1_title": false,
   "title_cell": "Table of Contents",
   "title_sidebar": "Contents",
   "toc_cell": false,
   "toc_position": {},
   "toc_section_display": true,
   "toc_window_display": true
  }
 },
 "nbformat": 4,
 "nbformat_minor": 5
}
