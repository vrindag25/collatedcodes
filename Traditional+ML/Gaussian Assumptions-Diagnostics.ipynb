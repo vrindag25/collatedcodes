{
 "cells": [
  {
   "cell_type": "code",
   "execution_count": 1,
   "metadata": {
    "ExecuteTime": {
     "end_time": "2021-05-11T06:01:54.193413Z",
     "start_time": "2021-05-11T06:01:54.187450Z"
    }
   },
   "outputs": [],
   "source": [
    "%matplotlib inline\n",
    "from statsmodels.compat import lzip\n",
    "\n",
    "import numpy as np\n",
    "import pandas as pd\n",
    "import statsmodels.formula.api as smf\n",
    "import statsmodels.stats.api as sms\n",
    "import matplotlib.pyplot as plt\n"
   ]
  },
  {
   "cell_type": "code",
   "execution_count": 4,
   "metadata": {
    "ExecuteTime": {
     "end_time": "2021-05-11T06:01:59.399173Z",
     "start_time": "2021-05-11T06:01:59.204365Z"
    }
   },
   "outputs": [
    {
     "data": {
      "text/html": [
       "<div>\n",
       "<style scoped>\n",
       "    .dataframe tbody tr th:only-of-type {\n",
       "        vertical-align: middle;\n",
       "    }\n",
       "\n",
       "    .dataframe tbody tr th {\n",
       "        vertical-align: top;\n",
       "    }\n",
       "\n",
       "    .dataframe thead th {\n",
       "        text-align: right;\n",
       "    }\n",
       "</style>\n",
       "<table border=\"1\" class=\"dataframe\">\n",
       "  <thead>\n",
       "    <tr style=\"text-align: right;\">\n",
       "      <th></th>\n",
       "      <th>dept</th>\n",
       "      <th>Region</th>\n",
       "      <th>Department</th>\n",
       "      <th>Crime_pers</th>\n",
       "      <th>Crime_prop</th>\n",
       "      <th>Literacy</th>\n",
       "      <th>Donations</th>\n",
       "      <th>Infants</th>\n",
       "      <th>Suicides</th>\n",
       "      <th>MainCity</th>\n",
       "      <th>...</th>\n",
       "      <th>Crime_parents</th>\n",
       "      <th>Infanticide</th>\n",
       "      <th>Donation_clergy</th>\n",
       "      <th>Lottery</th>\n",
       "      <th>Desertion</th>\n",
       "      <th>Instruction</th>\n",
       "      <th>Prostitutes</th>\n",
       "      <th>Distance</th>\n",
       "      <th>Area</th>\n",
       "      <th>Pop1831</th>\n",
       "    </tr>\n",
       "  </thead>\n",
       "  <tbody>\n",
       "    <tr>\n",
       "      <th>0</th>\n",
       "      <td>1</td>\n",
       "      <td>E</td>\n",
       "      <td>Ain</td>\n",
       "      <td>28870</td>\n",
       "      <td>15890</td>\n",
       "      <td>37</td>\n",
       "      <td>5098</td>\n",
       "      <td>33120</td>\n",
       "      <td>35039</td>\n",
       "      <td>2:Med</td>\n",
       "      <td>...</td>\n",
       "      <td>71</td>\n",
       "      <td>60</td>\n",
       "      <td>69</td>\n",
       "      <td>41</td>\n",
       "      <td>55</td>\n",
       "      <td>46</td>\n",
       "      <td>13</td>\n",
       "      <td>218.372</td>\n",
       "      <td>5762</td>\n",
       "      <td>346.03</td>\n",
       "    </tr>\n",
       "    <tr>\n",
       "      <th>1</th>\n",
       "      <td>2</td>\n",
       "      <td>N</td>\n",
       "      <td>Aisne</td>\n",
       "      <td>26226</td>\n",
       "      <td>5521</td>\n",
       "      <td>51</td>\n",
       "      <td>8901</td>\n",
       "      <td>14572</td>\n",
       "      <td>12831</td>\n",
       "      <td>2:Med</td>\n",
       "      <td>...</td>\n",
       "      <td>4</td>\n",
       "      <td>82</td>\n",
       "      <td>36</td>\n",
       "      <td>38</td>\n",
       "      <td>82</td>\n",
       "      <td>24</td>\n",
       "      <td>327</td>\n",
       "      <td>65.945</td>\n",
       "      <td>7369</td>\n",
       "      <td>513.00</td>\n",
       "    </tr>\n",
       "    <tr>\n",
       "      <th>2</th>\n",
       "      <td>3</td>\n",
       "      <td>C</td>\n",
       "      <td>Allier</td>\n",
       "      <td>26747</td>\n",
       "      <td>7925</td>\n",
       "      <td>13</td>\n",
       "      <td>10973</td>\n",
       "      <td>17044</td>\n",
       "      <td>114121</td>\n",
       "      <td>2:Med</td>\n",
       "      <td>...</td>\n",
       "      <td>46</td>\n",
       "      <td>42</td>\n",
       "      <td>76</td>\n",
       "      <td>66</td>\n",
       "      <td>16</td>\n",
       "      <td>85</td>\n",
       "      <td>34</td>\n",
       "      <td>161.927</td>\n",
       "      <td>7340</td>\n",
       "      <td>298.26</td>\n",
       "    </tr>\n",
       "    <tr>\n",
       "      <th>3</th>\n",
       "      <td>4</td>\n",
       "      <td>E</td>\n",
       "      <td>Basses-Alpes</td>\n",
       "      <td>12935</td>\n",
       "      <td>7289</td>\n",
       "      <td>46</td>\n",
       "      <td>2733</td>\n",
       "      <td>23018</td>\n",
       "      <td>14238</td>\n",
       "      <td>1:Sm</td>\n",
       "      <td>...</td>\n",
       "      <td>70</td>\n",
       "      <td>12</td>\n",
       "      <td>37</td>\n",
       "      <td>80</td>\n",
       "      <td>32</td>\n",
       "      <td>29</td>\n",
       "      <td>2</td>\n",
       "      <td>351.399</td>\n",
       "      <td>6925</td>\n",
       "      <td>155.90</td>\n",
       "    </tr>\n",
       "    <tr>\n",
       "      <th>4</th>\n",
       "      <td>5</td>\n",
       "      <td>E</td>\n",
       "      <td>Hautes-Alpes</td>\n",
       "      <td>17488</td>\n",
       "      <td>8174</td>\n",
       "      <td>69</td>\n",
       "      <td>6962</td>\n",
       "      <td>23076</td>\n",
       "      <td>16171</td>\n",
       "      <td>1:Sm</td>\n",
       "      <td>...</td>\n",
       "      <td>22</td>\n",
       "      <td>23</td>\n",
       "      <td>64</td>\n",
       "      <td>79</td>\n",
       "      <td>35</td>\n",
       "      <td>7</td>\n",
       "      <td>1</td>\n",
       "      <td>320.280</td>\n",
       "      <td>5549</td>\n",
       "      <td>129.10</td>\n",
       "    </tr>\n",
       "    <tr>\n",
       "      <th>...</th>\n",
       "      <td>...</td>\n",
       "      <td>...</td>\n",
       "      <td>...</td>\n",
       "      <td>...</td>\n",
       "      <td>...</td>\n",
       "      <td>...</td>\n",
       "      <td>...</td>\n",
       "      <td>...</td>\n",
       "      <td>...</td>\n",
       "      <td>...</td>\n",
       "      <td>...</td>\n",
       "      <td>...</td>\n",
       "      <td>...</td>\n",
       "      <td>...</td>\n",
       "      <td>...</td>\n",
       "      <td>...</td>\n",
       "      <td>...</td>\n",
       "      <td>...</td>\n",
       "      <td>...</td>\n",
       "      <td>...</td>\n",
       "      <td>...</td>\n",
       "    </tr>\n",
       "    <tr>\n",
       "      <th>81</th>\n",
       "      <td>86</td>\n",
       "      <td>W</td>\n",
       "      <td>Vienne</td>\n",
       "      <td>15010</td>\n",
       "      <td>4710</td>\n",
       "      <td>25</td>\n",
       "      <td>8922</td>\n",
       "      <td>35224</td>\n",
       "      <td>21851</td>\n",
       "      <td>2:Med</td>\n",
       "      <td>...</td>\n",
       "      <td>20</td>\n",
       "      <td>1</td>\n",
       "      <td>44</td>\n",
       "      <td>40</td>\n",
       "      <td>38</td>\n",
       "      <td>65</td>\n",
       "      <td>18</td>\n",
       "      <td>170.523</td>\n",
       "      <td>6990</td>\n",
       "      <td>282.73</td>\n",
       "    </tr>\n",
       "    <tr>\n",
       "      <th>82</th>\n",
       "      <td>87</td>\n",
       "      <td>C</td>\n",
       "      <td>Haute-Vienne</td>\n",
       "      <td>16256</td>\n",
       "      <td>6402</td>\n",
       "      <td>13</td>\n",
       "      <td>13817</td>\n",
       "      <td>19940</td>\n",
       "      <td>33497</td>\n",
       "      <td>2:Med</td>\n",
       "      <td>...</td>\n",
       "      <td>68</td>\n",
       "      <td>6</td>\n",
       "      <td>78</td>\n",
       "      <td>55</td>\n",
       "      <td>11</td>\n",
       "      <td>84</td>\n",
       "      <td>7</td>\n",
       "      <td>198.874</td>\n",
       "      <td>5520</td>\n",
       "      <td>285.13</td>\n",
       "    </tr>\n",
       "    <tr>\n",
       "      <th>83</th>\n",
       "      <td>88</td>\n",
       "      <td>E</td>\n",
       "      <td>Vosges</td>\n",
       "      <td>18835</td>\n",
       "      <td>9044</td>\n",
       "      <td>62</td>\n",
       "      <td>4040</td>\n",
       "      <td>14978</td>\n",
       "      <td>33029</td>\n",
       "      <td>2:Med</td>\n",
       "      <td>...</td>\n",
       "      <td>58</td>\n",
       "      <td>34</td>\n",
       "      <td>5</td>\n",
       "      <td>14</td>\n",
       "      <td>85</td>\n",
       "      <td>11</td>\n",
       "      <td>43</td>\n",
       "      <td>174.477</td>\n",
       "      <td>5874</td>\n",
       "      <td>397.99</td>\n",
       "    </tr>\n",
       "    <tr>\n",
       "      <th>84</th>\n",
       "      <td>89</td>\n",
       "      <td>C</td>\n",
       "      <td>Yonne</td>\n",
       "      <td>18006</td>\n",
       "      <td>6516</td>\n",
       "      <td>47</td>\n",
       "      <td>4276</td>\n",
       "      <td>16616</td>\n",
       "      <td>12789</td>\n",
       "      <td>2:Med</td>\n",
       "      <td>...</td>\n",
       "      <td>32</td>\n",
       "      <td>22</td>\n",
       "      <td>35</td>\n",
       "      <td>51</td>\n",
       "      <td>66</td>\n",
       "      <td>27</td>\n",
       "      <td>272</td>\n",
       "      <td>81.797</td>\n",
       "      <td>7427</td>\n",
       "      <td>352.49</td>\n",
       "    </tr>\n",
       "    <tr>\n",
       "      <th>85</th>\n",
       "      <td>200</td>\n",
       "      <td>NaN</td>\n",
       "      <td>Corse</td>\n",
       "      <td>2199</td>\n",
       "      <td>4589</td>\n",
       "      <td>49</td>\n",
       "      <td>37015</td>\n",
       "      <td>24743</td>\n",
       "      <td>37016</td>\n",
       "      <td>2:Med</td>\n",
       "      <td>...</td>\n",
       "      <td>81</td>\n",
       "      <td>2</td>\n",
       "      <td>84</td>\n",
       "      <td>83</td>\n",
       "      <td>9</td>\n",
       "      <td>25</td>\n",
       "      <td>1</td>\n",
       "      <td>539.213</td>\n",
       "      <td>8680</td>\n",
       "      <td>195.41</td>\n",
       "    </tr>\n",
       "  </tbody>\n",
       "</table>\n",
       "<p>86 rows × 23 columns</p>\n",
       "</div>"
      ],
      "text/plain": [
       "    dept Region    Department  Crime_pers  Crime_prop  Literacy  Donations  \\\n",
       "0      1      E           Ain       28870       15890        37       5098   \n",
       "1      2      N         Aisne       26226        5521        51       8901   \n",
       "2      3      C        Allier       26747        7925        13      10973   \n",
       "3      4      E  Basses-Alpes       12935        7289        46       2733   \n",
       "4      5      E  Hautes-Alpes       17488        8174        69       6962   \n",
       "..   ...    ...           ...         ...         ...       ...        ...   \n",
       "81    86      W        Vienne       15010        4710        25       8922   \n",
       "82    87      C  Haute-Vienne       16256        6402        13      13817   \n",
       "83    88      E        Vosges       18835        9044        62       4040   \n",
       "84    89      C         Yonne       18006        6516        47       4276   \n",
       "85   200    NaN         Corse        2199        4589        49      37015   \n",
       "\n",
       "    Infants  Suicides MainCity  ...  Crime_parents  Infanticide  \\\n",
       "0     33120     35039    2:Med  ...             71           60   \n",
       "1     14572     12831    2:Med  ...              4           82   \n",
       "2     17044    114121    2:Med  ...             46           42   \n",
       "3     23018     14238     1:Sm  ...             70           12   \n",
       "4     23076     16171     1:Sm  ...             22           23   \n",
       "..      ...       ...      ...  ...            ...          ...   \n",
       "81    35224     21851    2:Med  ...             20            1   \n",
       "82    19940     33497    2:Med  ...             68            6   \n",
       "83    14978     33029    2:Med  ...             58           34   \n",
       "84    16616     12789    2:Med  ...             32           22   \n",
       "85    24743     37016    2:Med  ...             81            2   \n",
       "\n",
       "    Donation_clergy  Lottery  Desertion  Instruction  Prostitutes  Distance  \\\n",
       "0                69       41         55           46           13   218.372   \n",
       "1                36       38         82           24          327    65.945   \n",
       "2                76       66         16           85           34   161.927   \n",
       "3                37       80         32           29            2   351.399   \n",
       "4                64       79         35            7            1   320.280   \n",
       "..              ...      ...        ...          ...          ...       ...   \n",
       "81               44       40         38           65           18   170.523   \n",
       "82               78       55         11           84            7   198.874   \n",
       "83                5       14         85           11           43   174.477   \n",
       "84               35       51         66           27          272    81.797   \n",
       "85               84       83          9           25            1   539.213   \n",
       "\n",
       "    Area  Pop1831  \n",
       "0   5762   346.03  \n",
       "1   7369   513.00  \n",
       "2   7340   298.26  \n",
       "3   6925   155.90  \n",
       "4   5549   129.10  \n",
       "..   ...      ...  \n",
       "81  6990   282.73  \n",
       "82  5520   285.13  \n",
       "83  5874   397.99  \n",
       "84  7427   352.49  \n",
       "85  8680   195.41  \n",
       "\n",
       "[86 rows x 23 columns]"
      ]
     },
     "execution_count": 4,
     "metadata": {},
     "output_type": "execute_result"
    }
   ],
   "source": [
    "# Load data\n",
    "url = 'https://raw.githubusercontent.com/vincentarelbundock/Rdatasets/master/csv/HistData/Guerry.csv'\n",
    "dat = pd.read_csv(url)\n",
    "\n",
    "dat.iloc[:,1:]"
   ]
  },
  {
   "cell_type": "code",
   "execution_count": 5,
   "metadata": {
    "ExecuteTime": {
     "end_time": "2021-05-11T06:00:43.885833Z",
     "start_time": "2021-05-11T06:00:43.835963Z"
    }
   },
   "outputs": [
    {
     "name": "stdout",
     "output_type": "stream",
     "text": [
      "                            OLS Regression Results                            \n",
      "==============================================================================\n",
      "Dep. Variable:                Lottery   R-squared:                       0.348\n",
      "Model:                            OLS   Adj. R-squared:                  0.333\n",
      "Method:                 Least Squares   F-statistic:                     22.20\n",
      "Date:                Wed, 02 Mar 2022   Prob (F-statistic):           1.90e-08\n",
      "Time:                        16:42:53   Log-Likelihood:                -379.82\n",
      "No. Observations:                  86   AIC:                             765.6\n",
      "Df Residuals:                      83   BIC:                             773.0\n",
      "Df Model:                           2                                         \n",
      "Covariance Type:            nonrobust                                         \n",
      "===================================================================================\n",
      "                      coef    std err          t      P>|t|      [0.025      0.975]\n",
      "-----------------------------------------------------------------------------------\n",
      "Intercept         246.4341     35.233      6.995      0.000     176.358     316.510\n",
      "Literacy           -0.4889      0.128     -3.832      0.000      -0.743      -0.235\n",
      "np.log(Pop1831)   -31.3114      5.977     -5.239      0.000     -43.199     -19.424\n",
      "==============================================================================\n",
      "Omnibus:                        3.713   Durbin-Watson:                   2.019\n",
      "Prob(Omnibus):                  0.156   Jarque-Bera (JB):                3.394\n",
      "Skew:                          -0.487   Prob(JB):                        0.183\n",
      "Kurtosis:                       3.003   Cond. No.                         702.\n",
      "==============================================================================\n",
      "\n",
      "Notes:\n",
      "[1] Standard Errors assume that the covariance matrix of the errors is correctly specified.\n"
     ]
    }
   ],
   "source": [
    "# Fit regression model (using the natural log of one of the regressors)\n",
    "results = smf.ols('Lottery ~ Literacy + np.log(Pop1831)', data=dat).fit()\n",
    "\n",
    "# Inspect the results\n",
    "print(results.summary())"
   ]
  },
  {
   "cell_type": "markdown",
   "metadata": {},
   "source": [
    "# Linearity & Equal variance"
   ]
  },
  {
   "cell_type": "code",
   "execution_count": 4,
   "metadata": {
    "ExecuteTime": {
     "end_time": "2021-05-11T06:00:44.755090Z",
     "start_time": "2021-05-11T06:00:44.551060Z"
    }
   },
   "outputs": [
    {
     "data": {
      "image/png": "[encoded data removed]",
      "text/plain": [
       "<Figure size 432x180 with 1 Axes>"
      ]
     },
     "metadata": {
      "needs_background": "light"
     },
     "output_type": "display_data"
    }
   ],
   "source": [
    "# dat['Lottery'].values\n",
    "# results.fittedvalues\n",
    "\n",
    "# Both can be tested by plotting residuals vs. predictions, where residuals are prediction errors.\n",
    "# the model does not meet the linear model assumption, we would expect to see residuals that are very large \n",
    "# (big positive value or big negative value). To assess the assumption of linearity we want to ensure that the \n",
    "# residuals are not too far away from 0 (standardized values less than -2 or greater than 2 are deemed problematic). \n",
    "# To assess if the homoscedasticity assumption is met we look to make \n",
    "#sure that there is no pattern in the residuals and that they are equally spread around the y = 0 line.\n",
    "\n",
    "pred_val = results.fittedvalues.copy()\n",
    "true_val = dat['Lottery'].values.copy()\n",
    "residual = true_val - pred_val\n",
    "\n",
    "fig, ax = plt.subplots(figsize=(6,2.5))\n",
    "_ = ax.scatter(residual, pred_val)"
   ]
  },
  {
   "cell_type": "code",
   "execution_count": 5,
   "metadata": {
    "ExecuteTime": {
     "end_time": "2021-05-11T06:00:45.027521Z",
     "start_time": "2021-05-11T06:00:45.018516Z"
    }
   },
   "outputs": [
    {
     "data": {
      "text/plain": [
       "[('t value', -1.0796490077806065), ('p value', 0.2834639247548736)]"
      ]
     },
     "execution_count": 5,
     "metadata": {},
     "output_type": "execute_result"
    }
   ],
   "source": [
    "#Linearity\n",
    "#Harvey-Collier multiplier test for Null hypothesis that the linear specification is correct:\n",
    "\n",
    "name = ['t value', 'p value']\n",
    "test = sms.linear_harvey_collier(results)\n",
    "lzip(name, test)"
   ]
  },
  {
   "cell_type": "markdown",
   "metadata": {},
   "source": [
    "# Other statistical heteroskedasticity tests"
   ]
  },
  {
   "cell_type": "code",
   "execution_count": 6,
   "metadata": {
    "ExecuteTime": {
     "end_time": "2021-05-11T06:00:45.796155Z",
     "start_time": "2021-05-11T06:00:45.775217Z"
    }
   },
   "outputs": [
    {
     "name": "stdout",
     "output_type": "stream",
     "text": [
      "Breush-Pagan test: [('Lagrange multiplier statistic', 4.8932133740939765), ('p-value', 0.08658690502352126), ('f-value', 2.5037159462564453), ('f p-value', 0.08794028782672943)] \n",
      "\n",
      "Goldfeld-Quandt test [('F statistic', 1.1002422436378143), ('p-value', 0.38202950686925324)]\n"
     ]
    }
   ],
   "source": [
    "# Breush-Pagan test:\n",
    "\n",
    "name = ['Lagrange multiplier statistic', 'p-value',\n",
    "        'f-value', 'f p-value']\n",
    "test = sms.het_breuschpagan(results.resid, results.model.exog)\n",
    "print('Breush-Pagan test:', lzip(name, test), '\\n')\n",
    "\n",
    "#Goldfeld-Quandt test\n",
    "\n",
    "name = ['F statistic', 'p-value']\n",
    "test = sms.het_goldfeldquandt(results.resid, results.model.exog)\n",
    "print('Goldfeld-Quandt test', lzip(name, test))"
   ]
  },
  {
   "cell_type": "markdown",
   "metadata": {},
   "source": [
    "# Normality of the residuals"
   ]
  },
  {
   "cell_type": "code",
   "execution_count": 7,
   "metadata": {
    "ExecuteTime": {
     "end_time": "2021-05-11T06:00:49.465909Z",
     "start_time": "2021-05-11T06:00:49.458944Z"
    }
   },
   "outputs": [
    {
     "data": {
      "text/plain": [
       "[('Jarque-Bera', 3.3936080248431613),\n",
       " ('Chi^2 two-tail prob.', 0.18326831231663415),\n",
       " ('Skew', -0.48658034311223336),\n",
       " ('Kurtosis', 3.0034177578816315)]"
      ]
     },
     "execution_count": 7,
     "metadata": {},
     "output_type": "execute_result"
    }
   ],
   "source": [
    "#Jarque-Bera test:\n",
    "# a large J-B value indicates that errors are not normally distributed.\n",
    "# a result of 1 means that the null hypothesis has been rejected at the 5% significance level. \n",
    "# In other words, the data does not come from a normal distribution.\n",
    "\n",
    "name = ['Jarque-Bera', 'Chi^2 two-tail prob.', 'Skew', 'Kurtosis']\n",
    "test = sms.jarque_bera(results.resid)\n",
    "lzip(name, test)"
   ]
  },
  {
   "cell_type": "code",
   "execution_count": 8,
   "metadata": {
    "ExecuteTime": {
     "end_time": "2021-05-11T06:00:49.856181Z",
     "start_time": "2021-05-11T06:00:49.847234Z"
    }
   },
   "outputs": [
    {
     "data": {
      "text/plain": [
       "KstestResult(statistic=0.5006199896997616, pvalue=1.8512242994407678e-20)"
      ]
     },
     "execution_count": 8,
     "metadata": {},
     "output_type": "execute_result"
    }
   ],
   "source": [
    "#Kolmogorov–Smirnov test\n",
    "from scipy import stats\n",
    "stats.kstest(results.resid, 'norm')"
   ]
  },
  {
   "cell_type": "code",
   "execution_count": 9,
   "metadata": {
    "ExecuteTime": {
     "end_time": "2021-05-11T06:00:50.492624Z",
     "start_time": "2021-05-11T06:00:50.283153Z"
    }
   },
   "outputs": [
    {
     "data": {
      "text/plain": [
       "0.9781386782513122"
      ]
     },
     "execution_count": 9,
     "metadata": {},
     "output_type": "execute_result"
    },
    {
     "data": {
      "image/png": "[encoded data removed]",
      "text/plain": [
       "<Figure size 432x180 with 1 Axes>"
      ]
     },
     "metadata": {
      "needs_background": "light"
     },
     "output_type": "display_data"
    }
   ],
   "source": [
    "import scipy as sp\n",
    "\n",
    "fig, ax = plt.subplots(figsize=(6,2.5))\n",
    "_, (__, ___, r) = sp.stats.probplot(residual, plot=ax, fit=True)\n",
    "r**2"
   ]
  },
  {
   "cell_type": "code",
   "execution_count": 10,
   "metadata": {
    "ExecuteTime": {
     "end_time": "2021-05-11T06:00:50.881963Z",
     "start_time": "2021-05-11T06:00:50.855036Z"
    }
   },
   "outputs": [
    {
     "data": {
      "text/plain": [
       "[('Chi^2', 3.713437811597174), ('Two-tail probability', 0.15618424580304888)]"
      ]
     },
     "execution_count": 10,
     "metadata": {},
     "output_type": "execute_result"
    }
   ],
   "source": [
    "#Omni test:\n",
    "name = ['Chi^2', 'Two-tail probability']\n",
    "test = sms.omni_normtest(results.resid)\n",
    "lzip(name, test)"
   ]
  },
  {
   "cell_type": "code",
   "execution_count": 11,
   "metadata": {
    "ExecuteTime": {
     "end_time": "2021-05-11T06:00:51.724193Z",
     "start_time": "2021-05-11T06:00:51.272715Z"
    }
   },
   "outputs": [
    {
     "data": {
      "image/png": "[encoded data removed]",
      "text/plain": [
       "<Figure size 576x432 with 1 Axes>"
      ]
     },
     "metadata": {
      "needs_background": "light"
     },
     "output_type": "display_data"
    }
   ],
   "source": [
    "from statsmodels.graphics.regressionplots import plot_leverage_resid2\n",
    "fig, ax = plt.subplots(figsize=(8,6))\n",
    "fig = plot_leverage_resid2(results, ax = ax)"
   ]
  },
  {
   "cell_type": "code",
   "execution_count": 12,
   "metadata": {
    "ExecuteTime": {
     "end_time": "2021-05-11T06:00:51.871913Z",
     "start_time": "2021-05-11T06:00:51.863942Z"
    }
   },
   "outputs": [
    {
     "data": {
      "text/plain": [
       "702.179214549006"
      ]
     },
     "execution_count": 12,
     "metadata": {},
     "output_type": "execute_result"
    }
   ],
   "source": [
    "#Multicollinearity\n",
    "np.linalg.cond(results.model.exog)"
   ]
  }
 ],
 "metadata": {
  "kernelspec": {
   "display_name": "Python 3 (ipykernel)",
   "language": "python",
   "name": "python3"
  },
  "language_info": {
   "codemirror_mode": {
    "name": "ipython",
    "version": 3
   },
   "file_extension": ".py",
   "mimetype": "text/x-python",
   "name": "python",
   "nbconvert_exporter": "python",
   "pygments_lexer": "ipython3",
   "version": "3.9.7"
  },
  "toc": {
   "base_numbering": 1,
   "nav_menu": {},
   "number_sections": true,
   "sideBar": true,
   "skip_h1_title": false,
   "title_cell": "Table of Contents",
   "title_sidebar": "Contents",
   "toc_cell": false,
   "toc_position": {},
   "toc_section_display": true,
   "toc_window_display": false
  }
 },
 "nbformat": 4,
 "nbformat_minor": 2
}
