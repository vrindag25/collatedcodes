{
 "cells": [
  {
   "cell_type": "markdown",
   "id": "7a252e42",
   "metadata": {},
   "source": [
    "Key Competencies:\n",
    "\n",
    "1. Estimate probabilities using Bayesian modeling​ - Take a series of observations and estimate the prevalence of each data type using data science libraries.\n",
    "https://towardsdatascience.com/estimating-probabilities-with-bayesian-modeling-in-python-7144be007815 \n",
    "2. Linear regression​ - Predict and determine the linear relationship between independent and dependent variables using data science libraries.\n",
    "3. Logistic regression​ - Predict and determine the probability of a binary variable using data science libraries.\n",
    "4. Separate features into different domains - Using a support vector classifier, find a hyperplane that best separates features into different domains using data science libraries.\n",
    "5. Predict labels using decision tree classifier​ - Predict the class or value of a target variable using simple decision rules and data science libraries."
   ]
  },
  {
   "cell_type": "markdown",
   "id": "4b3272f4",
   "metadata": {},
   "source": [
    "# Bayesian Modelling "
   ]
  },
  {
   "cell_type": "markdown",
   "id": "f405713e",
   "metadata": {
    "ExecuteTime": {
     "end_time": "2022-11-01T07:24:16.041447Z",
     "start_time": "2022-11-01T07:24:16.030860Z"
    }
   },
   "source": [
    "https://github.com/WillKoehrsen/probabilistic-programming/blob/master/Estimating%20Probabilities%20with%20Bayesian%20Inference.ipynb"
   ]
  },
  {
   "cell_type": "code",
   "execution_count": null,
   "id": "b0296c6a",
   "metadata": {},
   "outputs": [],
   "source": []
  }
 ],
 "metadata": {
  "kernelspec": {
   "display_name": "Python 3 (ipykernel)",
   "language": "python",
   "name": "python3"
  },
  "language_info": {
   "codemirror_mode": {
    "name": "ipython",
    "version": 3
   },
   "file_extension": ".py",
   "mimetype": "text/x-python",
   "name": "python",
   "nbconvert_exporter": "python",
   "pygments_lexer": "ipython3",
   "version": "3.9.7"
  },
  "toc": {
   "base_numbering": 1,
   "nav_menu": {},
   "number_sections": true,
   "sideBar": true,
   "skip_h1_title": false,
   "title_cell": "Table of Contents",
   "title_sidebar": "Contents",
   "toc_cell": false,
   "toc_position": {},
   "toc_section_display": true,
   "toc_window_display": false
  }
 },
 "nbformat": 4,
 "nbformat_minor": 5
}
