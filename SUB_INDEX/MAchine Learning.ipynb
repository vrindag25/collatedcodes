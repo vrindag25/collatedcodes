{
 "cells": [
  {
   "cell_type": "code",
   "execution_count": null,
   "id": "4046e92e",
   "metadata": {},
   "outputs": [],
   "source": []
  },
  {
   "cell_type": "markdown",
   "id": "db415ab8",
   "metadata": {},
   "source": [
    "1. Feature engineering - Using feature selection, and model selection.\n",
    "2.\tMachine Learning Models - Selecting, using, and optimizing machine learning models.\n",
    "3.\tLibraries - Familiarity with various machine learning libraries such as scipy, sympy, numpy, pandas, scikit-learn, and matplotlib. \n",
    "4.\tWorking with Jupyter Notebook - Launch a Jupyter notebook server and create a new Jupyter notebook. Setting up a machine learning development environment (and associated tools) by launching a Jupyter notebook server from the command line and creating a new notebook.\n",
    "5.\tUCI Machine Learning Repository - Procuring data to use during the machine learning process from the UCI Machine Learning Repository. Data should be downloaded using a Jupyter Notebook.\n",
    "6.\tIngest data and display first 10 observations - Ingesting downloaded data and inspecting that data using libraries such as Pandas, a popular Python machine learning library that provides dataframes.\n",
    "7.\tVisualize data - Visualizing downloaded data using libraries such as Matplotlib, a popular Python machine learning library that provides 2D plotting.\n",
    "8.\tClean and prepare data - Cleaning and preparing data by removing null (or empty) or duplicate observations using libraries such as Pandas, a popular Python machine learning library that provides dataframes.\n",
    "9.\tTransform categorical features to numerical - Transforming data using libraries such as Pandas, a popular Python machine learning library that provides dataframes. For example, converting “True” or “False” values to “1” or “0”, respectively.\n",
    "10.\tDetermine data ratios - Determining data ratios (for binary classification) using Pandas, a popular Python machine learning library that provides dataframes. For example, counting the “True” and “False” observations across a dataset.\n",
    "11.\tTransform features using the One-Hot encoding technique - Transforming categorical features to numerical features using the One-Hot encoding data transformation technique.\n",
    "12.\tCreate new features using feature engineering - Transforming a single feature into multiple features so that a machine can easily find patterns in the data. For example, transforming a date timestamp to month, day of week, and time of day features.\n",
    "13.\tPerform record sampling - Removing observations based on business need and the business problem being solved.\n",
    "14.\tSplit data for training and evaluation purposes - Performing an 80/20 split of data for training and evaluation purposes using Scikit-learn, a machine learning library for Python.\n",
    "15.\tLoad pre-trained machine learning model - Selecting and loading a pre-trained Computer Vision machine learning model from Model Zoo.\n",
    "16.\tRun inference on pre-trained machine learning model - Running inference on a pre-trained machine learning model loaded from Model Zoo.\n",
    "17.\tTrain Machine Learning model from scratch - Training a brand new machine learning model from scratch using Scikit-learn, a machine learning library for Python.\n",
    "18.\tEvaluate the performance of a Machine Learning model - Evaluating the performance of a machine learning model by using Scikit-learn, a machine learning library for Python. For example, test the model’s accuracy by generating and reviewing a Confusion Matrix and a Classification Report.\n",
    "19.\tTune a Machine Learning model - This competency area includes tuning a machine learning model to achieve better performance by adjusting hyperparameters and re-training the model.\n",
    "20.\tDeploy Machine Learning model to Model Zoo - This competency area includes deploying a custom-trained machine learning to Model Zoo for use in production environments.\n",
    "21.\tMonitor Machine Learning model - This competency area includes monitoring a deployed machine learning model to ensure it is operating within expectations. For example, creating an alert when input data hasn’t been seen in the training data.\n"
   ]
  },
  {
   "cell_type": "code",
   "execution_count": null,
   "id": "cce16f59",
   "metadata": {},
   "outputs": [],
   "source": []
  }
 ],
 "metadata": {
  "kernelspec": {
   "display_name": "Python 3 (ipykernel)",
   "language": "python",
   "name": "python3"
  },
  "language_info": {
   "codemirror_mode": {
    "name": "ipython",
    "version": 3
   },
   "file_extension": ".py",
   "mimetype": "text/x-python",
   "name": "python",
   "nbconvert_exporter": "python",
   "pygments_lexer": "ipython3",
   "version": "3.9.7"
  },
  "toc": {
   "base_numbering": 1,
   "nav_menu": {},
   "number_sections": true,
   "sideBar": true,
   "skip_h1_title": false,
   "title_cell": "Table of Contents",
   "title_sidebar": "Contents",
   "toc_cell": false,
   "toc_position": {
    "height": "calc(100% - 180px)",
    "left": "10px",
    "top": "150px",
    "width": "165px"
   },
   "toc_section_display": true,
   "toc_window_display": true
  }
 },
 "nbformat": 4,
 "nbformat_minor": 5
}
