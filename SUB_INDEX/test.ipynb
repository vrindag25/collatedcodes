{
 "cells": [
  {
   "cell_type": "code",
   "execution_count": 1,
   "id": "6ab812c4",
   "metadata": {
    "ExecuteTime": {
     "end_time": "2022-11-15T07:13:35.297579Z",
     "start_time": "2022-11-15T07:13:24.215076Z"
    }
   },
   "outputs": [],
   "source": [
    "# necessary import libraries\n",
    "import datetime\n",
    "import numpy as np\n",
    "from sklearn.linear_model import LinearRegression\n",
    "\n",
    "# utility function\n",
    "def predictMissingHumidity(startDate, endDate, knownTimestamps, humidity, timestamps):\n",
    "    x = [int(abs((datetime.datetime.utcfromtimestamp(0) - datetime.datetime.strptime(item,\"%Y-%m-%d %H:%M\")).total_seconds())) for item in knownTimestamps]\n",
    "    y = humidity\n",
    "\n",
    "    lm = LinearRegression()\n",
    "    lm.fit(np.array(x).reshape(-1,1),y)\n",
    "\n",
    "    z = [int(abs((datetime.datetime.utcfromtimestamp(0) - datetime.datetime.strptime(item,\"%Y-%m-%d %H:%M\")).total_seconds())) for item in timestamps]\n",
    "    return lm.predict(np.array(z).reshape(-1,1))\n",
    "\n",
    "# dummy inputs\n",
    "startDate = '2013-01-01'\n",
    "endDate = '2013-01-01'\n",
    "knownTimestamps = ['2013-01-01 07:00', '2013-01-01 08:00', '2013-01-01 09:00', '2013-01-01 10:00',\n",
    "                      '2013-01-01 11:00', '2013-01-01 12:00']\n",
    "humidity = [10.0, 11.1, 13.2, 14.8, 15.6, 16.7]\n",
    "timestamps= ['2013-01-01 13:00', '2013-01-01 14:00']\n",
    "\n",
    "# call the utility function\n",
    "# answer = predictMissingHumidity(startDate, endDate, knownTimestamps, humidity, timestamps)\n",
    "# print(answer)"
   ]
  },
  {
   "cell_type": "code",
   "execution_count": 4,
   "id": "da5778ee",
   "metadata": {
    "ExecuteTime": {
     "end_time": "2022-11-15T07:15:17.850316Z",
     "start_time": "2022-11-15T07:15:17.823062Z"
    }
   },
   "outputs": [],
   "source": [
    "x = []\n",
    "for item in knownTimestamps:\n",
    "    end  = datetime.datetime(2015, 1, 1, 0, 0)#datetime.datetime.utcfromtimestamp(0)\n",
    "    start = datetime.datetime.strptime(item,\"%Y-%m-%d %H:%M\")\n",
    "    x.append(int(abs((end-start).total_seconds())))\n",
    "y = humidity"
   ]
  },
  {
   "cell_type": "code",
   "execution_count": 5,
   "id": "937795cf",
   "metadata": {
    "ExecuteTime": {
     "end_time": "2022-11-15T07:15:18.387717Z",
     "start_time": "2022-11-15T07:15:18.370714Z"
    }
   },
   "outputs": [
    {
     "data": {
      "text/plain": [
       "(datetime.datetime(2015, 1, 1, 0, 0),\n",
       " datetime.datetime(2013, 1, 1, 12, 0),\n",
       " [63046800, 63043200, 63039600, 63036000, 63032400, 63028800])"
      ]
     },
     "execution_count": 5,
     "metadata": {},
     "output_type": "execute_result"
    }
   ],
   "source": [
    "end,start,x"
   ]
  },
  {
   "cell_type": "code",
   "execution_count": null,
   "id": "6ac0be0d",
   "metadata": {
    "ExecuteTime": {
     "end_time": "2022-11-15T05:54:43.745361Z",
     "start_time": "2022-11-15T05:54:43.726127Z"
    }
   },
   "outputs": [],
   "source": [
    "y"
   ]
  },
  {
   "cell_type": "code",
   "execution_count": 6,
   "id": "2e0f78fd",
   "metadata": {
    "ExecuteTime": {
     "end_time": "2022-11-15T07:15:36.511238Z",
     "start_time": "2022-11-15T07:15:36.314024Z"
    }
   },
   "outputs": [],
   "source": [
    "lm = LinearRegression()\n",
    "lm.fit(np.array(x).reshape(-1,1),y)\n",
    "\n",
    "z = []\n",
    "for item in timestamps:\n",
    "    end  = datetime.datetime(2015, 1, 1, 0, 0)#datetime.datetime.utcfromtimestamp(0)\n",
    "    start = datetime.datetime.strptime(item,\"%Y-%m-%d %H:%M\")\n",
    "    z.append(int(abs((end-start).total_seconds())))\n",
    "\n",
    "pred_z = lm.predict(np.array(z).reshape(-1,1))\n"
   ]
  },
  {
   "cell_type": "code",
   "execution_count": 8,
   "id": "0fe85889",
   "metadata": {
    "ExecuteTime": {
     "end_time": "2022-11-15T07:15:47.041586Z",
     "start_time": "2022-11-15T07:15:47.016768Z"
    }
   },
   "outputs": [
    {
     "data": {
      "text/plain": [
       "([63025200, 63021600], array([18.42666667, 19.8152381 ]))"
      ]
     },
     "execution_count": 8,
     "metadata": {},
     "output_type": "execute_result"
    }
   ],
   "source": [
    "z,pred_z"
   ]
  },
  {
   "cell_type": "code",
   "execution_count": null,
   "id": "ad46a12f",
   "metadata": {
    "ExecuteTime": {
     "end_time": "2022-11-15T06:05:38.121312Z",
     "start_time": "2022-11-15T06:05:38.108627Z"
    }
   },
   "outputs": [],
   "source": [
    "import datetime\n",
    "import numpy as np\n",
    "from sklearn.linear_model import LinearRegression\n",
    "\n",
    "def predictMissingHumidity(startDate, endDate, knownTimestamps, humidity, timestamps):\n",
    "    # Write your code here\n",
    "    x = []\n",
    "    for item in knownTimestamps:\n",
    "        end  = datetime.datetime.utcfromtimestamp(0)\n",
    "        start = datetime.datetime.strptime(item,\"%Y-%m-%d %H:%M\")\n",
    "        x.append(int(abs((end-start).total_seconds())))\n",
    "    y = humidity\n",
    "    lm = LinearRegression()\n",
    "    lm.fit(np.array(x).reshape(-1,1),y)\n",
    "\n",
    "    z = []\n",
    "    for item in timestamps:\n",
    "        end  = datetime.datetime.utcfromtimestamp(0)\n",
    "        start = datetime.datetime.strptime(item,\"%Y-%m-%d %H:%M\")\n",
    "        z.append(int(abs((end-start).total_seconds())))\n",
    "\n",
    "    pred_z = lm.predict(np.array(z).reshape(-1,1))\n",
    "    return(pred_z)\n"
   ]
  },
  {
   "cell_type": "code",
   "execution_count": null,
   "id": "e4093c07",
   "metadata": {},
   "outputs": [],
   "source": [
    "if __name__ == '__main__':\n",
    "    fptr = open(os.environ['OUTPUT_PATH'], 'w')\n",
    "\n",
    "    startDate = input()\n",
    "\n",
    "    endDate = input()\n",
    "\n",
    "    knownTimestamps_count = int(input().strip())\n",
    "\n",
    "    knownTimestamps = []\n",
    "\n",
    "    for _ in range(knownTimestamps_count):\n",
    "        knownTimestamps_item = input()\n",
    "        knownTimestamps.append(knownTimestamps_item)\n",
    "\n",
    "    humidity_count = int(input().strip())\n",
    "\n",
    "    humidity = []\n",
    "\n",
    "    for _ in range(humidity_count):\n",
    "        humidity_item = float(input().strip())\n",
    "        humidity.append(humidity_item)\n",
    "\n",
    "    timestamps_count = int(input().strip())\n",
    "\n",
    "    timestamps = []\n",
    "\n",
    "    for _ in range(timestamps_count):\n",
    "        timestamps_item = input()\n",
    "        timestamps.append(timestamps_item)\n",
    "\n",
    "    result = predictMissingHumidity(startDate, endDate, knownTimestamps, humidity, timestamps)\n",
    "\n",
    "    fptr.write('\\n'.join(map(str, result)))\n",
    "    fptr.write('\\n')\n",
    "\n",
    "    fptr.close()"
   ]
  }
 ],
 "metadata": {
  "kernelspec": {
   "display_name": "Python 3 (ipykernel)",
   "language": "python",
   "name": "python3"
  },
  "language_info": {
   "codemirror_mode": {
    "name": "ipython",
    "version": 3
   },
   "file_extension": ".py",
   "mimetype": "text/x-python",
   "name": "python",
   "nbconvert_exporter": "python",
   "pygments_lexer": "ipython3",
   "version": "3.9.7"
  },
  "toc": {
   "base_numbering": 1,
   "nav_menu": {},
   "number_sections": true,
   "sideBar": true,
   "skip_h1_title": false,
   "title_cell": "Table of Contents",
   "title_sidebar": "Contents",
   "toc_cell": false,
   "toc_position": {},
   "toc_section_display": true,
   "toc_window_display": false
  }
 },
 "nbformat": 4,
 "nbformat_minor": 5
}
